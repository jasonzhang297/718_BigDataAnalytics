{
 "cells": [
  {
   "cell_type": "markdown",
   "metadata": {
    "id": "kNfPaiAQsgBf"
   },
   "source": [
    "##### Grading Feedback Cell"
   ]
  },
  {
   "cell_type": "markdown",
   "metadata": {
    "id": "WmrHfEEjfShT"
   },
   "source": [
    "# Question 0 (-2 If not answered)\n",
    "Please provide the following the data so we can verify your github information and ensure accurate grading:\n",
    "- Your Name: Yunhan Zhang\n",
    "- Your SU ID: 405379315"
   ]
  },
  {
   "cell_type": "markdown",
   "metadata": {
    "id": "svGJOJtifShH"
   },
   "source": [
    "# IST 718: Big Data Analytics\n",
    "\n",
    "- Professors: \n",
    "  - Willard Williamson <wewillia@syr.edu>\n",
    "  - Emory Creel <emcreel@g.syr.edu>\n",
    "- Faculty Assistants: \n",
    "  - Warren Justin Fernandes <wjfernan@syr.edu>\n",
    "  - Ruchita Hiteshkumar Harsora <\trharsora@g.syr.edu>\n",
    "\n",
    "## General instructions:\n",
    "\n",
    "- You are welcome to discuss the problems with your classmates but __you are not allowed to copy any part of your answers from your classmates.  Short code snippets are allowed from the internet.  Code from the class text books or class provided code can be copied in its entirety.__\n",
    "- Google Colab is the official class runtime environment so you should test your code on Colab before submission.\n",
    "- Do not modify cells marked as grading cells or marked as do not modify.\n",
    "- Before submitting your work, remember to check for run time errors with the following procedure:\n",
    "`Runtime `$\\rightarrow$ Factory reset runtime followed by Runtime $\\rightarrow$ Run All.  All runtime errors will result in a minimum penalty of half off.\n",
    "- All plots shall include descriptive title and axis labels.  Plot legends shall be included where possible.  Unless stated otherwise, plots can be made using any Python plotting package.\n",
    "- Grading feedback cells are there for graders to provide feedback to students.  Don't change or remove grading feedback cells.\n",
    "- Don't add or remove files from your git repo.\n",
    "- Do not change file names in your repo.  This also means don't change the title of the ipython notebook.\n",
    "- You are free to add additional code cells around the cells marked `your code here`.\n",
    "- import * is not allowed because it is considered a very bad coding practice and in some cases can result in a significant delay (which slows down the grading process) in loading imports.  For example, the statement `from sympy import *` is not allowed.  You must import the specific packages that you need. \n",
    "- The graders reserve the right to deduct points for subjective things we see with your code.  For example, if we ask you to create a pandas data frame to display values from an investigation and you hard code the values, we will take points off for that.  This is only one of many different things we could find in reviewing your code.  In general, write your code like you are submitting it for a code peer review in industry.  \n",
    "- Level of effort is part of our subjective grading.  For example, in cases where we ask for a more open ended investigation, some students put in significant effort and some students do the minimum possible to meet requirements.  In these cases, we may take points off for students who did not put in much effort as compared to students who put in a lot of effort.  We feel that the students who did a better job deserve a better grade.  We reserve the right to invoke level of effort grading at any time.\n",
    "- Your notebook must run from start to finish without requiring manual input by the graders.  For example, do not mount your personal Google drive in your notebook as this will require graders to perform manual steps.  In short, your notebook should run from start to finish with no runtime errors and no need for graders to perform any manual steps."
   ]
  },
  {
   "cell_type": "code",
   "execution_count": 1,
   "metadata": {
    "id": "BevKDzftfrm-"
   },
   "outputs": [],
   "source": [
    "%%bash\n",
    "# Do not change or modify this cell\n",
    "# Need to install pyspark\n",
    "# if pyspark is already installed, will print a message indicating pyspark already installed\n",
    "pip install pyspark >& /dev/null \n",
    "\n",
    "# Download the data files from github\n",
    "# If the data file does not exist in the colab environment\n",
    "data_file_1=US_Airline_Tweets.csv\n",
    "\n",
    "if [[ ! -f ./${data_file_1} ]]; then \n",
    "   # download the data file from github and save it in this colab environment instance\n",
    "   wget https://raw.githubusercontent.com/wewilli1/ist718_data/master/${data_file_1} >& /dev/null \n",
    "fi"
   ]
  },
  {
   "cell_type": "code",
   "execution_count": 2,
   "metadata": {},
   "outputs": [],
   "source": [
    "from __future__ import division\n",
    "from pyspark.sql import SparkSession\n",
    "from pyspark.ml import feature, regression, evaluation, Pipeline\n",
    "from pyspark.sql import functions as fn, Row\n",
    "from pyspark.sql.functions import regexp_replace\n",
    "import matplotlib.pyplot as plt\n",
    "import glob\n",
    "import subprocess\n",
    "import numpy as np\n",
    "import pandas as pd\n",
    "import os\n",
    "spark = SparkSession.builder.getOrCreate()\n",
    "sc = spark.sparkContext\n",
    "import random\n",
    "import requests\n",
    "from pyspark.ml.feature import StopWordsRemover\n",
    "from pyspark.ml.tuning import ParamGridBuilder\n",
    "from pyspark.ml.feature import CountVectorizer\n",
    "from pyspark.ml.feature import IDF\n",
    "from pyspark.ml.feature import RegexTokenizer\n",
    "from pyspark.ml.feature import IDF\n",
    "from pyspark.sql import functions as fn\n",
    "from pyspark.sql import types\n",
    "from pyspark.ml.classification import LogisticRegression\n",
    "from pyspark.mllib.evaluation import BinaryClassificationMetrics\n",
    "from pyspark.sql.functions import col\n",
    "spark = SparkSession.builder.getOrCreate()"
   ]
  },
  {
   "cell_type": "markdown",
   "metadata": {
    "id": "xVxonwEusgBt"
   },
   "source": [
    "# Sentiment Analysis\n",
    "In this assignment, you will use a twitter US airline dataset to perform sentiment analysis.  Specifically, you will use twitter data to predict the sentiment of tweets related to peoples experience with an airline."
   ]
  },
  {
   "cell_type": "code",
   "execution_count": 3,
   "metadata": {
    "id": "1tYn9Sc_v6-C"
   },
   "outputs": [],
   "source": [
    "# Grading cell\n",
    "# The purpose of the following boolean is to enable or disable grid search (see question 6a).  \n",
    "# During grading we want to turn grid search off.  \n",
    "# You should test your code with grid search set to False before submitting.\n",
    "# Your notebook should run in its entirety without crashing when enable_grid is\n",
    "# set to False before submitting.\n",
    "enable_grid = False"
   ]
  },
  {
   "cell_type": "markdown",
   "metadata": {
    "id": "FZzjDc-QN6E8"
   },
   "source": [
    "##### Grading Feedback Cell"
   ]
  },
  {
   "cell_type": "markdown",
   "metadata": {
    "id": "PlXXgoe3sgBu"
   },
   "source": [
    "# Qustion 1: (10 pts)\n",
    "Read US_Airline_Tweets.csv into a spark dataframe named `tweets_df`.  Drop all columns except airline_sentiment, airline, and text.  Drop rows in which the airline_sentiment column is labeled with a neutral sentiment.  Drop rows which contain NA / Null values in any column. Transform the airline_sentiment column such that a negative sentiment is equal to 0 and a positive sentiment is equal to 1.  This dataset has a lot more negative than positive tweets.  Balance the dataset such that the percentage of negative and positive tweets is roughly 50% each.  Your solution must **randomly sample** the dataset **without replacement** to perform balancing.  Determine and print the resulting percentage of positive and negative tweets in the dataframe such that it's easy for the graders to find and interpret your data."
   ]
  },
  {
   "cell_type": "code",
   "execution_count": 4,
   "metadata": {
    "id": "8Wl62qN9sgBu"
   },
   "outputs": [],
   "source": [
    "# drop columns\n",
    "tweets_df_old = spark.read.csv('US_Airline_Tweets.csv', header=True)\n",
    "tweets_df_withna = tweets_df_old.drop(\"tweet_id\",\"airline_sentiment_confidence\",\"negativereason\",\"negativereason_confidence\",\n",
    "              \"airline_sentiment_gold\",\"name\",\"negativereason_gold\",\"retweet_count\",\"tweet_coord\",\n",
    "              \"tweet_created\",\"tweet_location\",\"user_timezone\")\n",
    "tweets_df_neutral = tweets_df_withna.where(tweets_df_withna.airline_sentiment!=\"neutral\")"
   ]
  },
  {
   "cell_type": "code",
   "execution_count": 5,
   "metadata": {},
   "outputs": [],
   "source": [
    "# drop NA / Null values\n",
    "tweets_df_nona = tweets_df_neutral.na.drop('any')"
   ]
  },
  {
   "cell_type": "code",
   "execution_count": 6,
   "metadata": {},
   "outputs": [],
   "source": [
    "# transform to 0 & 1\n",
    "tweets_df_nona_1 = tweets_df_nona.withColumn('airline_sentiment', regexp_replace('airline_sentiment', 'positive', '1'))\n",
    "tweets_df_unbalance = tweets_df_nona_1.withColumn('airline_sentiment', regexp_replace('airline_sentiment', 'negative', '0'))"
   ]
  },
  {
   "cell_type": "code",
   "execution_count": 7,
   "metadata": {},
   "outputs": [],
   "source": [
    "# balance the dataset\n",
    "tweets_df = tweets_df_unbalance.sampleBy('airline_sentiment',{'0':0.22,'1':0.86},12)"
   ]
  },
  {
   "cell_type": "code",
   "execution_count": 8,
   "metadata": {},
   "outputs": [
    {
     "data": {
      "text/plain": [
       "0.4964625518419127"
      ]
     },
     "execution_count": 8,
     "metadata": {},
     "output_type": "execute_result"
    }
   ],
   "source": [
    "# percentage of positive tweets\n",
    "tweets_df.where(tweets_df.airline_sentiment == '1').count() / 4099"
   ]
  },
  {
   "cell_type": "code",
   "execution_count": 9,
   "metadata": {},
   "outputs": [
    {
     "data": {
      "text/plain": [
       "0.4989021712612832"
      ]
     },
     "execution_count": 9,
     "metadata": {},
     "output_type": "execute_result"
    }
   ],
   "source": [
    "# percentage of negative tweets\n",
    "tweets_df.where(tweets_df.airline_sentiment == '0').count() / 4099"
   ]
  },
  {
   "cell_type": "code",
   "execution_count": 10,
   "metadata": {
    "id": "2G8lflJ6sgBv"
   },
   "outputs": [
    {
     "data": {
      "text/html": [
       "<div>\n",
       "<style scoped>\n",
       "    .dataframe tbody tr th:only-of-type {\n",
       "        vertical-align: middle;\n",
       "    }\n",
       "\n",
       "    .dataframe tbody tr th {\n",
       "        vertical-align: top;\n",
       "    }\n",
       "\n",
       "    .dataframe thead th {\n",
       "        text-align: right;\n",
       "    }\n",
       "</style>\n",
       "<table border=\"1\" class=\"dataframe\">\n",
       "  <thead>\n",
       "    <tr style=\"text-align: right;\">\n",
       "      <th></th>\n",
       "      <th>airline_sentiment</th>\n",
       "      <th>airline</th>\n",
       "      <th>text</th>\n",
       "    </tr>\n",
       "  </thead>\n",
       "  <tbody>\n",
       "    <tr>\n",
       "      <th>0</th>\n",
       "      <td>1</td>\n",
       "      <td>Virgin America</td>\n",
       "      <td>@VirginAmerica plus you've added commercials t...</td>\n",
       "    </tr>\n",
       "    <tr>\n",
       "      <th>1</th>\n",
       "      <td>0</td>\n",
       "      <td>Virgin America</td>\n",
       "      <td>@VirginAmerica seriously would pay $30 a fligh...</td>\n",
       "    </tr>\n",
       "    <tr>\n",
       "      <th>2</th>\n",
       "      <td>1</td>\n",
       "      <td>Virgin America</td>\n",
       "      <td>@VirginAmerica yes, nearly every time I fly VX...</td>\n",
       "    </tr>\n",
       "    <tr>\n",
       "      <th>3</th>\n",
       "      <td>1</td>\n",
       "      <td>Virgin America</td>\n",
       "      <td>@virginamerica Well, I didn't…but NOW I DO! :-D</td>\n",
       "    </tr>\n",
       "    <tr>\n",
       "      <th>4</th>\n",
       "      <td>1</td>\n",
       "      <td>Virgin America</td>\n",
       "      <td>@VirginAmerica it was amazing, and arrived an ...</td>\n",
       "    </tr>\n",
       "  </tbody>\n",
       "</table>\n",
       "</div>"
      ],
      "text/plain": [
       "  airline_sentiment         airline  \\\n",
       "0                 1  Virgin America   \n",
       "1                 0  Virgin America   \n",
       "2                 1  Virgin America   \n",
       "3                 1  Virgin America   \n",
       "4                 1  Virgin America   \n",
       "\n",
       "                                                text  \n",
       "0  @VirginAmerica plus you've added commercials t...  \n",
       "1  @VirginAmerica seriously would pay $30 a fligh...  \n",
       "2  @VirginAmerica yes, nearly every time I fly VX...  \n",
       "3    @virginamerica Well, I didn't…but NOW I DO! :-D  \n",
       "4  @VirginAmerica it was amazing, and arrived an ...  "
      ]
     },
     "metadata": {},
     "output_type": "display_data"
    },
    {
     "name": "stdout",
     "output_type": "stream",
     "text": [
      "(4080, 3)\n"
     ]
    }
   ],
   "source": [
    "# grading cell do not modify\n",
    "tweets_pd = tweets_df.toPandas()\n",
    "display(tweets_pd.head())\n",
    "print(tweets_pd.shape)"
   ]
  },
  {
   "cell_type": "markdown",
   "metadata": {
    "id": "T8SRU7ZPsgBw"
   },
   "source": [
    "##### Grading Feedback Cell"
   ]
  },
  {
   "cell_type": "markdown",
   "metadata": {
    "id": "gmTNjNPtsgBw"
   },
   "source": [
    "# Question 2: (10 pts)\n",
    "Pre-process the data by creating a pipeline named `tweets_pre_proc_pipe`. Your pipeline should tokenize, remove stop words, and do a TF-IDF transformation.  Fit and execute your pipeline, and create a new dataframe named `tweets_pre_proc_df`.  Print the shape of the resulting TF-IDF data such that it's easy for the graders to find and understand as num rows x num words. Based on the shape of the TF-IDF data, would you expect a logistic regression model to overfit?"
   ]
  },
  {
   "cell_type": "code",
   "execution_count": 11,
   "metadata": {},
   "outputs": [],
   "source": [
    "tokenizer = RegexTokenizer().setGaps(False)\\\n",
    "  .setPattern(\"\\\\p{L}+\")\\\n",
    "  .setInputCol(\"text\")\\\n",
    "  .setOutputCol(\"words\")"
   ]
  },
  {
   "cell_type": "code",
   "execution_count": 12,
   "metadata": {},
   "outputs": [
    {
     "name": "stdout",
     "output_type": "stream",
     "text": [
      "DataFrame[airline_sentiment: string, airline: string, text: string, words: array<string>]\n"
     ]
    }
   ],
   "source": [
    "review_words_df = tokenizer.transform(tweets_df)\n",
    "print(review_words_df)"
   ]
  },
  {
   "cell_type": "code",
   "execution_count": 13,
   "metadata": {},
   "outputs": [
    {
     "name": "stdout",
     "output_type": "stream",
     "text": [
      "+-----------------+--------------+--------------------+--------------------+\n",
      "|airline_sentiment|       airline|                text|               words|\n",
      "+-----------------+--------------+--------------------+--------------------+\n",
      "|                1|Virgin America|@VirginAmerica pl...|[virginamerica, p...|\n",
      "|                0|Virgin America|@VirginAmerica se...|[virginamerica, s...|\n",
      "|                1|Virgin America|@VirginAmerica ye...|[virginamerica, y...|\n",
      "|                1|Virgin America|@virginamerica We...|[virginamerica, w...|\n",
      "|                1|Virgin America|@VirginAmerica it...|[virginamerica, i...|\n",
      "+-----------------+--------------+--------------------+--------------------+\n",
      "only showing top 5 rows\n",
      "\n"
     ]
    }
   ],
   "source": [
    "review_words_df.show(5)"
   ]
  },
  {
   "cell_type": "code",
   "execution_count": 14,
   "metadata": {
    "id": "aEb3xvK8sgBx"
   },
   "outputs": [
    {
     "data": {
      "text/plain": [
       "['a',\n",
       " 'about',\n",
       " 'above',\n",
       " 'across',\n",
       " 'after',\n",
       " 'afterwards',\n",
       " 'again',\n",
       " 'against',\n",
       " 'all',\n",
       " 'almost']"
      ]
     },
     "execution_count": 14,
     "metadata": {},
     "output_type": "execute_result"
    }
   ],
   "source": [
    "# obtain the stop words from a website\n",
    "stop_words = requests.get('http://ir.dcs.gla.ac.uk/resources/linguistic_utils/stop_words').text.split()\n",
    "stop_words[0:10]"
   ]
  },
  {
   "cell_type": "code",
   "execution_count": 15,
   "metadata": {},
   "outputs": [],
   "source": [
    "sw_filter = StopWordsRemover()\\\n",
    "  .setStopWords(stop_words)\\\n",
    "  .setCaseSensitive(False)\\\n",
    "  .setInputCol(\"words\")\\\n",
    "  .setOutputCol(\"filtered\")"
   ]
  },
  {
   "cell_type": "code",
   "execution_count": 16,
   "metadata": {},
   "outputs": [],
   "source": [
    "cv = CountVectorizer(minTF=1., minDF=5., vocabSize=2**17)\\\n",
    "  .setInputCol(\"filtered\")\\\n",
    "  .setOutputCol(\"tf\")"
   ]
  },
  {
   "cell_type": "code",
   "execution_count": 17,
   "metadata": {},
   "outputs": [],
   "source": [
    "cv_pipeline = Pipeline(stages=[tokenizer, sw_filter, cv]).fit(tweets_df)"
   ]
  },
  {
   "cell_type": "code",
   "execution_count": 18,
   "metadata": {},
   "outputs": [],
   "source": [
    "idf = IDF().\\\n",
    "    setInputCol('tf').\\\n",
    "    setOutputCol('tfidf')"
   ]
  },
  {
   "cell_type": "code",
   "execution_count": 19,
   "metadata": {},
   "outputs": [],
   "source": [
    "tweets_pre_proc_pipe = Pipeline(stages=[cv_pipeline, idf]).fit(tweets_df)"
   ]
  },
  {
   "cell_type": "code",
   "execution_count": 20,
   "metadata": {},
   "outputs": [],
   "source": [
    "tweets_pre_proc_df = tweets_pre_proc_pipe.transform(tweets_df)"
   ]
  },
  {
   "cell_type": "code",
   "execution_count": 21,
   "metadata": {},
   "outputs": [
    {
     "name": "stdout",
     "output_type": "stream",
     "text": [
      "tweets_pre_proc_df shape:  4080 7\n"
     ]
    }
   ],
   "source": [
    "# Print the shape of the resulting TF-IDF data\n",
    "print(\"tweets_pre_proc_df shape: \", tweets_pre_proc_df.count(), len(tweets_pre_proc_df.columns))"
   ]
  },
  {
   "cell_type": "code",
   "execution_count": 22,
   "metadata": {
    "id": "sR-RcabSsgBy"
   },
   "outputs": [
    {
     "name": "stdout",
     "output_type": "stream",
     "text": [
      "+-----------------+--------------+--------------------+--------------------+--------------------+--------------------+--------------------+\n",
      "|airline_sentiment|       airline|                text|               words|            filtered|                  tf|               tfidf|\n",
      "+-----------------+--------------+--------------------+--------------------+--------------------+--------------------+--------------------+\n",
      "|                1|Virgin America|@VirginAmerica pl...|[virginamerica, p...|[virginamerica, p...|(1108,[19,39,77,4...|(1108,[19,39,77,4...|\n",
      "|                0|Virgin America|@VirginAmerica se...|[virginamerica, s...|[virginamerica, s...|(1108,[1,2,19,86,...|(1108,[1,2,19,86,...|\n",
      "|                1|Virgin America|@VirginAmerica ye...|[virginamerica, y...|[virginamerica, y...|(1108,[2,15,19,40...|(1108,[2,15,19,40...|\n",
      "|                1|Virgin America|@virginamerica We...|[virginamerica, w...|[virginamerica, d...|(1108,[2,19,86,89...|(1108,[2,19,86,89...|\n",
      "|                1|Virgin America|@VirginAmerica it...|[virginamerica, i...|[virginamerica, a...|(1108,[19,35,42,7...|(1108,[19,35,42,7...|\n",
      "|                1|Virgin America|@VirginAmerica Th...|[virginamerica, t...|[virginamerica, g...|(1108,[2,16,19,21...|(1108,[2,16,19,21...|\n",
      "|                1|Virgin America|@VirginAmerica @v...|[virginamerica, v...|[virginamerica, v...|(1108,[2,12,18,19...|(1108,[2,12,18,19...|\n",
      "|                1|Virgin America|@VirginAmerica Th...|[virginamerica, t...|[virginamerica, t...|(1108,[7,19],[1.0...|(1108,[7,19],[1.9...|\n",
      "|                1|Virgin America|@VirginAmerica So...|[virginamerica, s...|[virginamerica, e...|(1108,[1,16,19,39...|(1108,[1,16,19,39...|\n",
      "|                0|Virgin America|@VirginAmerica  I...|[virginamerica, i...|[virginamerica, f...|(1108,[2,17,19,74...|(1108,[2,17,19,74...|\n",
      "+-----------------+--------------+--------------------+--------------------+--------------------+--------------------+--------------------+\n",
      "only showing top 10 rows\n",
      "\n"
     ]
    }
   ],
   "source": [
    "# grading cell do not modify\n",
    "tweets_pre_proc_df.show(10)"
   ]
  },
  {
   "cell_type": "code",
   "execution_count": 23,
   "metadata": {},
   "outputs": [
    {
     "data": {
      "text/html": [
       "<div>\n",
       "<style scoped>\n",
       "    .dataframe tbody tr th:only-of-type {\n",
       "        vertical-align: middle;\n",
       "    }\n",
       "\n",
       "    .dataframe tbody tr th {\n",
       "        vertical-align: top;\n",
       "    }\n",
       "\n",
       "    .dataframe thead th {\n",
       "        text-align: right;\n",
       "    }\n",
       "</style>\n",
       "<table border=\"1\" class=\"dataframe\">\n",
       "  <thead>\n",
       "    <tr style=\"text-align: right;\">\n",
       "      <th></th>\n",
       "      <th>airline_sentiment</th>\n",
       "      <th>airline</th>\n",
       "      <th>text</th>\n",
       "      <th>words</th>\n",
       "      <th>filtered</th>\n",
       "      <th>tf</th>\n",
       "      <th>tfidf</th>\n",
       "    </tr>\n",
       "  </thead>\n",
       "  <tbody>\n",
       "    <tr>\n",
       "      <th>0</th>\n",
       "      <td>1</td>\n",
       "      <td>Virgin America</td>\n",
       "      <td>@VirginAmerica plus you've added commercials t...</td>\n",
       "      <td>[virginamerica, plus, you, ve, added, commerci...</td>\n",
       "      <td>[virginamerica, plus, ve, added, commercials, ...</td>\n",
       "      <td>(0.0, 0.0, 0.0, 0.0, 0.0, 0.0, 0.0, 0.0, 0.0, ...</td>\n",
       "      <td>(0.0, 0.0, 0.0, 0.0, 0.0, 0.0, 0.0, 0.0, 0.0, ...</td>\n",
       "    </tr>\n",
       "    <tr>\n",
       "      <th>1</th>\n",
       "      <td>0</td>\n",
       "      <td>Virgin America</td>\n",
       "      <td>@VirginAmerica seriously would pay $30 a fligh...</td>\n",
       "      <td>[virginamerica, seriously, would, pay, a, flig...</td>\n",
       "      <td>[virginamerica, seriously, pay, flight, seats,...</td>\n",
       "      <td>(0.0, 1.0, 1.0, 0.0, 0.0, 0.0, 0.0, 0.0, 0.0, ...</td>\n",
       "      <td>(0.0, 1.543307911496826, 1.6873795861567809, 0...</td>\n",
       "    </tr>\n",
       "    <tr>\n",
       "      <th>2</th>\n",
       "      <td>1</td>\n",
       "      <td>Virgin America</td>\n",
       "      <td>@VirginAmerica yes, nearly every time I fly VX...</td>\n",
       "      <td>[virginamerica, yes, nearly, every, time, i, f...</td>\n",
       "      <td>[virginamerica, yes, nearly, time, fly, vx, ea...</td>\n",
       "      <td>(0.0, 0.0, 1.0, 0.0, 0.0, 0.0, 0.0, 0.0, 0.0, ...</td>\n",
       "      <td>(0.0, 0.0, 1.6873795861567809, 0.0, 0.0, 0.0, ...</td>\n",
       "    </tr>\n",
       "    <tr>\n",
       "      <th>3</th>\n",
       "      <td>1</td>\n",
       "      <td>Virgin America</td>\n",
       "      <td>@virginamerica Well, I didn't…but NOW I DO! :-D</td>\n",
       "      <td>[virginamerica, well, i, didn, t, but, now, i,...</td>\n",
       "      <td>[virginamerica, didn, t, d]</td>\n",
       "      <td>(0.0, 0.0, 1.0, 0.0, 0.0, 0.0, 0.0, 0.0, 0.0, ...</td>\n",
       "      <td>(0.0, 0.0, 1.6873795861567809, 0.0, 0.0, 0.0, ...</td>\n",
       "    </tr>\n",
       "    <tr>\n",
       "      <th>4</th>\n",
       "      <td>1</td>\n",
       "      <td>Virgin America</td>\n",
       "      <td>@VirginAmerica it was amazing, and arrived an ...</td>\n",
       "      <td>[virginamerica, it, was, amazing, and, arrived...</td>\n",
       "      <td>[virginamerica, amazing, arrived, hour, early,...</td>\n",
       "      <td>(0.0, 0.0, 0.0, 0.0, 0.0, 0.0, 0.0, 0.0, 0.0, ...</td>\n",
       "      <td>(0.0, 0.0, 0.0, 0.0, 0.0, 0.0, 0.0, 0.0, 0.0, ...</td>\n",
       "    </tr>\n",
       "    <tr>\n",
       "      <th>...</th>\n",
       "      <td>...</td>\n",
       "      <td>...</td>\n",
       "      <td>...</td>\n",
       "      <td>...</td>\n",
       "      <td>...</td>\n",
       "      <td>...</td>\n",
       "      <td>...</td>\n",
       "    </tr>\n",
       "    <tr>\n",
       "      <th>4075</th>\n",
       "      <td>1</td>\n",
       "      <td>American</td>\n",
       "      <td>@AmericanAir Flight 236 was great. Fantastic c...</td>\n",
       "      <td>[americanair, flight, was, great, fantastic, c...</td>\n",
       "      <td>[americanair, flight, great, fantastic, cabin,...</td>\n",
       "      <td>(0.0, 1.0, 1.0, 0.0, 1.0, 0.0, 0.0, 0.0, 0.0, ...</td>\n",
       "      <td>(0.0, 1.543307911496826, 1.6873795861567809, 0...</td>\n",
       "    </tr>\n",
       "    <tr>\n",
       "      <th>4076</th>\n",
       "      <td>0</td>\n",
       "      <td>American</td>\n",
       "      <td>@AmericanAir Flight 953 NYC-Buenos Aires has b...</td>\n",
       "      <td>[americanair, flight, nyc, buenos, aires, has,...</td>\n",
       "      <td>[americanair, flight, nyc, buenos, aires, dela...</td>\n",
       "      <td>(0.0, 1.0, 0.0, 0.0, 1.0, 0.0, 0.0, 0.0, 0.0, ...</td>\n",
       "      <td>(0.0, 1.543307911496826, 0.0, 0.0, 1.672915165...</td>\n",
       "    </tr>\n",
       "    <tr>\n",
       "      <th>4077</th>\n",
       "      <td>1</td>\n",
       "      <td>American</td>\n",
       "      <td>Thank you. “@AmericanAir: @jlhalldc Customer R...</td>\n",
       "      <td>[thank, you, americanair, jlhalldc, customer, ...</td>\n",
       "      <td>[thank, americanair, jlhalldc, customer, relat...</td>\n",
       "      <td>(0.0, 0.0, 0.0, 0.0, 1.0, 0.0, 0.0, 0.0, 1.0, ...</td>\n",
       "      <td>(0.0, 0.0, 0.0, 0.0, 1.6729151656652144, 0.0, ...</td>\n",
       "    </tr>\n",
       "    <tr>\n",
       "      <th>4078</th>\n",
       "      <td>1</td>\n",
       "      <td>American</td>\n",
       "      <td>@AmericanAir Thanks! He is.</td>\n",
       "      <td>[americanair, thanks, he, is]</td>\n",
       "      <td>[americanair, thanks]</td>\n",
       "      <td>(0.0, 0.0, 0.0, 0.0, 1.0, 0.0, 0.0, 1.0, 0.0, ...</td>\n",
       "      <td>(0.0, 0.0, 0.0, 0.0, 1.6729151656652144, 0.0, ...</td>\n",
       "    </tr>\n",
       "    <tr>\n",
       "      <th>4079</th>\n",
       "      <td>1</td>\n",
       "      <td>American</td>\n",
       "      <td>@AmericanAir thank you we got on a different f...</td>\n",
       "      <td>[americanair, thank, you, we, got, on, a, diff...</td>\n",
       "      <td>[americanair, thank, got, different, flight, c...</td>\n",
       "      <td>(0.0, 1.0, 0.0, 0.0, 1.0, 0.0, 0.0, 0.0, 1.0, ...</td>\n",
       "      <td>(0.0, 1.543307911496826, 0.0, 0.0, 1.672915165...</td>\n",
       "    </tr>\n",
       "  </tbody>\n",
       "</table>\n",
       "<p>4080 rows × 7 columns</p>\n",
       "</div>"
      ],
      "text/plain": [
       "     airline_sentiment         airline  \\\n",
       "0                    1  Virgin America   \n",
       "1                    0  Virgin America   \n",
       "2                    1  Virgin America   \n",
       "3                    1  Virgin America   \n",
       "4                    1  Virgin America   \n",
       "...                ...             ...   \n",
       "4075                 1        American   \n",
       "4076                 0        American   \n",
       "4077                 1        American   \n",
       "4078                 1        American   \n",
       "4079                 1        American   \n",
       "\n",
       "                                                   text  \\\n",
       "0     @VirginAmerica plus you've added commercials t...   \n",
       "1     @VirginAmerica seriously would pay $30 a fligh...   \n",
       "2     @VirginAmerica yes, nearly every time I fly VX...   \n",
       "3       @virginamerica Well, I didn't…but NOW I DO! :-D   \n",
       "4     @VirginAmerica it was amazing, and arrived an ...   \n",
       "...                                                 ...   \n",
       "4075  @AmericanAir Flight 236 was great. Fantastic c...   \n",
       "4076  @AmericanAir Flight 953 NYC-Buenos Aires has b...   \n",
       "4077  Thank you. “@AmericanAir: @jlhalldc Customer R...   \n",
       "4078                        @AmericanAir Thanks! He is.   \n",
       "4079  @AmericanAir thank you we got on a different f...   \n",
       "\n",
       "                                                  words  \\\n",
       "0     [virginamerica, plus, you, ve, added, commerci...   \n",
       "1     [virginamerica, seriously, would, pay, a, flig...   \n",
       "2     [virginamerica, yes, nearly, every, time, i, f...   \n",
       "3     [virginamerica, well, i, didn, t, but, now, i,...   \n",
       "4     [virginamerica, it, was, amazing, and, arrived...   \n",
       "...                                                 ...   \n",
       "4075  [americanair, flight, was, great, fantastic, c...   \n",
       "4076  [americanair, flight, nyc, buenos, aires, has,...   \n",
       "4077  [thank, you, americanair, jlhalldc, customer, ...   \n",
       "4078                      [americanair, thanks, he, is]   \n",
       "4079  [americanair, thank, you, we, got, on, a, diff...   \n",
       "\n",
       "                                               filtered  \\\n",
       "0     [virginamerica, plus, ve, added, commercials, ...   \n",
       "1     [virginamerica, seriously, pay, flight, seats,...   \n",
       "2     [virginamerica, yes, nearly, time, fly, vx, ea...   \n",
       "3                           [virginamerica, didn, t, d]   \n",
       "4     [virginamerica, amazing, arrived, hour, early,...   \n",
       "...                                                 ...   \n",
       "4075  [americanair, flight, great, fantastic, cabin,...   \n",
       "4076  [americanair, flight, nyc, buenos, aires, dela...   \n",
       "4077  [thank, americanair, jlhalldc, customer, relat...   \n",
       "4078                              [americanair, thanks]   \n",
       "4079  [americanair, thank, got, different, flight, c...   \n",
       "\n",
       "                                                     tf  \\\n",
       "0     (0.0, 0.0, 0.0, 0.0, 0.0, 0.0, 0.0, 0.0, 0.0, ...   \n",
       "1     (0.0, 1.0, 1.0, 0.0, 0.0, 0.0, 0.0, 0.0, 0.0, ...   \n",
       "2     (0.0, 0.0, 1.0, 0.0, 0.0, 0.0, 0.0, 0.0, 0.0, ...   \n",
       "3     (0.0, 0.0, 1.0, 0.0, 0.0, 0.0, 0.0, 0.0, 0.0, ...   \n",
       "4     (0.0, 0.0, 0.0, 0.0, 0.0, 0.0, 0.0, 0.0, 0.0, ...   \n",
       "...                                                 ...   \n",
       "4075  (0.0, 1.0, 1.0, 0.0, 1.0, 0.0, 0.0, 0.0, 0.0, ...   \n",
       "4076  (0.0, 1.0, 0.0, 0.0, 1.0, 0.0, 0.0, 0.0, 0.0, ...   \n",
       "4077  (0.0, 0.0, 0.0, 0.0, 1.0, 0.0, 0.0, 0.0, 1.0, ...   \n",
       "4078  (0.0, 0.0, 0.0, 0.0, 1.0, 0.0, 0.0, 1.0, 0.0, ...   \n",
       "4079  (0.0, 1.0, 0.0, 0.0, 1.0, 0.0, 0.0, 0.0, 1.0, ...   \n",
       "\n",
       "                                                  tfidf  \n",
       "0     (0.0, 0.0, 0.0, 0.0, 0.0, 0.0, 0.0, 0.0, 0.0, ...  \n",
       "1     (0.0, 1.543307911496826, 1.6873795861567809, 0...  \n",
       "2     (0.0, 0.0, 1.6873795861567809, 0.0, 0.0, 0.0, ...  \n",
       "3     (0.0, 0.0, 1.6873795861567809, 0.0, 0.0, 0.0, ...  \n",
       "4     (0.0, 0.0, 0.0, 0.0, 0.0, 0.0, 0.0, 0.0, 0.0, ...  \n",
       "...                                                 ...  \n",
       "4075  (0.0, 1.543307911496826, 1.6873795861567809, 0...  \n",
       "4076  (0.0, 1.543307911496826, 0.0, 0.0, 1.672915165...  \n",
       "4077  (0.0, 0.0, 0.0, 0.0, 1.6729151656652144, 0.0, ...  \n",
       "4078  (0.0, 0.0, 0.0, 0.0, 1.6729151656652144, 0.0, ...  \n",
       "4079  (0.0, 1.543307911496826, 0.0, 0.0, 1.672915165...  \n",
       "\n",
       "[4080 rows x 7 columns]"
      ]
     },
     "metadata": {},
     "output_type": "display_data"
    },
    {
     "name": "stdout",
     "output_type": "stream",
     "text": [
      "(4080, 7)\n"
     ]
    }
   ],
   "source": [
    "# convert to Pandas df to get a better view of the df\n",
    "tweets_pre_proc_df_pd = tweets_pre_proc_df.toPandas()\n",
    "display(tweets_pre_proc_df_pd)\n",
    "print(tweets_pre_proc_df_pd.shape)"
   ]
  },
  {
   "cell_type": "markdown",
   "metadata": {
    "id": "NqOueDw9N8sO"
   },
   "source": [
    "##### Grading Feedback Cell"
   ]
  },
  {
   "cell_type": "markdown",
   "metadata": {
    "id": "I4BtpaqhsgB0"
   },
   "source": [
    "Based on the shape of the TF-IDF data, would you expect a logistic regression model to overfit?\n",
    "\n",
    "Your explanation here: I would expect a logistic regression model to overfit since we have more number of feaures."
   ]
  },
  {
   "cell_type": "markdown",
   "metadata": {
    "id": "SzSNnallsgB0"
   },
   "source": [
    "##### Grading Feedback Cell"
   ]
  },
  {
   "cell_type": "markdown",
   "metadata": {
    "id": "_HuWaSIgsgB1"
   },
   "source": [
    "# Question 3: (10 pts)\n",
    "Since IDF considers a word's frequency across all documents in a corpus, you can use IDF as a form of inference.  Examine the documentation for the spark ML object that you used to create TF-IDF scores and learn how to extract the IDF scores for words in the corpus.  The idf object in your pipeline has a `values` attribute and a `tolist()` method which can be used to extract IDF values.  Create a pandas dataframe containing the 5 most important IDF scores named `most_imp_idf`.  Create another pandas dataframe containing the 5 least important IDF scores named `least_imp_idf`.  Each dataframe shall have 2 columns named `word` and `idf_score`.  Explain in words your interpretation of what the IDF scores mean."
   ]
  },
  {
   "cell_type": "code",
   "execution_count": 24,
   "metadata": {},
   "outputs": [
    {
     "data": {
      "text/html": [
       "<div>\n",
       "<style scoped>\n",
       "    .dataframe tbody tr th:only-of-type {\n",
       "        vertical-align: middle;\n",
       "    }\n",
       "\n",
       "    .dataframe tbody tr th {\n",
       "        vertical-align: top;\n",
       "    }\n",
       "\n",
       "    .dataframe thead th {\n",
       "        text-align: right;\n",
       "    }\n",
       "</style>\n",
       "<table border=\"1\" class=\"dataframe\">\n",
       "  <thead>\n",
       "    <tr style=\"text-align: right;\">\n",
       "      <th></th>\n",
       "      <th>filtered</th>\n",
       "      <th>tf</th>\n",
       "      <th>tfidf</th>\n",
       "    </tr>\n",
       "  </thead>\n",
       "  <tbody>\n",
       "    <tr>\n",
       "      <th>0</th>\n",
       "      <td>[virginamerica, plus, ve, added, commercials, ...</td>\n",
       "      <td>(0.0, 0.0, 0.0, 0.0, 0.0, 0.0, 0.0, 0.0, 0.0, ...</td>\n",
       "      <td>(0.0, 0.0, 0.0, 0.0, 0.0, 0.0, 0.0, 0.0, 0.0, ...</td>\n",
       "    </tr>\n",
       "    <tr>\n",
       "      <th>1</th>\n",
       "      <td>[virginamerica, seriously, pay, flight, seats,...</td>\n",
       "      <td>(0.0, 1.0, 1.0, 0.0, 0.0, 0.0, 0.0, 0.0, 0.0, ...</td>\n",
       "      <td>(0.0, 1.543307911496826, 1.6873795861567809, 0...</td>\n",
       "    </tr>\n",
       "    <tr>\n",
       "      <th>2</th>\n",
       "      <td>[virginamerica, yes, nearly, time, fly, vx, ea...</td>\n",
       "      <td>(0.0, 0.0, 1.0, 0.0, 0.0, 0.0, 0.0, 0.0, 0.0, ...</td>\n",
       "      <td>(0.0, 0.0, 1.6873795861567809, 0.0, 0.0, 0.0, ...</td>\n",
       "    </tr>\n",
       "    <tr>\n",
       "      <th>3</th>\n",
       "      <td>[virginamerica, didn, t, d]</td>\n",
       "      <td>(0.0, 0.0, 1.0, 0.0, 0.0, 0.0, 0.0, 0.0, 0.0, ...</td>\n",
       "      <td>(0.0, 0.0, 1.6873795861567809, 0.0, 0.0, 0.0, ...</td>\n",
       "    </tr>\n",
       "    <tr>\n",
       "      <th>4</th>\n",
       "      <td>[virginamerica, amazing, arrived, hour, early,...</td>\n",
       "      <td>(0.0, 0.0, 0.0, 0.0, 0.0, 0.0, 0.0, 0.0, 0.0, ...</td>\n",
       "      <td>(0.0, 0.0, 0.0, 0.0, 0.0, 0.0, 0.0, 0.0, 0.0, ...</td>\n",
       "    </tr>\n",
       "    <tr>\n",
       "      <th>5</th>\n",
       "      <td>[virginamerica, great, deal, thinking, nd, tri...</td>\n",
       "      <td>(0.0, 0.0, 1.0, 0.0, 0.0, 0.0, 0.0, 0.0, 0.0, ...</td>\n",
       "      <td>(0.0, 0.0, 1.6873795861567809, 0.0, 0.0, 0.0, ...</td>\n",
       "    </tr>\n",
       "    <tr>\n",
       "      <th>6</th>\n",
       "      <td>[virginamerica, virginmedia, m, flying, fabulo...</td>\n",
       "      <td>(0.0, 0.0, 1.0, 0.0, 0.0, 0.0, 0.0, 0.0, 0.0, ...</td>\n",
       "      <td>(0.0, 0.0, 1.6873795861567809, 0.0, 0.0, 0.0, ...</td>\n",
       "    </tr>\n",
       "    <tr>\n",
       "      <th>7</th>\n",
       "      <td>[virginamerica, thanks]</td>\n",
       "      <td>(0.0, 0.0, 0.0, 0.0, 0.0, 0.0, 0.0, 1.0, 0.0, ...</td>\n",
       "      <td>(0.0, 0.0, 0.0, 0.0, 0.0, 0.0, 0.0, 1.92890293...</td>\n",
       "    </tr>\n",
       "    <tr>\n",
       "      <th>8</th>\n",
       "      <td>[virginamerica, excited, cross, country, fligh...</td>\n",
       "      <td>(0.0, 1.0, 0.0, 0.0, 0.0, 0.0, 0.0, 0.0, 0.0, ...</td>\n",
       "      <td>(0.0, 1.543307911496826, 0.0, 0.0, 0.0, 0.0, 0...</td>\n",
       "    </tr>\n",
       "    <tr>\n",
       "      <th>9</th>\n",
       "      <td>[virginamerica, flew, nyc, sfo, week, couldn, ...</td>\n",
       "      <td>(0.0, 0.0, 1.0, 0.0, 0.0, 0.0, 0.0, 0.0, 0.0, ...</td>\n",
       "      <td>(0.0, 0.0, 1.6873795861567809, 0.0, 0.0, 0.0, ...</td>\n",
       "    </tr>\n",
       "  </tbody>\n",
       "</table>\n",
       "</div>"
      ],
      "text/plain": [
       "                                            filtered  \\\n",
       "0  [virginamerica, plus, ve, added, commercials, ...   \n",
       "1  [virginamerica, seriously, pay, flight, seats,...   \n",
       "2  [virginamerica, yes, nearly, time, fly, vx, ea...   \n",
       "3                        [virginamerica, didn, t, d]   \n",
       "4  [virginamerica, amazing, arrived, hour, early,...   \n",
       "5  [virginamerica, great, deal, thinking, nd, tri...   \n",
       "6  [virginamerica, virginmedia, m, flying, fabulo...   \n",
       "7                            [virginamerica, thanks]   \n",
       "8  [virginamerica, excited, cross, country, fligh...   \n",
       "9  [virginamerica, flew, nyc, sfo, week, couldn, ...   \n",
       "\n",
       "                                                  tf  \\\n",
       "0  (0.0, 0.0, 0.0, 0.0, 0.0, 0.0, 0.0, 0.0, 0.0, ...   \n",
       "1  (0.0, 1.0, 1.0, 0.0, 0.0, 0.0, 0.0, 0.0, 0.0, ...   \n",
       "2  (0.0, 0.0, 1.0, 0.0, 0.0, 0.0, 0.0, 0.0, 0.0, ...   \n",
       "3  (0.0, 0.0, 1.0, 0.0, 0.0, 0.0, 0.0, 0.0, 0.0, ...   \n",
       "4  (0.0, 0.0, 0.0, 0.0, 0.0, 0.0, 0.0, 0.0, 0.0, ...   \n",
       "5  (0.0, 0.0, 1.0, 0.0, 0.0, 0.0, 0.0, 0.0, 0.0, ...   \n",
       "6  (0.0, 0.0, 1.0, 0.0, 0.0, 0.0, 0.0, 0.0, 0.0, ...   \n",
       "7  (0.0, 0.0, 0.0, 0.0, 0.0, 0.0, 0.0, 1.0, 0.0, ...   \n",
       "8  (0.0, 1.0, 0.0, 0.0, 0.0, 0.0, 0.0, 0.0, 0.0, ...   \n",
       "9  (0.0, 0.0, 1.0, 0.0, 0.0, 0.0, 0.0, 0.0, 0.0, ...   \n",
       "\n",
       "                                               tfidf  \n",
       "0  (0.0, 0.0, 0.0, 0.0, 0.0, 0.0, 0.0, 0.0, 0.0, ...  \n",
       "1  (0.0, 1.543307911496826, 1.6873795861567809, 0...  \n",
       "2  (0.0, 0.0, 1.6873795861567809, 0.0, 0.0, 0.0, ...  \n",
       "3  (0.0, 0.0, 1.6873795861567809, 0.0, 0.0, 0.0, ...  \n",
       "4  (0.0, 0.0, 0.0, 0.0, 0.0, 0.0, 0.0, 0.0, 0.0, ...  \n",
       "5  (0.0, 0.0, 1.6873795861567809, 0.0, 0.0, 0.0, ...  \n",
       "6  (0.0, 0.0, 1.6873795861567809, 0.0, 0.0, 0.0, ...  \n",
       "7  (0.0, 0.0, 0.0, 0.0, 0.0, 0.0, 0.0, 1.92890293...  \n",
       "8  (0.0, 1.543307911496826, 0.0, 0.0, 0.0, 0.0, 0...  \n",
       "9  (0.0, 0.0, 1.6873795861567809, 0.0, 0.0, 0.0, ...  "
      ]
     },
     "execution_count": 24,
     "metadata": {},
     "output_type": "execute_result"
    }
   ],
   "source": [
    "tweets_pre_proc_df.limit(10).toPandas().loc[:10, ['filtered','tf', 'tfidf']]"
   ]
  },
  {
   "cell_type": "code",
   "execution_count": 25,
   "metadata": {},
   "outputs": [
    {
     "name": "stdout",
     "output_type": "stream",
     "text": [
      "+--------------------+\n",
      "|          idf_values|\n",
      "+--------------------+\n",
      "|[3.07235032034616...|\n",
      "|[1.54330791149682...|\n",
      "|[1.68737958615678...|\n",
      "|[1.68737958615678...|\n",
      "|[3.07235032034616...|\n",
      "+--------------------+\n",
      "only showing top 5 rows\n",
      "\n"
     ]
    }
   ],
   "source": [
    "def extract_values_from_vector(vector):\n",
    "    return vector.values.tolist()\n",
    "\n",
    "extract_values_from_vector_udf = fn.udf(extract_values_from_vector, types.ArrayType(types.DoubleType()))\n",
    "\n",
    "idf_values_df = tweets_pre_proc_df.select(extract_values_from_vector_udf(tweets_pre_proc_df['tfidf']).alias('idf_values'))\n",
    "idf_values_df.show(5)"
   ]
  },
  {
   "cell_type": "code",
   "execution_count": 26,
   "metadata": {},
   "outputs": [
    {
     "name": "stdout",
     "output_type": "stream",
     "text": [
      "+--------------------+------------------+\n",
      "|          idf_values|           idf_max|\n",
      "+--------------------+------------------+\n",
      "|[3.07235032034616...|6.2346557937259695|\n",
      "|[1.54330791149682...| 5.541508613166024|\n",
      "|[1.68737958615678...| 6.368187186350492|\n",
      "|[1.68737958615678...| 4.271046067571255|\n",
      "|[3.07235032034616...| 5.318365061851814|\n",
      "+--------------------+------------------+\n",
      "only showing top 5 rows\n",
      "\n"
     ]
    }
   ],
   "source": [
    "# Max\n",
    "find_max = fn.udf(lambda x: float(np.max(x)), types.DoubleType())\n",
    "idf_max_df = idf_values_df.withColumn(\"idf_max\", find_max(\"idf_values\"))\n",
    "idf_max_df.show(5)"
   ]
  },
  {
   "cell_type": "code",
   "execution_count": 27,
   "metadata": {},
   "outputs": [
    {
     "name": "stdout",
     "output_type": "stream",
     "text": [
      "+--------------------+------------------+-------+\n",
      "|          idf_values|           idf_max|max_idx|\n",
      "+--------------------+------------------+-------+\n",
      "|[3.07235032034616...|6.2346557937259695|      4|\n",
      "|[1.54330791149682...| 5.541508613166024|      6|\n",
      "|[1.68737958615678...| 6.368187186350492|      7|\n",
      "|[1.68737958615678...| 4.271046067571255|      3|\n",
      "|[3.07235032034616...| 5.318365061851814|      5|\n",
      "+--------------------+------------------+-------+\n",
      "only showing top 5 rows\n",
      "\n"
     ]
    }
   ],
   "source": [
    "find_max_index = fn.udf( lambda x: int(np.argmax(x)))\n",
    "idf_maxidx_df = idf_max_df.withColumn(\"max_idx\",find_max_index(\"idf_values\"))\n",
    "idf_maxidx_df.show(5)"
   ]
  },
  {
   "cell_type": "code",
   "execution_count": 28,
   "metadata": {
    "scrolled": true
   },
   "outputs": [],
   "source": [
    "vocabulary = tweets_pre_proc_pipe.stages[0].stages[-1].vocabulary"
   ]
  },
  {
   "cell_type": "code",
   "execution_count": 29,
   "metadata": {},
   "outputs": [
    {
     "data": {
      "text/html": [
       "<div>\n",
       "<style scoped>\n",
       "    .dataframe tbody tr th:only-of-type {\n",
       "        vertical-align: middle;\n",
       "    }\n",
       "\n",
       "    .dataframe tbody tr th {\n",
       "        vertical-align: top;\n",
       "    }\n",
       "\n",
       "    .dataframe thead th {\n",
       "        text-align: right;\n",
       "    }\n",
       "</style>\n",
       "<table border=\"1\" class=\"dataframe\">\n",
       "  <thead>\n",
       "    <tr style=\"text-align: right;\">\n",
       "      <th></th>\n",
       "      <th>idf_values</th>\n",
       "      <th>idf_max</th>\n",
       "      <th>max_idx</th>\n",
       "      <th>word</th>\n",
       "    </tr>\n",
       "  </thead>\n",
       "  <tbody>\n",
       "    <tr>\n",
       "      <th>0</th>\n",
       "      <td>[3.072350320346163, 3.631966108281586, 4.15521...</td>\n",
       "      <td>6.234656</td>\n",
       "      <td>4</td>\n",
       "      <td>americanair</td>\n",
       "    </tr>\n",
       "    <tr>\n",
       "      <th>1</th>\n",
       "      <td>[1.543307911496826, 1.6873795861567809, 3.0723...</td>\n",
       "      <td>5.541509</td>\n",
       "      <td>6</td>\n",
       "      <td>jetblue</td>\n",
       "    </tr>\n",
       "    <tr>\n",
       "      <th>2</th>\n",
       "      <td>[1.6873795861567809, 2.9434593072781428, 3.072...</td>\n",
       "      <td>6.368187</td>\n",
       "      <td>7</td>\n",
       "      <td>thanks</td>\n",
       "    </tr>\n",
       "    <tr>\n",
       "      <th>3</th>\n",
       "      <td>[1.6873795861567809, 3.072350320346163, 4.2032...</td>\n",
       "      <td>4.271046</td>\n",
       "      <td>3</td>\n",
       "      <td>southwestair</td>\n",
       "    </tr>\n",
       "    <tr>\n",
       "      <th>4</th>\n",
       "      <td>[3.072350320346163, 3.5867095166934653, 3.6697...</td>\n",
       "      <td>5.318365</td>\n",
       "      <td>5</td>\n",
       "      <td>usairways</td>\n",
       "    </tr>\n",
       "    <tr>\n",
       "      <th>...</th>\n",
       "      <td>...</td>\n",
       "      <td>...</td>\n",
       "      <td>...</td>\n",
       "      <td>...</td>\n",
       "    </tr>\n",
       "    <tr>\n",
       "      <th>4075</th>\n",
       "      <td>[1.543307911496826, 1.6873795861567809, 1.6729...</td>\n",
       "      <td>6.234656</td>\n",
       "      <td>10</td>\n",
       "      <td>service</td>\n",
       "    </tr>\n",
       "    <tr>\n",
       "      <th>4076</th>\n",
       "      <td>[1.543307911496826, 1.6729151656652144, 3.9073...</td>\n",
       "      <td>10.190443</td>\n",
       "      <td>5</td>\n",
       "      <td>usairways</td>\n",
       "    </tr>\n",
       "    <tr>\n",
       "      <th>4077</th>\n",
       "      <td>[1.6729151656652144, 2.3201359080992368, 2.837...</td>\n",
       "      <td>6.522338</td>\n",
       "      <td>4</td>\n",
       "      <td>americanair</td>\n",
       "    </tr>\n",
       "    <tr>\n",
       "      <th>4078</th>\n",
       "      <td>[1.6729151656652144, 1.9289029364080803]</td>\n",
       "      <td>1.928903</td>\n",
       "      <td>1</td>\n",
       "      <td>flight</td>\n",
       "    </tr>\n",
       "    <tr>\n",
       "      <th>4079</th>\n",
       "      <td>[1.543307911496826, 1.6729151656652144, 2.3201...</td>\n",
       "      <td>5.423726</td>\n",
       "      <td>5</td>\n",
       "      <td>usairways</td>\n",
       "    </tr>\n",
       "  </tbody>\n",
       "</table>\n",
       "<p>4080 rows × 4 columns</p>\n",
       "</div>"
      ],
      "text/plain": [
       "                                             idf_values    idf_max max_idx  \\\n",
       "0     [3.072350320346163, 3.631966108281586, 4.15521...   6.234656       4   \n",
       "1     [1.543307911496826, 1.6873795861567809, 3.0723...   5.541509       6   \n",
       "2     [1.6873795861567809, 2.9434593072781428, 3.072...   6.368187       7   \n",
       "3     [1.6873795861567809, 3.072350320346163, 4.2032...   4.271046       3   \n",
       "4     [3.072350320346163, 3.5867095166934653, 3.6697...   5.318365       5   \n",
       "...                                                 ...        ...     ...   \n",
       "4075  [1.543307911496826, 1.6873795861567809, 1.6729...   6.234656      10   \n",
       "4076  [1.543307911496826, 1.6729151656652144, 3.9073...  10.190443       5   \n",
       "4077  [1.6729151656652144, 2.3201359080992368, 2.837...   6.522338       4   \n",
       "4078           [1.6729151656652144, 1.9289029364080803]   1.928903       1   \n",
       "4079  [1.543307911496826, 1.6729151656652144, 2.3201...   5.423726       5   \n",
       "\n",
       "              word  \n",
       "0      americanair  \n",
       "1          jetblue  \n",
       "2           thanks  \n",
       "3     southwestair  \n",
       "4        usairways  \n",
       "...            ...  \n",
       "4075       service  \n",
       "4076     usairways  \n",
       "4077   americanair  \n",
       "4078        flight  \n",
       "4079     usairways  \n",
       "\n",
       "[4080 rows x 4 columns]"
      ]
     },
     "execution_count": 29,
     "metadata": {},
     "output_type": "execute_result"
    }
   ],
   "source": [
    "max_idx_list=idf_maxidx_df.rdd.map(lambda x: x.max_idx).collect()\n",
    "max_idx_list = list(map(int, max_idx_list))\n",
    "\n",
    "most_imp_idf = idf_maxidx_df.withColumn(\"word\", fn.lit('na').cast(types.StringType()))\n",
    "most_imp_idf_pd = most_imp_idf.toPandas()\n",
    "\n",
    "count = most_imp_idf.count()\n",
    "for i in range(count):\n",
    "    most_imp_idf_pd.at[i, 'word'] = vocabulary[max_idx_list[i]]\n",
    "most_imp_idf_pd"
   ]
  },
  {
   "cell_type": "code",
   "execution_count": 30,
   "metadata": {},
   "outputs": [],
   "source": [
    "# most_imp_idf \n",
    "most_imp_idf = most_imp_idf_pd.sort_values(by=['idf_max'], ascending=False).head(5)\n",
    "most_imp_idf.drop(['idf_values', 'max_idx'],axis=1,inplace=True)\n",
    "most_imp_idf.rename(columns = {'idf_max':'idf_score'}, inplace = True)\n",
    "# display(most_imp_idf)"
   ]
  },
  {
   "cell_type": "code",
   "execution_count": 31,
   "metadata": {},
   "outputs": [
    {
     "name": "stdout",
     "output_type": "stream",
     "text": [
      "+--------------------+------------------+\n",
      "|          idf_values|           idf_min|\n",
      "+--------------------+------------------+\n",
      "|[3.07235032034616...| 3.072350320346163|\n",
      "|[1.54330791149682...| 1.543307911496826|\n",
      "|[1.68737958615678...|1.6873795861567809|\n",
      "|[1.68737958615678...|1.6873795861567809|\n",
      "|[3.07235032034616...| 3.072350320346163|\n",
      "+--------------------+------------------+\n",
      "only showing top 5 rows\n",
      "\n"
     ]
    }
   ],
   "source": [
    "# Min\n",
    "find_min = fn.udf(lambda x: float(np.min(x)), types.DoubleType())\n",
    "idf_min_df = idf_values_df.withColumn(\"idf_min\", find_min(\"idf_values\"))\n",
    "idf_min_df.show(5)"
   ]
  },
  {
   "cell_type": "code",
   "execution_count": 32,
   "metadata": {},
   "outputs": [
    {
     "name": "stdout",
     "output_type": "stream",
     "text": [
      "+--------------------+------------------+-------+\n",
      "|          idf_values|           idf_min|min_idx|\n",
      "+--------------------+------------------+-------+\n",
      "|[3.07235032034616...| 3.072350320346163|      0|\n",
      "|[1.54330791149682...| 1.543307911496826|      0|\n",
      "|[1.68737958615678...|1.6873795861567809|      0|\n",
      "|[1.68737958615678...|1.6873795861567809|      0|\n",
      "|[3.07235032034616...| 3.072350320346163|      0|\n",
      "+--------------------+------------------+-------+\n",
      "only showing top 5 rows\n",
      "\n"
     ]
    }
   ],
   "source": [
    "find_min_index = fn.udf( lambda x: int(np.argmin(x)))\n",
    "idf_minidx_df = idf_min_df.withColumn(\"min_idx\",find_min_index(\"idf_values\"))\n",
    "idf_minidx_df.show(5)"
   ]
  },
  {
   "cell_type": "code",
   "execution_count": 33,
   "metadata": {},
   "outputs": [
    {
     "data": {
      "text/html": [
       "<div>\n",
       "<style scoped>\n",
       "    .dataframe tbody tr th:only-of-type {\n",
       "        vertical-align: middle;\n",
       "    }\n",
       "\n",
       "    .dataframe tbody tr th {\n",
       "        vertical-align: top;\n",
       "    }\n",
       "\n",
       "    .dataframe thead th {\n",
       "        text-align: right;\n",
       "    }\n",
       "</style>\n",
       "<table border=\"1\" class=\"dataframe\">\n",
       "  <thead>\n",
       "    <tr style=\"text-align: right;\">\n",
       "      <th></th>\n",
       "      <th>idf_values</th>\n",
       "      <th>idf_min</th>\n",
       "      <th>min_idx</th>\n",
       "      <th>word</th>\n",
       "    </tr>\n",
       "  </thead>\n",
       "  <tbody>\n",
       "    <tr>\n",
       "      <th>0</th>\n",
       "      <td>[3.072350320346163, 3.631966108281586, 4.15521...</td>\n",
       "      <td>3.072350</td>\n",
       "      <td>0</td>\n",
       "      <td>united</td>\n",
       "    </tr>\n",
       "    <tr>\n",
       "      <th>1</th>\n",
       "      <td>[1.543307911496826, 1.6873795861567809, 3.0723...</td>\n",
       "      <td>1.543308</td>\n",
       "      <td>0</td>\n",
       "      <td>united</td>\n",
       "    </tr>\n",
       "    <tr>\n",
       "      <th>2</th>\n",
       "      <td>[1.6873795861567809, 2.9434593072781428, 3.072...</td>\n",
       "      <td>1.687380</td>\n",
       "      <td>0</td>\n",
       "      <td>united</td>\n",
       "    </tr>\n",
       "    <tr>\n",
       "      <th>3</th>\n",
       "      <td>[1.6873795861567809, 3.072350320346163, 4.2032...</td>\n",
       "      <td>1.687380</td>\n",
       "      <td>0</td>\n",
       "      <td>united</td>\n",
       "    </tr>\n",
       "    <tr>\n",
       "      <th>4</th>\n",
       "      <td>[3.072350320346163, 3.5867095166934653, 3.6697...</td>\n",
       "      <td>3.072350</td>\n",
       "      <td>0</td>\n",
       "      <td>united</td>\n",
       "    </tr>\n",
       "  </tbody>\n",
       "</table>\n",
       "</div>"
      ],
      "text/plain": [
       "                                          idf_values   idf_min min_idx    word\n",
       "0  [3.072350320346163, 3.631966108281586, 4.15521...  3.072350       0  united\n",
       "1  [1.543307911496826, 1.6873795861567809, 3.0723...  1.543308       0  united\n",
       "2  [1.6873795861567809, 2.9434593072781428, 3.072...  1.687380       0  united\n",
       "3  [1.6873795861567809, 3.072350320346163, 4.2032...  1.687380       0  united\n",
       "4  [3.072350320346163, 3.5867095166934653, 3.6697...  3.072350       0  united"
      ]
     },
     "execution_count": 33,
     "metadata": {},
     "output_type": "execute_result"
    }
   ],
   "source": [
    "min_idx_list = idf_minidx_df.rdd.map(lambda x: x.min_idx).collect()\n",
    "min_idx_list = list(map(int, min_idx_list))\n",
    "\n",
    "least_imp_idf = idf_minidx_df.withColumn(\"word\", fn.lit('na').cast(types.StringType()))\n",
    "least_imp_idf_pd = least_imp_idf.toPandas()\n",
    "\n",
    "count = least_imp_idf.count()\n",
    "for i in range(count):\n",
    "    least_imp_idf_pd.at[i, 'word'] = vocabulary[min_idx_list[i]]\n",
    "least_imp_idf_pd.head()"
   ]
  },
  {
   "cell_type": "code",
   "execution_count": 34,
   "metadata": {},
   "outputs": [],
   "source": [
    "# least_imp_idf\n",
    "least_imp_idf = least_imp_idf_pd.sort_values(by=['idf_min'], ascending=True).head(5)\n",
    "least_imp_idf.drop(['idf_values', 'min_idx'],axis=1,inplace=True)\n",
    "least_imp_idf.rename(columns = {'idf_min':'idf_score'}, inplace = True)\n",
    "# display(least_imp_idf)"
   ]
  },
  {
   "cell_type": "code",
   "execution_count": 35,
   "metadata": {
    "id": "uumED0kYsgB2"
   },
   "outputs": [
    {
     "data": {
      "text/html": [
       "<div>\n",
       "<style scoped>\n",
       "    .dataframe tbody tr th:only-of-type {\n",
       "        vertical-align: middle;\n",
       "    }\n",
       "\n",
       "    .dataframe tbody tr th {\n",
       "        vertical-align: top;\n",
       "    }\n",
       "\n",
       "    .dataframe thead th {\n",
       "        text-align: right;\n",
       "    }\n",
       "</style>\n",
       "<table border=\"1\" class=\"dataframe\">\n",
       "  <thead>\n",
       "    <tr style=\"text-align: right;\">\n",
       "      <th></th>\n",
       "      <th>idf_score</th>\n",
       "      <th>word</th>\n",
       "    </tr>\n",
       "  </thead>\n",
       "  <tbody>\n",
       "    <tr>\n",
       "      <th>1082</th>\n",
       "      <td>27.707543</td>\n",
       "      <td>americanair</td>\n",
       "    </tr>\n",
       "    <tr>\n",
       "      <th>2723</th>\n",
       "      <td>19.787206</td>\n",
       "      <td>jetblue</td>\n",
       "    </tr>\n",
       "    <tr>\n",
       "      <th>3558</th>\n",
       "      <td>19.567014</td>\n",
       "      <td>usairways</td>\n",
       "    </tr>\n",
       "    <tr>\n",
       "      <th>1807</th>\n",
       "      <td>19.104562</td>\n",
       "      <td>southwestair</td>\n",
       "    </tr>\n",
       "    <tr>\n",
       "      <th>3303</th>\n",
       "      <td>18.350618</td>\n",
       "      <td>thanks</td>\n",
       "    </tr>\n",
       "  </tbody>\n",
       "</table>\n",
       "</div>"
      ],
      "text/plain": [
       "      idf_score          word\n",
       "1082  27.707543   americanair\n",
       "2723  19.787206       jetblue\n",
       "3558  19.567014     usairways\n",
       "1807  19.104562  southwestair\n",
       "3303  18.350618        thanks"
      ]
     },
     "metadata": {},
     "output_type": "display_data"
    },
    {
     "data": {
      "text/html": [
       "<div>\n",
       "<style scoped>\n",
       "    .dataframe tbody tr th:only-of-type {\n",
       "        vertical-align: middle;\n",
       "    }\n",
       "\n",
       "    .dataframe tbody tr th {\n",
       "        vertical-align: top;\n",
       "    }\n",
       "\n",
       "    .dataframe thead th {\n",
       "        text-align: right;\n",
       "    }\n",
       "</style>\n",
       "<table border=\"1\" class=\"dataframe\">\n",
       "  <thead>\n",
       "    <tr style=\"text-align: right;\">\n",
       "      <th></th>\n",
       "      <th>idf_score</th>\n",
       "      <th>word</th>\n",
       "    </tr>\n",
       "  </thead>\n",
       "  <tbody>\n",
       "    <tr>\n",
       "      <th>690</th>\n",
       "      <td>1.383603</td>\n",
       "      <td>united</td>\n",
       "    </tr>\n",
       "    <tr>\n",
       "      <th>744</th>\n",
       "      <td>1.383603</td>\n",
       "      <td>united</td>\n",
       "    </tr>\n",
       "    <tr>\n",
       "      <th>745</th>\n",
       "      <td>1.383603</td>\n",
       "      <td>united</td>\n",
       "    </tr>\n",
       "    <tr>\n",
       "      <th>746</th>\n",
       "      <td>1.383603</td>\n",
       "      <td>united</td>\n",
       "    </tr>\n",
       "    <tr>\n",
       "      <th>747</th>\n",
       "      <td>1.383603</td>\n",
       "      <td>united</td>\n",
       "    </tr>\n",
       "  </tbody>\n",
       "</table>\n",
       "</div>"
      ],
      "text/plain": [
       "     idf_score    word\n",
       "690   1.383603  united\n",
       "744   1.383603  united\n",
       "745   1.383603  united\n",
       "746   1.383603  united\n",
       "747   1.383603  united"
      ]
     },
     "metadata": {},
     "output_type": "display_data"
    }
   ],
   "source": [
    "# grading cell do not modify\n",
    "display(most_imp_idf)\n",
    "display(least_imp_idf)"
   ]
  },
  {
   "cell_type": "markdown",
   "metadata": {
    "id": "xPzl6yqmK2-s"
   },
   "source": [
    "##### Grading Feedback Cell"
   ]
  },
  {
   "cell_type": "markdown",
   "metadata": {
    "id": "iwZgc3jGsgB2"
   },
   "source": [
    "Your explanation here: TF-IDF has two layers of meanings, one is Term Frequency and the other is Inverse Document Frequency. The main idea of IDF is that if the fewer documents containing term T or the smaller N, the larger the value of IDF, it means that term T has good category differentiation."
   ]
  },
  {
   "cell_type": "markdown",
   "metadata": {
    "id": "mNa3LZeYsgB2"
   },
   "source": [
    "##### Grading Feedback Cell"
   ]
  },
  {
   "cell_type": "markdown",
   "metadata": {
    "id": "KH7N8VBzsgB2"
   },
   "source": [
    "# Question 4: (10 pts)\n",
    "Create a new recursive pipeline named `lr_pipe` which encapsulates `tweets_pre_proc_pipe` and adds a logistic regression model and any needed logistic regression support objects.  Use default logistic regression hyper parameters.  Fit lr_pipe using `tweets_df`.  Score the model using ROC AUC.  Report the resulting AUC such that it is easy for graders to find and interpret."
   ]
  },
  {
   "cell_type": "code",
   "execution_count": 36,
   "metadata": {},
   "outputs": [],
   "source": [
    "tweets_df = tweets_df.withColumn(\"airline_sentiment\",col(\"airline_sentiment\").cast(\"int\"))"
   ]
  },
  {
   "cell_type": "code",
   "execution_count": 37,
   "metadata": {},
   "outputs": [
    {
     "name": "stdout",
     "output_type": "stream",
     "text": [
      "root\n",
      " |-- airline_sentiment: integer (nullable = true)\n",
      " |-- airline: string (nullable = true)\n",
      " |-- text: string (nullable = true)\n",
      "\n"
     ]
    }
   ],
   "source": [
    "tweets_df.printSchema()"
   ]
  },
  {
   "cell_type": "code",
   "execution_count": 38,
   "metadata": {},
   "outputs": [],
   "source": [
    "# split the data into training, validation, and testing\n",
    "training_df, validation_df, testing_df = tweets_df.randomSplit([0.6, 0.3, 0.1], seed=0)"
   ]
  },
  {
   "cell_type": "code",
   "execution_count": 39,
   "metadata": {
    "id": "LFv-EWXNsgB3"
   },
   "outputs": [],
   "source": [
    "lr = LogisticRegression().\\\n",
    "    setLabelCol('airline_sentiment').\\\n",
    "    setFeaturesCol('tfidf').\\\n",
    "    setRegParam(0.0).\\\n",
    "    setMaxIter(100).\\\n",
    "    setElasticNetParam(0.)"
   ]
  },
  {
   "cell_type": "code",
   "execution_count": 40,
   "metadata": {},
   "outputs": [],
   "source": [
    "lr_pipe = Pipeline(stages=[tweets_pre_proc_pipe, lr]).fit(training_df)"
   ]
  },
  {
   "cell_type": "code",
   "execution_count": 41,
   "metadata": {},
   "outputs": [],
   "source": [
    "class CurveMetrics(BinaryClassificationMetrics):\n",
    "    def __init__(self, *args):\n",
    "        super(CurveMetrics, self).__init__(*args)\n",
    "\n",
    "    def _to_list(self, rdd):\n",
    "        points = []\n",
    "        for row in rdd.collect():\n",
    "            points += [(float(row._1()), float(row._2()))]\n",
    "        return points\n",
    "\n",
    "    def get_curve(self, method):\n",
    "        rdd = getattr(self._java_model, method)().toJavaRDD()\n",
    "        return self._to_list(rdd)"
   ]
  },
  {
   "cell_type": "code",
   "execution_count": 42,
   "metadata": {},
   "outputs": [
    {
     "data": {
      "text/plain": [
       "[<matplotlib.lines.Line2D at 0x7f99fc4d3310>]"
      ]
     },
     "execution_count": 42,
     "metadata": {},
     "output_type": "execute_result"
    },
    {
     "data": {
      "image/png": "[encoded data removed]",
      "text/plain": [
       "<Figure size 432x288 with 1 Axes>"
      ]
     },
     "metadata": {
      "needs_background": "light"
     },
     "output_type": "display_data"
    }
   ],
   "source": [
    "predictions = lr_pipe.transform(validation_df)\n",
    "\n",
    "preds = predictions.select('airline_sentiment','probability').rdd.map(lambda row: (float(row['probability'][1]), float(row['airline_sentiment'])))\n",
    "points = CurveMetrics(preds).get_curve('roc')\n",
    "\n",
    "plt.figure()\n",
    "x_val = [x[0] for x in points]\n",
    "y_val = [x[1] for x in points]\n",
    "plt.title('Airline Sentiment Analysis ROC Curve')\n",
    "plt.xlabel('False Positive Rate')\n",
    "plt.ylabel('True Positive Rate')\n",
    "plt.plot(x_val, y_val)"
   ]
  },
  {
   "cell_type": "code",
   "execution_count": 43,
   "metadata": {},
   "outputs": [
    {
     "name": "stdout",
     "output_type": "stream",
     "text": [
      "+------------------+\n",
      "|      avg(correct)|\n",
      "+------------------+\n",
      "|0.8138424821002387|\n",
      "+------------------+\n",
      "\n"
     ]
    }
   ],
   "source": [
    "lr_pipe.transform(validation_df).\\\n",
    "    select(fn.expr('float(prediction = airline_sentiment)').alias('correct')).\\\n",
    "    select(fn.avg('correct')).show()"
   ]
  },
  {
   "cell_type": "markdown",
   "metadata": {
    "id": "tGU4OswusgB3"
   },
   "source": [
    "##### Grading Feedback Cell"
   ]
  },
  {
   "cell_type": "markdown",
   "metadata": {
    "id": "UTd-1FLSsgB3"
   },
   "source": [
    "# Question 5: (10 pts)\n",
    "Create 2 pandas dataframes named `lr_pipe_df_neg` and `lr_pipe_df_pos`which contain 2 colunms: `word` and `score`.  Load the 2 dataframes with the top 10 words and logistic regression coefficients that contribute the most to negative and positive sentiments respectively. Analyze the 2 dataframes and describe if the words make sense.  Do the words look like they are really negative and positive?"
   ]
  },
  {
   "cell_type": "code",
   "execution_count": 44,
   "metadata": {
    "id": "JdBlW7IBsgB4"
   },
   "outputs": [],
   "source": [
    "vocabulary = tweets_pre_proc_pipe.stages[0].stages[-1].vocabulary\n",
    "score = lr_pipe.stages[-1].coefficients.toArray()"
   ]
  },
  {
   "cell_type": "code",
   "execution_count": 45,
   "metadata": {},
   "outputs": [],
   "source": [
    "coeffs_df = pd.DataFrame({'word': vocabulary, 'score': score})\n",
    "lr_pipe_df_neg = coeffs_df.sort_values('score').head(10)"
   ]
  },
  {
   "cell_type": "code",
   "execution_count": 46,
   "metadata": {},
   "outputs": [],
   "source": [
    "lr_pipe_df_pos = coeffs_df.sort_values('score', ascending=False).head(10)"
   ]
  },
  {
   "cell_type": "code",
   "execution_count": 47,
   "metadata": {
    "id": "v0Onlh5ksgB4"
   },
   "outputs": [
    {
     "data": {
      "text/html": [
       "<div>\n",
       "<style scoped>\n",
       "    .dataframe tbody tr th:only-of-type {\n",
       "        vertical-align: middle;\n",
       "    }\n",
       "\n",
       "    .dataframe tbody tr th {\n",
       "        vertical-align: top;\n",
       "    }\n",
       "\n",
       "    .dataframe thead th {\n",
       "        text-align: right;\n",
       "    }\n",
       "</style>\n",
       "<table border=\"1\" class=\"dataframe\">\n",
       "  <thead>\n",
       "    <tr style=\"text-align: right;\">\n",
       "      <th></th>\n",
       "      <th>word</th>\n",
       "      <th>score</th>\n",
       "    </tr>\n",
       "  </thead>\n",
       "  <tbody>\n",
       "    <tr>\n",
       "      <th>984</th>\n",
       "      <td>afford</td>\n",
       "      <td>-37.876660</td>\n",
       "    </tr>\n",
       "    <tr>\n",
       "      <th>414</th>\n",
       "      <td>hate</td>\n",
       "      <td>-29.551415</td>\n",
       "    </tr>\n",
       "    <tr>\n",
       "      <th>771</th>\n",
       "      <td>knew</td>\n",
       "      <td>-27.650000</td>\n",
       "    </tr>\n",
       "    <tr>\n",
       "      <th>229</th>\n",
       "      <td>terrible</td>\n",
       "      <td>-23.438442</td>\n",
       "    </tr>\n",
       "    <tr>\n",
       "      <th>812</th>\n",
       "      <td>failed</td>\n",
       "      <td>-23.084173</td>\n",
       "    </tr>\n",
       "    <tr>\n",
       "      <th>1010</th>\n",
       "      <td>screwed</td>\n",
       "      <td>-23.002805</td>\n",
       "    </tr>\n",
       "    <tr>\n",
       "      <th>625</th>\n",
       "      <td>letting</td>\n",
       "      <td>-20.123741</td>\n",
       "    </tr>\n",
       "    <tr>\n",
       "      <th>941</th>\n",
       "      <td>flyer</td>\n",
       "      <td>-19.295426</td>\n",
       "    </tr>\n",
       "    <tr>\n",
       "      <th>1001</th>\n",
       "      <td>value</td>\n",
       "      <td>-18.573790</td>\n",
       "    </tr>\n",
       "    <tr>\n",
       "      <th>804</th>\n",
       "      <td>started</td>\n",
       "      <td>-18.563143</td>\n",
       "    </tr>\n",
       "  </tbody>\n",
       "</table>\n",
       "</div>"
      ],
      "text/plain": [
       "          word      score\n",
       "984     afford -37.876660\n",
       "414       hate -29.551415\n",
       "771       knew -27.650000\n",
       "229   terrible -23.438442\n",
       "812     failed -23.084173\n",
       "1010   screwed -23.002805\n",
       "625    letting -20.123741\n",
       "941      flyer -19.295426\n",
       "1001     value -18.573790\n",
       "804    started -18.563143"
      ]
     },
     "metadata": {},
     "output_type": "display_data"
    },
    {
     "data": {
      "text/html": [
       "<div>\n",
       "<style scoped>\n",
       "    .dataframe tbody tr th:only-of-type {\n",
       "        vertical-align: middle;\n",
       "    }\n",
       "\n",
       "    .dataframe tbody tr th {\n",
       "        vertical-align: top;\n",
       "    }\n",
       "\n",
       "    .dataframe thead th {\n",
       "        text-align: right;\n",
       "    }\n",
       "</style>\n",
       "<table border=\"1\" class=\"dataframe\">\n",
       "  <thead>\n",
       "    <tr style=\"text-align: right;\">\n",
       "      <th></th>\n",
       "      <th>word</th>\n",
       "      <th>score</th>\n",
       "    </tr>\n",
       "  </thead>\n",
       "  <tbody>\n",
       "    <tr>\n",
       "      <th>7</th>\n",
       "      <td>thanks</td>\n",
       "      <td>35.680330</td>\n",
       "    </tr>\n",
       "    <tr>\n",
       "      <th>8</th>\n",
       "      <td>thank</td>\n",
       "      <td>34.465426</td>\n",
       "    </tr>\n",
       "    <tr>\n",
       "      <th>959</th>\n",
       "      <td>yay</td>\n",
       "      <td>26.346460</td>\n",
       "    </tr>\n",
       "    <tr>\n",
       "      <th>425</th>\n",
       "      <td>reflight</td>\n",
       "      <td>23.748626</td>\n",
       "    </tr>\n",
       "    <tr>\n",
       "      <th>488</th>\n",
       "      <td>impressed</td>\n",
       "      <td>22.510743</td>\n",
       "    </tr>\n",
       "    <tr>\n",
       "      <th>823</th>\n",
       "      <td>comfortable</td>\n",
       "      <td>20.355753</td>\n",
       "    </tr>\n",
       "    <tr>\n",
       "      <th>1022</th>\n",
       "      <td>visit</td>\n",
       "      <td>20.337891</td>\n",
       "    </tr>\n",
       "    <tr>\n",
       "      <th>839</th>\n",
       "      <td>resolution</td>\n",
       "      <td>20.065027</td>\n",
       "    </tr>\n",
       "    <tr>\n",
       "      <th>16</th>\n",
       "      <td>great</td>\n",
       "      <td>20.007130</td>\n",
       "    </tr>\n",
       "    <tr>\n",
       "      <th>1056</th>\n",
       "      <td>thankful</td>\n",
       "      <td>19.758615</td>\n",
       "    </tr>\n",
       "  </tbody>\n",
       "</table>\n",
       "</div>"
      ],
      "text/plain": [
       "             word      score\n",
       "7          thanks  35.680330\n",
       "8           thank  34.465426\n",
       "959           yay  26.346460\n",
       "425      reflight  23.748626\n",
       "488     impressed  22.510743\n",
       "823   comfortable  20.355753\n",
       "1022        visit  20.337891\n",
       "839    resolution  20.065027\n",
       "16          great  20.007130\n",
       "1056     thankful  19.758615"
      ]
     },
     "metadata": {},
     "output_type": "display_data"
    }
   ],
   "source": [
    "# grading cell - do not modify\n",
    "display(lr_pipe_df_neg)\n",
    "display(lr_pipe_df_pos)"
   ]
  },
  {
   "cell_type": "markdown",
   "metadata": {
    "id": "7qV5rzFKLmjS"
   },
   "source": [
    "##### Grading Feedback Cell"
   ]
  },
  {
   "cell_type": "markdown",
   "metadata": {
    "id": "wdzhAZm7sgB4"
   },
   "source": [
    "Your explanation here: Words from both dataframes make sense. Most of the words are really positive or negative."
   ]
  },
  {
   "cell_type": "markdown",
   "metadata": {
    "id": "ebiGTaz_sgB5"
   },
   "source": [
    "##### Grading Feedback Cell"
   ]
  },
  {
   "cell_type": "markdown",
   "metadata": {
    "id": "voK5KKVusgB5"
   },
   "source": [
    "# Question 6a: (5 pts)\n",
    "The goal of this question is to try to improve the score from question 4 using an elastic net regularization grid search on a new pipeline named `lr_pipe_1`. lr_pipe_1 is the same as lr_pipe above but we would like you to create a new pipe for grading purposes only.  I'm not sure if it's possible to increase the score or not.  You will be graded on level of effort to increase the score in relation to other students in the class.  All of your grid search code should be inside the `if enable_grid` statement in the cell below.  The enable_grid boolean is set to true in a grading cell above.  If any of the grid search code executes outside of the if statement, you will not get full credit for the question.  We want the ability to turn off the grid search during grading.<br>"
   ]
  },
  {
   "cell_type": "code",
   "execution_count": 48,
   "metadata": {},
   "outputs": [],
   "source": [
    "lambda_par = 0.02\n",
    "alpha_par = 0.3\n",
    "lr_pipe = LogisticRegression().\\\n",
    "        setLabelCol('airline_sentiment').\\\n",
    "        setFeaturesCol('tfidf').\\\n",
    "        setRegParam(lambda_par).\\\n",
    "        setMaxIter(100).\\\n",
    "        setElasticNetParam(alpha_par)"
   ]
  },
  {
   "cell_type": "code",
   "execution_count": 49,
   "metadata": {},
   "outputs": [],
   "source": [
    "lr_pipe_estimator = Pipeline(stages=[tokenizer, sw_filter, cv, idf, lr_pipe])"
   ]
  },
  {
   "cell_type": "code",
   "execution_count": 50,
   "metadata": {},
   "outputs": [],
   "source": [
    "lr_pipe_pipeline = lr_pipe_estimator.fit(training_df)"
   ]
  },
  {
   "cell_type": "code",
   "execution_count": 51,
   "metadata": {},
   "outputs": [
    {
     "name": "stdout",
     "output_type": "stream",
     "text": [
      "+--------------------------------------------+\n",
      "|avg(float((prediction = airline_sentiment)))|\n",
      "+--------------------------------------------+\n",
      "|                          0.8719172633253779|\n",
      "+--------------------------------------------+\n",
      "\n"
     ]
    }
   ],
   "source": [
    "lr_pipe_pipeline.transform(validation_df).select(fn.avg(fn.expr('float(prediction = airline_sentiment)'))).show()"
   ]
  },
  {
   "cell_type": "code",
   "execution_count": 52,
   "metadata": {
    "id": "HLruVEZdsgB5"
   },
   "outputs": [],
   "source": [
    "# your grid search (and only your grid search) code here\n",
    "if enable_grid:\n",
    "    grid = ParamGridBuilder().\\\n",
    "    addGrid(lr_pipe.regParam, [0., 0.01, 0.02]).\\\n",
    "    addGrid(lr_pipe.elasticNetParam, [0., 0.2, 0.4]).\\\n",
    "    build()\n",
    "    all_models = []\n",
    "    \n",
    "    for j in range(len(grid)):\n",
    "        print(\"Fitting model {}\".format(j+1))\n",
    "        model = lr_pipe_estimator.fit(training_df, grid[j])\n",
    "        all_models.append(model)\n",
    "        \n",
    "    accuracies = [m.\\\n",
    "    transform(validation_df).\\\n",
    "    select(fn.avg(fn.expr('float(airline_sentiment = prediction)')).alias('accuracy')).\\\n",
    "    first().\\\n",
    "    accuracy for m in all_models]\n",
    "    \n",
    "    print(\"accuracies =\", accuracies)\n",
    "    \n",
    "    best_model_idx = np.argmax(accuracies)\n",
    "    print(\"best model index =\", best_model_idx)\n",
    "    print(\"best_grid =\", grid[best_model_idx])"
   ]
  },
  {
   "cell_type": "markdown",
   "metadata": {
    "id": "ScGvacYlsgB5"
   },
   "source": [
    "##### Grading feedback cell"
   ]
  },
  {
   "cell_type": "markdown",
   "metadata": {
    "id": "IS9pI45ysgB5"
   },
   "source": [
    "# Question 6b (5 pts)\n",
    "Build a new pipeline named `lr_pipe_2` which uses the optimized model parameters from the grid search in question 6a above (the best model).  Create 2 variables named alpha and lambda and assign to them the best alpha and lambda produced by the grid search by hard coding the values. Fit and transform lr_pipe_2.  Compare AUC scores between lr_pipe_2 with lr_pipe in question 4.  Create a pandas dataframe named `comapre_1_df` which encapsulates the comparison data.  comapre_1_df Shall have 2 columns: `model_name` and `auc_score`."
   ]
  },
  {
   "cell_type": "code",
   "execution_count": 53,
   "metadata": {},
   "outputs": [],
   "source": [
    "lambda_par = 0.02\n",
    "alpha_par = 0.2\n",
    "lr_pipe_2 = LogisticRegression().\\\n",
    "        setLabelCol('airline_sentiment').\\\n",
    "        setFeaturesCol('tfidf').\\\n",
    "        setRegParam(lambda_par).\\\n",
    "        setMaxIter(100).\\\n",
    "        setElasticNetParam(alpha_par)"
   ]
  },
  {
   "cell_type": "code",
   "execution_count": 54,
   "metadata": {},
   "outputs": [],
   "source": [
    "lr_pipe_2_estimator = Pipeline(stages=[tokenizer, sw_filter, cv, idf, lr_pipe_2])"
   ]
  },
  {
   "cell_type": "code",
   "execution_count": 55,
   "metadata": {},
   "outputs": [],
   "source": [
    "lr_pipe_2_pipeline = lr_pipe_2_estimator.fit(training_df)"
   ]
  },
  {
   "cell_type": "code",
   "execution_count": 56,
   "metadata": {},
   "outputs": [
    {
     "name": "stdout",
     "output_type": "stream",
     "text": [
      "+------------------+\n",
      "|          accuracy|\n",
      "+------------------+\n",
      "|0.8899755501222494|\n",
      "+------------------+\n",
      "\n"
     ]
    }
   ],
   "source": [
    "lr_pipe_2_pipeline.transform(testing_df).select(fn.avg(fn.expr('float(prediction = airline_sentiment)')).alias('accuracy')).show()"
   ]
  },
  {
   "cell_type": "code",
   "execution_count": 57,
   "metadata": {},
   "outputs": [],
   "source": [
    "data = {'model_name': ['lr_pipe', 'lr_pipe_2'],\n",
    "        'auc_score': [0.8138424821002387, 0.8899755501222494]}\n",
    "comapre_1_df = pd.DataFrame(data)"
   ]
  },
  {
   "cell_type": "code",
   "execution_count": 58,
   "metadata": {
    "id": "VYZA46thsgB6"
   },
   "outputs": [
    {
     "data": {
      "text/html": [
       "<div>\n",
       "<style scoped>\n",
       "    .dataframe tbody tr th:only-of-type {\n",
       "        vertical-align: middle;\n",
       "    }\n",
       "\n",
       "    .dataframe tbody tr th {\n",
       "        vertical-align: top;\n",
       "    }\n",
       "\n",
       "    .dataframe thead th {\n",
       "        text-align: right;\n",
       "    }\n",
       "</style>\n",
       "<table border=\"1\" class=\"dataframe\">\n",
       "  <thead>\n",
       "    <tr style=\"text-align: right;\">\n",
       "      <th></th>\n",
       "      <th>model_name</th>\n",
       "      <th>auc_score</th>\n",
       "    </tr>\n",
       "  </thead>\n",
       "  <tbody>\n",
       "    <tr>\n",
       "      <th>0</th>\n",
       "      <td>lr_pipe</td>\n",
       "      <td>0.813842</td>\n",
       "    </tr>\n",
       "    <tr>\n",
       "      <th>1</th>\n",
       "      <td>lr_pipe_2</td>\n",
       "      <td>0.889976</td>\n",
       "    </tr>\n",
       "  </tbody>\n",
       "</table>\n",
       "</div>"
      ],
      "text/plain": [
       "  model_name  auc_score\n",
       "0    lr_pipe   0.813842\n",
       "1  lr_pipe_2   0.889976"
      ]
     },
     "metadata": {},
     "output_type": "display_data"
    }
   ],
   "source": [
    "# grading cell - do not modify\n",
    "display(comapre_1_df)"
   ]
  },
  {
   "cell_type": "markdown",
   "metadata": {
    "id": "fXdATaoUsgB6"
   },
   "source": [
    "##### Grading Feedback Cell"
   ]
  },
  {
   "cell_type": "markdown",
   "metadata": {
    "id": "ZFs4wt5EsgB6"
   },
   "source": [
    "# Question 7 (10 pts)\n",
    "Perform inference on lr_pipe_2.  Write code to report how many words were eliminated from the best model in question 6b above (if any) as compared to the model in question 4 above.  Make sure your output is easy for the graders to find and interpret.\n",
    "\n",
    "Describe in words how feature selection is performed using elastic net regularization."
   ]
  },
  {
   "cell_type": "code",
   "execution_count": 59,
   "metadata": {},
   "outputs": [
    {
     "data": {
      "text/plain": [
       "366"
      ]
     },
     "execution_count": 59,
     "metadata": {},
     "output_type": "execute_result"
    }
   ],
   "source": [
    "len(cv_pipeline.stages[2].vocabulary) - len(lr_pipe_2_pipeline.stages[2].vocabulary)"
   ]
  },
  {
   "cell_type": "markdown",
   "metadata": {
    "id": "gizxpUBRsgB7"
   },
   "source": [
    "##### Grading Feedback Cell"
   ]
  },
  {
   "cell_type": "markdown",
   "metadata": {
    "id": "aDF3MSNGMSut"
   },
   "source": [
    "Your explanation here: It picks a parameter ( 𝛼 ) deciding to consider L1 vs L2 regularization. If  𝛼=0 , then we choose L2, and if  𝛼=1  we choose L1. On the other hand, elastic net regularization comes with two additional parameters,  𝜆  and  𝛼 , and we must either select them a priori or use the validation set to choose the best one."
   ]
  },
  {
   "cell_type": "markdown",
   "metadata": {
    "id": "cq7sCMG9MT5v"
   },
   "source": [
    "##### Grading Feedback Cell"
   ]
  },
  {
   "cell_type": "markdown",
   "metadata": {
    "id": "5g8OEf4UsgB7"
   },
   "source": [
    "# Question 8 (10 pts)\n",
    "Perform the same inference analysis that you did in question 5 but name the data frames `lr_pipe_df_neg_1` and `lr_pipe_df_pos_1`.  Compare the word importance results with the results in question 5.  Do the most positive and most negative words produced by using regularization better reflect positive and negative sentiment than the most positive and negative words produced by the model that did not use regularization?"
   ]
  },
  {
   "cell_type": "code",
   "execution_count": 60,
   "metadata": {
    "id": "3x_hxUyMsgB7"
   },
   "outputs": [],
   "source": [
    "vocabulary_2 = lr_pipe_2_pipeline.stages[2].vocabulary\n",
    "score_2 = lr_pipe_2_pipeline.stages[-1].coefficients.toArray()"
   ]
  },
  {
   "cell_type": "code",
   "execution_count": 61,
   "metadata": {},
   "outputs": [],
   "source": [
    "coeffs_df_2 = pd.DataFrame({'word': vocabulary_2, 'score': score_2})\n",
    "lr_pipe_df_neg_1 = coeffs_df_2.sort_values('score').head(10)"
   ]
  },
  {
   "cell_type": "code",
   "execution_count": 62,
   "metadata": {},
   "outputs": [],
   "source": [
    "lr_pipe_df_pos_1 = coeffs_df_2.sort_values('score', ascending=False).head(10)"
   ]
  },
  {
   "cell_type": "code",
   "execution_count": 63,
   "metadata": {
    "id": "xdCz06VosgB7"
   },
   "outputs": [
    {
     "data": {
      "text/html": [
       "<div>\n",
       "<style scoped>\n",
       "    .dataframe tbody tr th:only-of-type {\n",
       "        vertical-align: middle;\n",
       "    }\n",
       "\n",
       "    .dataframe tbody tr th {\n",
       "        vertical-align: top;\n",
       "    }\n",
       "\n",
       "    .dataframe thead th {\n",
       "        text-align: right;\n",
       "    }\n",
       "</style>\n",
       "<table border=\"1\" class=\"dataframe\">\n",
       "  <thead>\n",
       "    <tr style=\"text-align: right;\">\n",
       "      <th></th>\n",
       "      <th>word</th>\n",
       "      <th>score</th>\n",
       "    </tr>\n",
       "  </thead>\n",
       "  <tbody>\n",
       "    <tr>\n",
       "      <th>81</th>\n",
       "      <td>worst</td>\n",
       "      <td>-0.508733</td>\n",
       "    </tr>\n",
       "    <tr>\n",
       "      <th>22</th>\n",
       "      <td>hours</td>\n",
       "      <td>-0.464695</td>\n",
       "    </tr>\n",
       "    <tr>\n",
       "      <th>291</th>\n",
       "      <td>option</td>\n",
       "      <td>-0.388146</td>\n",
       "    </tr>\n",
       "    <tr>\n",
       "      <th>26</th>\n",
       "      <td>hold</td>\n",
       "      <td>-0.367461</td>\n",
       "    </tr>\n",
       "    <tr>\n",
       "      <th>683</th>\n",
       "      <td>years</td>\n",
       "      <td>-0.350957</td>\n",
       "    </tr>\n",
       "    <tr>\n",
       "      <th>552</th>\n",
       "      <td>hate</td>\n",
       "      <td>-0.348468</td>\n",
       "    </tr>\n",
       "    <tr>\n",
       "      <th>435</th>\n",
       "      <td>page</td>\n",
       "      <td>-0.345472</td>\n",
       "    </tr>\n",
       "    <tr>\n",
       "      <th>290</th>\n",
       "      <td>hotel</td>\n",
       "      <td>-0.343112</td>\n",
       "    </tr>\n",
       "    <tr>\n",
       "      <th>32</th>\n",
       "      <td>delayed</td>\n",
       "      <td>-0.337134</td>\n",
       "    </tr>\n",
       "    <tr>\n",
       "      <th>498</th>\n",
       "      <td>sit</td>\n",
       "      <td>-0.333599</td>\n",
       "    </tr>\n",
       "  </tbody>\n",
       "</table>\n",
       "</div>"
      ],
      "text/plain": [
       "        word     score\n",
       "81     worst -0.508733\n",
       "22     hours -0.464695\n",
       "291   option -0.388146\n",
       "26      hold -0.367461\n",
       "683    years -0.350957\n",
       "552     hate -0.348468\n",
       "435     page -0.345472\n",
       "290    hotel -0.343112\n",
       "32   delayed -0.337134\n",
       "498      sit -0.333599"
      ]
     },
     "metadata": {},
     "output_type": "display_data"
    },
    {
     "data": {
      "text/html": [
       "<div>\n",
       "<style scoped>\n",
       "    .dataframe tbody tr th:only-of-type {\n",
       "        vertical-align: middle;\n",
       "    }\n",
       "\n",
       "    .dataframe tbody tr th {\n",
       "        vertical-align: top;\n",
       "    }\n",
       "\n",
       "    .dataframe thead th {\n",
       "        text-align: right;\n",
       "    }\n",
       "</style>\n",
       "<table border=\"1\" class=\"dataframe\">\n",
       "  <thead>\n",
       "    <tr style=\"text-align: right;\">\n",
       "      <th></th>\n",
       "      <th>word</th>\n",
       "      <th>score</th>\n",
       "    </tr>\n",
       "  </thead>\n",
       "  <tbody>\n",
       "    <tr>\n",
       "      <th>8</th>\n",
       "      <td>thank</td>\n",
       "      <td>1.039488</td>\n",
       "    </tr>\n",
       "    <tr>\n",
       "      <th>7</th>\n",
       "      <td>thanks</td>\n",
       "      <td>1.024871</td>\n",
       "    </tr>\n",
       "    <tr>\n",
       "      <th>15</th>\n",
       "      <td>great</td>\n",
       "      <td>0.575626</td>\n",
       "    </tr>\n",
       "    <tr>\n",
       "      <th>25</th>\n",
       "      <td>love</td>\n",
       "      <td>0.460406</td>\n",
       "    </tr>\n",
       "    <tr>\n",
       "      <th>252</th>\n",
       "      <td>kudos</td>\n",
       "      <td>0.426258</td>\n",
       "    </tr>\n",
       "    <tr>\n",
       "      <th>49</th>\n",
       "      <td>awesome</td>\n",
       "      <td>0.420622</td>\n",
       "    </tr>\n",
       "    <tr>\n",
       "      <th>54</th>\n",
       "      <td>best</td>\n",
       "      <td>0.392631</td>\n",
       "    </tr>\n",
       "    <tr>\n",
       "      <th>580</th>\n",
       "      <td>exceptional</td>\n",
       "      <td>0.380208</td>\n",
       "    </tr>\n",
       "    <tr>\n",
       "      <th>47</th>\n",
       "      <td>good</td>\n",
       "      <td>0.378243</td>\n",
       "    </tr>\n",
       "    <tr>\n",
       "      <th>105</th>\n",
       "      <td>thx</td>\n",
       "      <td>0.362234</td>\n",
       "    </tr>\n",
       "  </tbody>\n",
       "</table>\n",
       "</div>"
      ],
      "text/plain": [
       "            word     score\n",
       "8          thank  1.039488\n",
       "7         thanks  1.024871\n",
       "15         great  0.575626\n",
       "25          love  0.460406\n",
       "252        kudos  0.426258\n",
       "49       awesome  0.420622\n",
       "54          best  0.392631\n",
       "580  exceptional  0.380208\n",
       "47          good  0.378243\n",
       "105          thx  0.362234"
      ]
     },
     "metadata": {},
     "output_type": "display_data"
    }
   ],
   "source": [
    "# grading cell - do not modify\n",
    "display(lr_pipe_df_neg_1)\n",
    "display(lr_pipe_df_pos_1)"
   ]
  },
  {
   "cell_type": "markdown",
   "metadata": {
    "id": "kzG2lc6ksgB7"
   },
   "source": [
    "##### Grading Feedback Cell"
   ]
  },
  {
   "cell_type": "markdown",
   "metadata": {
    "id": "mGjAkZENsgB8"
   },
   "source": [
    "Your explanation here: No, I don't think the most positive and most negative words produced by using regularization better reflect positive and negative sentiment than the most positive and negative words produced by the model that did not use regularization. Most of them make zero importance for predicting sentiment."
   ]
  },
  {
   "cell_type": "markdown",
   "metadata": {
    "id": "jFrYfkWfsgB8"
   },
   "source": [
    "##### Grading Feedback Cell"
   ]
  },
  {
   "cell_type": "markdown",
   "metadata": {
    "id": "hhf2hfVUsgB8"
   },
   "source": [
    "# Question 9 (10 pts)\n",
    "Precision recall plots are very similar to receiver operating characteristic (ROC) curves.  The high level steps for creating a precision recall curve are the same as the steps needed to create a ROC curve as outlined in lecture. Learn about [precision recall curves](https://en.wikipedia.org/wiki/Precision_and_recall).  Create a precision recall plot for the best model in question 6.  Describe what axes are the same / different between the precision recall curve and the ROC curve."
   ]
  },
  {
   "cell_type": "code",
   "execution_count": 64,
   "metadata": {
    "id": "kys4SqgvsgB8"
   },
   "outputs": [
    {
     "data": {
      "text/plain": [
       "[<matplotlib.lines.Line2D at 0x7f99f7bccc40>]"
      ]
     },
     "execution_count": 64,
     "metadata": {},
     "output_type": "execute_result"
    },
    {
     "data": {
      "image/png": "[encoded data removed]",
      "text/plain": [
       "<Figure size 432x288 with 1 Axes>"
      ]
     },
     "metadata": {
      "needs_background": "light"
     },
     "output_type": "display_data"
    }
   ],
   "source": [
    "predictions = lr_pipe_2_pipeline.transform(validation_df)\n",
    "\n",
    "preds = predictions.select('airline_sentiment','probability').rdd.map(lambda row: (float(row['probability'][1]), float(row['airline_sentiment'])))\n",
    "points = CurveMetrics(preds).get_curve('recallByThreshold')\n",
    "\n",
    "plt.figure()\n",
    "x_val = [x[0] for x in points]\n",
    "y_val = [x[1] for x in points]\n",
    "plt.title('PR Curve')\n",
    "plt.xlabel('Recall')\n",
    "plt.ylabel('Precision')\n",
    "plt.plot(x_val, y_val)"
   ]
  },
  {
   "cell_type": "markdown",
   "metadata": {
    "id": "GUnE8Qb1Nxr3"
   },
   "source": [
    "##### Grading Feedback Cell"
   ]
  },
  {
   "cell_type": "markdown",
   "metadata": {
    "id": "oG7lJsd3sgB8"
   },
   "source": [
    "Your explanation here: The x-axis(Recall) in PR curve is the same as the y-axis(TPR) in ROC curve. The y-axis(Precision) is different from the x-axis in ROC curve. The Precision represents to TP/TP+FP. And the x-axis in ROC curve represents to FPR which = FP/FP+TN."
   ]
  },
  {
   "cell_type": "markdown",
   "metadata": {
    "id": "atfg5seiNxEI"
   },
   "source": [
    "##### Grading Feedback Cell"
   ]
  },
  {
   "cell_type": "markdown",
   "metadata": {
    "id": "gt76hKF8BRcW"
   },
   "source": [
    "# Question 10 (10 pts)\n",
    "Design and implement a method to rank the airlines in your dataset from best to worst.  Your solution can use model predictions or inference or both to perform this task. Implement your ranking algorithm in spark.  Create a spark dataframe named airline_rankings.  airline_rankings Shall have 3 columns: airline_name, num_reviews, and ranking.  Load the num_reviews column with the number of reviews associated with the airline.  Load the ranking column with your rank calculation result.  Sort airline rankings from best to worst (best at head, worst at tail).  \n",
    "\n",
    "Describe in words how your algorithm works in clear easy to understand language.  We will take points off for descriptions that are not clearly stated and easy to follow.  We don't expect to have to reverse engineer your code understand how your algorithm works."
   ]
  },
  {
   "cell_type": "code",
   "execution_count": 65,
   "metadata": {},
   "outputs": [
    {
     "name": "stdout",
     "output_type": "stream",
     "text": [
      "+-----------------+--------------+--------------------+\n",
      "|airline_sentiment|       airline|                text|\n",
      "+-----------------+--------------+--------------------+\n",
      "|                1|Virgin America|@VirginAmerica pl...|\n",
      "|                0|Virgin America|@VirginAmerica se...|\n",
      "|                1|Virgin America|@VirginAmerica ye...|\n",
      "|                1|Virgin America|@virginamerica We...|\n",
      "|                1|Virgin America|@VirginAmerica it...|\n",
      "|                1|Virgin America|@VirginAmerica Th...|\n",
      "|                1|Virgin America|@VirginAmerica @v...|\n",
      "|                1|Virgin America|@VirginAmerica Th...|\n",
      "|                1|Virgin America|@VirginAmerica So...|\n",
      "|                0|Virgin America|@VirginAmerica  I...|\n",
      "|                1|Virgin America|I ❤️ flying @Virg...|\n",
      "|                1|Virgin America|@VirginAmerica yo...|\n",
      "|                0|Virgin America|@VirginAmerica wh...|\n",
      "|                1|Virgin America|@VirginAmerica I ...|\n",
      "|                1|Virgin America|@VirginAmerica I ...|\n",
      "|                0|Virgin America|@VirginAmerica am...|\n",
      "|                1|Virgin America|@VirginAmerica th...|\n",
      "|                1|Virgin America|@VirginAmerica @f...|\n",
      "|                0|Virgin America|@VirginAmerica Yo...|\n",
      "|                1|Virgin America|@VirginAmerica Vi...|\n",
      "+-----------------+--------------+--------------------+\n",
      "only showing top 20 rows\n",
      "\n"
     ]
    }
   ],
   "source": [
    "tweets_df.show()"
   ]
  },
  {
   "cell_type": "code",
   "execution_count": 66,
   "metadata": {
    "id": "B2th6hjcDEM6"
   },
   "outputs": [
    {
     "name": "stdout",
     "output_type": "stream",
     "text": [
      "+--------------+--------------------+----------+\n",
      "|       airline|                text|prediction|\n",
      "+--------------+--------------------+----------+\n",
      "|Virgin America|@VirginAmerica pl...|       1.0|\n",
      "|Virgin America|@VirginAmerica se...|       0.0|\n",
      "|Virgin America|@VirginAmerica ye...|       1.0|\n",
      "|Virgin America|@virginamerica We...|       1.0|\n",
      "|Virgin America|@VirginAmerica it...|       1.0|\n",
      "|Virgin America|@VirginAmerica Th...|       1.0|\n",
      "|Virgin America|@VirginAmerica @v...|       1.0|\n",
      "|Virgin America|@VirginAmerica Th...|       1.0|\n",
      "|Virgin America|@VirginAmerica So...|       1.0|\n",
      "|Virgin America|@VirginAmerica  I...|       0.0|\n",
      "|Virgin America|I ❤️ flying @Virg...|       1.0|\n",
      "|Virgin America|@VirginAmerica yo...|       1.0|\n",
      "|Virgin America|@VirginAmerica wh...|       0.0|\n",
      "|Virgin America|@VirginAmerica I ...|       1.0|\n",
      "|Virgin America|@VirginAmerica I ...|       1.0|\n",
      "|Virgin America|@VirginAmerica am...|       1.0|\n",
      "|Virgin America|@VirginAmerica th...|       1.0|\n",
      "|Virgin America|@VirginAmerica @f...|       1.0|\n",
      "|Virgin America|@VirginAmerica Yo...|       1.0|\n",
      "|Virgin America|@VirginAmerica Vi...|       1.0|\n",
      "+--------------+--------------------+----------+\n",
      "only showing top 20 rows\n",
      "\n"
     ]
    }
   ],
   "source": [
    "best_model_df = lr_pipe_2_pipeline.transform(tweets_df).select('airline', 'text', 'prediction')\n",
    "best_model_df.show()"
   ]
  },
  {
   "cell_type": "code",
   "execution_count": 67,
   "metadata": {},
   "outputs": [
    {
     "name": "stdout",
     "output_type": "stream",
     "text": [
      "+--------------+--------+\n",
      "|       airline|count(1)|\n",
      "+--------------+--------+\n",
      "|         Delta|     675|\n",
      "|Virgin America|     185|\n",
      "|        United|    1005|\n",
      "|    US Airways|     735|\n",
      "|     Southwest|     761|\n",
      "|      American|     719|\n",
      "+--------------+--------+\n",
      "\n"
     ]
    }
   ],
   "source": [
    "best_model_df_count = best_model_df.groupby('airline').agg(fn.count('*'))\n",
    "best_model_df_count.show()"
   ]
  },
  {
   "cell_type": "code",
   "execution_count": 68,
   "metadata": {},
   "outputs": [
    {
     "name": "stdout",
     "output_type": "stream",
     "text": [
      "+--------------+---------------+\n",
      "|       airline|sum(prediction)|\n",
      "+--------------+---------------+\n",
      "|         Delta|          499.0|\n",
      "|Virgin America|          139.0|\n",
      "|        United|          401.0|\n",
      "|    US Airways|          210.0|\n",
      "|     Southwest|          512.0|\n",
      "|      American|          278.0|\n",
      "+--------------+---------------+\n",
      "\n"
     ]
    }
   ],
   "source": [
    "best_model_df_sum = best_model_df.groupby('airline').sum()\n",
    "best_model_df_sum.show()"
   ]
  },
  {
   "cell_type": "code",
   "execution_count": 69,
   "metadata": {},
   "outputs": [
    {
     "name": "stdout",
     "output_type": "stream",
     "text": [
      "+--------------+-----------+-----+\n",
      "|  airline_name|num_reviews|  sum|\n",
      "+--------------+-----------+-----+\n",
      "|         Delta|        675|499.0|\n",
      "|Virgin America|        185|139.0|\n",
      "|        United|       1005|401.0|\n",
      "|    US Airways|        735|210.0|\n",
      "|     Southwest|        761|512.0|\n",
      "|      American|        719|278.0|\n",
      "+--------------+-----------+-----+\n",
      "\n"
     ]
    }
   ],
   "source": [
    "best_model_df_join = best_model_df_count.join(best_model_df_sum, \n",
    "                                              best_model_df_count.airline == best_model_df_sum.airline, \"inner\").select(best_model_df_count['airline'].alias('airline_name'), best_model_df_count['count(1)'].alias('num_reviews'), best_model_df_sum['sum(prediction)'].alias('sum'))\n",
    "best_model_df_join.show()"
   ]
  },
  {
   "cell_type": "code",
   "execution_count": 70,
   "metadata": {},
   "outputs": [
    {
     "name": "stdout",
     "output_type": "stream",
     "text": [
      "+--------------+-----------+------------------+\n",
      "|  airline_name|num_reviews|              rate|\n",
      "+--------------+-----------+------------------+\n",
      "|         Delta|        675|0.7392592592592593|\n",
      "|Virgin America|        185|0.7513513513513513|\n",
      "|        United|       1005|0.3990049751243781|\n",
      "|    US Airways|        735|0.2857142857142857|\n",
      "|     Southwest|        761|0.6727989487516426|\n",
      "|      American|        719|0.3866481223922114|\n",
      "+--------------+-----------+------------------+\n",
      "\n"
     ]
    }
   ],
   "source": [
    "best_model_df_join_rate = best_model_df_join.withColumn('rate', best_model_df_join['sum']/best_model_df_join['num_reviews'])\n",
    "best_model_df_join_rate_2 = best_model_df_join_rate.drop('sum')\n",
    "best_model_df_join_rate_2.show()"
   ]
  },
  {
   "cell_type": "code",
   "execution_count": 71,
   "metadata": {},
   "outputs": [
    {
     "name": "stdout",
     "output_type": "stream",
     "text": [
      "+--------------+-----------+-------+\n",
      "|  airline_name|num_reviews|ranking|\n",
      "+--------------+-----------+-------+\n",
      "|Virgin America|        185|      1|\n",
      "|         Delta|        675|      2|\n",
      "|     Southwest|        761|      3|\n",
      "|        United|       1005|      4|\n",
      "|      American|        719|      5|\n",
      "|    US Airways|        735|      6|\n",
      "+--------------+-----------+-------+\n",
      "\n"
     ]
    }
   ],
   "source": [
    "from pyspark.sql.window import Window\n",
    "from pyspark.sql.functions import rank\n",
    "from pyspark.sql.functions import desc\n",
    "\n",
    "window = Window.orderBy(desc('rate'))\n",
    "airline_rankings = best_model_df_join_rate_2.withColumn('ranking', rank().over(window)).drop('rate')\n",
    "airline_rankings.show()"
   ]
  },
  {
   "cell_type": "markdown",
   "metadata": {
    "id": "tjZOXElJNzhJ"
   },
   "source": [
    "##### Grading Feedback Cell"
   ]
  },
  {
   "cell_type": "markdown",
   "metadata": {
    "id": "l6PiT5FEDFpA"
   },
   "source": [
    "Your algorithm description here:"
   ]
  },
  {
   "cell_type": "code",
   "execution_count": 72,
   "metadata": {
    "id": "aWG1DI5mDeSg"
   },
   "outputs": [
    {
     "data": {
      "text/html": [
       "<div>\n",
       "<style scoped>\n",
       "    .dataframe tbody tr th:only-of-type {\n",
       "        vertical-align: middle;\n",
       "    }\n",
       "\n",
       "    .dataframe tbody tr th {\n",
       "        vertical-align: top;\n",
       "    }\n",
       "\n",
       "    .dataframe thead th {\n",
       "        text-align: right;\n",
       "    }\n",
       "</style>\n",
       "<table border=\"1\" class=\"dataframe\">\n",
       "  <thead>\n",
       "    <tr style=\"text-align: right;\">\n",
       "      <th></th>\n",
       "      <th>airline_name</th>\n",
       "      <th>num_reviews</th>\n",
       "      <th>ranking</th>\n",
       "    </tr>\n",
       "  </thead>\n",
       "  <tbody>\n",
       "    <tr>\n",
       "      <th>0</th>\n",
       "      <td>Virgin America</td>\n",
       "      <td>185</td>\n",
       "      <td>1</td>\n",
       "    </tr>\n",
       "    <tr>\n",
       "      <th>1</th>\n",
       "      <td>Delta</td>\n",
       "      <td>675</td>\n",
       "      <td>2</td>\n",
       "    </tr>\n",
       "    <tr>\n",
       "      <th>2</th>\n",
       "      <td>Southwest</td>\n",
       "      <td>761</td>\n",
       "      <td>3</td>\n",
       "    </tr>\n",
       "    <tr>\n",
       "      <th>3</th>\n",
       "      <td>United</td>\n",
       "      <td>1005</td>\n",
       "      <td>4</td>\n",
       "    </tr>\n",
       "    <tr>\n",
       "      <th>4</th>\n",
       "      <td>American</td>\n",
       "      <td>719</td>\n",
       "      <td>5</td>\n",
       "    </tr>\n",
       "  </tbody>\n",
       "</table>\n",
       "</div>"
      ],
      "text/plain": [
       "     airline_name  num_reviews  ranking\n",
       "0  Virgin America          185        1\n",
       "1           Delta          675        2\n",
       "2       Southwest          761        3\n",
       "3          United         1005        4\n",
       "4        American          719        5"
      ]
     },
     "metadata": {},
     "output_type": "display_data"
    },
    {
     "data": {
      "text/html": [
       "<div>\n",
       "<style scoped>\n",
       "    .dataframe tbody tr th:only-of-type {\n",
       "        vertical-align: middle;\n",
       "    }\n",
       "\n",
       "    .dataframe tbody tr th {\n",
       "        vertical-align: top;\n",
       "    }\n",
       "\n",
       "    .dataframe thead th {\n",
       "        text-align: right;\n",
       "    }\n",
       "</style>\n",
       "<table border=\"1\" class=\"dataframe\">\n",
       "  <thead>\n",
       "    <tr style=\"text-align: right;\">\n",
       "      <th></th>\n",
       "      <th>airline_name</th>\n",
       "      <th>num_reviews</th>\n",
       "      <th>ranking</th>\n",
       "    </tr>\n",
       "  </thead>\n",
       "  <tbody>\n",
       "    <tr>\n",
       "      <th>1</th>\n",
       "      <td>Delta</td>\n",
       "      <td>675</td>\n",
       "      <td>2</td>\n",
       "    </tr>\n",
       "    <tr>\n",
       "      <th>2</th>\n",
       "      <td>Southwest</td>\n",
       "      <td>761</td>\n",
       "      <td>3</td>\n",
       "    </tr>\n",
       "    <tr>\n",
       "      <th>3</th>\n",
       "      <td>United</td>\n",
       "      <td>1005</td>\n",
       "      <td>4</td>\n",
       "    </tr>\n",
       "    <tr>\n",
       "      <th>4</th>\n",
       "      <td>American</td>\n",
       "      <td>719</td>\n",
       "      <td>5</td>\n",
       "    </tr>\n",
       "    <tr>\n",
       "      <th>5</th>\n",
       "      <td>US Airways</td>\n",
       "      <td>735</td>\n",
       "      <td>6</td>\n",
       "    </tr>\n",
       "  </tbody>\n",
       "</table>\n",
       "</div>"
      ],
      "text/plain": [
       "  airline_name  num_reviews  ranking\n",
       "1        Delta          675        2\n",
       "2    Southwest          761        3\n",
       "3       United         1005        4\n",
       "4     American          719        5\n",
       "5   US Airways          735        6"
      ]
     },
     "metadata": {},
     "output_type": "display_data"
    }
   ],
   "source": [
    "# grading cell do not modify\n",
    "display(airline_rankings.toPandas().head())\n",
    "display(airline_rankings.toPandas().tail())"
   ]
  },
  {
   "cell_type": "markdown",
   "metadata": {},
   "source": [
    "**Description:** I decide to use the best model (lr_pipe_2_pipeline) into the 'tweet_df' dataset and only select out 'airline', 'text', 'prediction' column since they are the most important ones. Then I count how many airlines are there and use this number to count how many reviews for each airline. And store them into a new column named \"num_reviews\" as requested. In order to get the 'ranking' outcome, I sum up all the 'prediction' values for each airline and divide by the 'num_reviews' and this rate can represent to the 'positive review rate' for each airline. Finally, I use rank() function to rank them from the most positive to lowest."
   ]
  },
  {
   "cell_type": "markdown",
   "metadata": {
    "id": "ntyK4q19N1wL"
   },
   "source": [
    "##### Grading Feedback Cell"
   ]
  },
  {
   "cell_type": "markdown",
   "metadata": {
    "id": "Rj2KN5cawifc"
   },
   "source": [
    "# Question 11 (0 pts)\n",
    "Make sure to set enable_grid to False in the grading cell above and run the notebook in its entirety before submitting to verify that there are no runtime erros.  "
   ]
  },
  {
   "cell_type": "markdown",
   "metadata": {
    "id": "5rUpGwM4N3w7"
   },
   "source": [
    "##### Grading Feedback Cell"
   ]
  }
 ],
 "metadata": {
  "colab": {
   "collapsed_sections": [],
   "provenance": []
  },
  "kernelspec": {
   "display_name": "Python 3",
   "language": "python",
   "name": "python3"
  },
  "language_info": {
   "codemirror_mode": {
    "name": "ipython",
    "version": 3
   },
   "file_extension": ".py",
   "mimetype": "text/x-python",
   "name": "python",
   "nbconvert_exporter": "python",
   "pygments_lexer": "ipython3",
   "version": "3.8.8"
  },
  "latex_envs": {
   "LaTeX_envs_menu_present": true,
   "autoclose": false,
   "autocomplete": true,
   "bibliofile": "biblio.bib",
   "cite_by": "apalike",
   "current_citInitial": 1,
   "eqLabelWithNumbers": true,
   "eqNumInitial": 1,
   "hotkeys": {
    "equation": "Ctrl-E",
    "itemize": "Ctrl-I"
   },
   "labels_anchors": false,
   "latex_user_defs": false,
   "report_style_numbering": false,
   "user_envs_cfg": false
  },
  "toc": {
   "base_numbering": 1,
   "nav_menu": {},
   "number_sections": true,
   "sideBar": true,
   "skip_h1_title": false,
   "title_cell": "Table of Contents",
   "title_sidebar": "Contents",
   "toc_cell": false,
   "toc_position": {},
   "toc_section_display": true,
   "toc_window_display": false
  }
 },
 "nbformat": 4,
 "nbformat_minor": 1
}
