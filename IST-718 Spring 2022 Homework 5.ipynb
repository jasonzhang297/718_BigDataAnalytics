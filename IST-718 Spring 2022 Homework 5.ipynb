{
  "cells": [
    {
      "cell_type": "markdown",
      "metadata": {
        "id": "n4pW1NwkDWnx"
      },
      "source": [
        "##### Grading Feedback Cell"
      ]
    },
    {
      "cell_type": "markdown",
      "metadata": {
        "id": "WmrHfEEjfShT"
      },
      "source": [
        "# Question 0 (-2 If not answered)\n",
        "Please provide the following the data so we can verify your github information and ensure accurate grading:\n",
        "- Your Name: Yunhan Zhang\n",
        "- Your SU ID: 405379315"
      ]
    },
    {
      "cell_type": "markdown",
      "metadata": {
        "deletable": false,
        "id": "ZGSucvIvDWn2",
        "nbgrader": {
          "checksum": "c51f80b694da894627ba37be28c86055",
          "grade": false,
          "grade_id": "cell-b038e38b5e3072a9",
          "locked": true,
          "schema_version": 1,
          "solution": false
        }
      },
      "source": [
        "# IST 718: Big Data Analytics\n",
        "\n",
        "- Professors: \n",
        "  - Willard Williamson <wewillia@syr.edu>\n",
        "  - Emory Creel <emcreel@g.syr.edu>\n",
        "- Faculty Assistants: \n",
        "  - Warren Justin Fernandes <wjfernan@syr.edu>\n",
        "  - Ruchita Hiteshkumar Harsora <\trharsora@g.syr.edu>\n",
        "\n",
        "## General instructions:\n",
        "\n",
        "- You are welcome to discuss the problems with your classmates but __you are not allowed to copy any part of your answers from your classmates.  Short code snippets are allowed from the internet.  Code from the class text books or class provided code can be copied in its entirety.__\n",
        "- Google Colab is the official class runtime environment so you should test your code on Colab before submission.\n",
        "- Do not modify cells marked as grading cells or marked as do not modify.\n",
        "- Before submitting your work, remember to check for run time errors with the following procedure:\n",
        "`Runtime `$\\rightarrow$ Factory reset runtime followed by Runtime $\\rightarrow$ Run All.  All runtime errors will result in a minimum penalty of half off.\n",
        "- All plots shall include descriptive title and axis labels.  Plot legends shall be included where possible.  Unless stated otherwise, plots can be made using any Python plotting package.\n",
        "- Grading feedback cells are there for graders to provide feedback to students.  Don't change or remove grading feedback cells.\n",
        "- Don't add or remove files from your git repo.\n",
        "- Do not change file names in your repo.  This also means don't change the title of the ipython notebook.\n",
        "- You are free to add additional code cells around the cells marked `your code here`.\n",
        "- import * is not allowed because it is considered a very bad coding practice and in some cases can result in a significant delay (which slows down the grading process) in loading imports.  For example, the statement `from sympy import *` is not allowed.  You must import the specific packages that you need. \n",
        "- The graders reserve the right to deduct points for subjective things we see with your code.  For example, if we ask you to create a pandas data frame to display values from an investigation and you hard code the values, we will take points off for that.  This is only one of many different things we could find in reviewing your code.  In general, write your code like you are submitting it for a code peer review in industry.  \n",
        "- Level of effort is part of our subjective grading.  For example, in cases where we ask for a more open ended investigation, some students put in significant effort and some students do the minimum possible to meet requirements.  In these cases, we may take points off for students who did not put in much effort as compared to students who put in a lot of effort.  We feel that the students who did a better job deserve a better grade.  We reserve the right to invoke level of effort grading at any time.\n",
        "- Your notebook must run from start to finish without requiring manual input by the graders.  For example, do not mount your personal Google drive in your notebook as this will require graders to perform manual steps.  In short, your notebook should run from start to finish with no runtime errors and no need for graders to perform any manual steps."
      ]
    },
    {
      "cell_type": "code",
      "execution_count": 154,
      "metadata": {
        "id": "8BIAA55tiV-G"
      },
      "outputs": [],
      "source": [
        "from pyspark.ml import feature\n",
        "from pyspark.ml import clustering\n",
        "from pyspark.ml import Pipeline\n",
        "from pyspark.sql import functions as fn\n",
        "from pyspark.sql.functions import col, concat, lit\n",
        "import numpy as np\n",
        "from pyspark.sql import SparkSession\n",
        "from pyspark.ml import feature, regression, evaluation, Pipeline\n",
        "from pyspark.sql import functions as fn, Row\n",
        "import matplotlib.pyplot as plt\n",
        "import pandas as pd\n",
        "from pyspark.ml.feature import CountVectorizer\n",
        "from pyspark.ml.feature import Tokenizer\n",
        "from pyspark.ml.feature import RegexTokenizer\n",
        "from pyspark.ml.feature import IDF\n",
        "from pyspark.sql import types\n",
        "\n",
        "# seting master(\"local[*]\") enables multicore processing on all available logical cores on your machine\n",
        "spark = SparkSession.builder.master(\"local[*]\").getOrCreate()\n",
        "sc = spark.sparkContext"
      ]
    },
    {
      "cell_type": "code",
      "execution_count": 155,
      "metadata": {
        "id": "BevKDzftfrm-"
      },
      "outputs": [],
      "source": [
        "%%bash\n",
        "# Do not change or modify this cell\n",
        "# Need to install pyspark\n",
        "# if pyspark is already installed, will print a message indicating pyspark already installed\n",
        "pip install pyspark >& /dev/null \n",
        "\n",
        "# Download the data files from github\n",
        "# If the data file does not exist in the colab environment\n",
        "data_file_1=colleges_data_science_programs.csv\n",
        "\n",
        "if [[ ! -f ./${data_file_1} ]]; then \n",
        "   # download the data file from github and save it in this colab environment instance\n",
        "   wget https://raw.githubusercontent.com/wewilli1/ist718_data/master/${data_file_1} >& /dev/null \n",
        "fi"
      ]
    },
    {
      "cell_type": "markdown",
      "metadata": {
        "id": "TKsTOO2SDWn8"
      },
      "source": [
        "# Unsupervised learning"
      ]
    },
    {
      "cell_type": "markdown",
      "metadata": {
        "id": "CrYsBr1eDWn9"
      },
      "source": [
        "The colleges_data_science_programs dataset contains information about dozens of \"data science\" programs across the US."
      ]
    },
    {
      "cell_type": "markdown",
      "metadata": {
        "id": "awCciXpQDWn-"
      },
      "source": [
        "## Question 1: (10 pts)\n",
        "\n",
        "This dataset contains many columns that we can use to understand how these data science programs differ from one another."
      ]
    },
    {
      "cell_type": "markdown",
      "metadata": {
        "id": "jS6wxFSQDWn_"
      },
      "source": [
        "## Question 1a (5 pts)\n",
        "Read the colleges_data_science_programs.csv data file into a data frame named raw_ds_programs_text_df."
      ]
    },
    {
      "cell_type": "code",
      "execution_count": 156,
      "metadata": {
        "id": "nnP4wSJ6DWoA"
      },
      "outputs": [],
      "source": [
        "# read data file into a spark data frame\n",
        "raw_ds_programs_text_df = spark.read.csv('colleges_data_science_programs.csv', header=True)"
      ]
    },
    {
      "cell_type": "code",
      "execution_count": 157,
      "metadata": {
        "id": "GwCWaMFackjd",
        "colab": {
          "base_uri": "https://localhost:8080/",
          "height": 269
        },
        "outputId": "4a7be4dc-4acd-49a7-d9fb-96b816755668"
      },
      "outputs": [
        {
          "output_type": "stream",
          "name": "stdout",
          "text": [
            "rows: 222 , cols: 28\n",
            "+---+--------------------+--------------------+--------------------+-------+-------+-----+------+--------+--------------------+--------------------+--------------------+----------------+------------+-------+----------+------------+-----+----+-------------+----------------+--------+---------+--------------------+--------+---------+---------+------+\n",
            "| id|                name|                 url|             program| degree|country|state|online|oncampus|          department|          created_at|          updated_at|university_count|program_size|courses|admit_reqs|year_founded|notes|cost|visualization|machine learning|business|databases|programminglanguages|capstone|mapreduce|part-time|ethics|\n",
            "+---+--------------------+--------------------+--------------------+-------+-------+-----+------+--------+--------------------+--------------------+--------------------+----------------+------------+-------+----------+------------+-----+----+-------------+----------------+--------+---------+--------------------+--------+---------+---------+------+\n",
            "|  1|South Dakota Stat...|http://www.sdstat...|        Data Science|Masters|     US|   SD| FALSE|    TRUE|Mathematics and S...|2015-01-10 04:13:...|2015-01-10 04:13:...|               1|        null|   null|      null|        null| null|null|         null|            null|    null|     null|                null|    null|     null|     null|  null|\n",
            "|  2|Dakota State Univ...|http://www.dsu.ed...|           Analytics|Masters|     US|   SD|  TRUE|    TRUE|Business and Info...|2015-01-10 04:13:...|2015-01-10 04:13:...|               1|        null|   null|      null|        null| null|null|         null|            null|    null|     null|                null|    null|     null|     null|  null|\n",
            "|  3|    Lewis University|http://www.lewisu...|        Data Science|Masters|     US|   IL|  TRUE|    TRUE|    Computer Science|2015-01-10 04:13:...|2015-01-10 04:13:...|               1|        null|   null|      null|        null| null|null|         null|            null|    null|     null|                null|    null|     null|     null|  null|\n",
            "|  4|Saint Joseph's Un...|http://online.sju...|Business Intellig...|Masters|     US|   PA|  TRUE|    TRUE|            Business|2015-01-10 04:13:...|2015-01-10 04:13:...|               1|        null|   null|      null|        null| null|null|         null|            null|    null|     null|                null|    null|     null|     null|  null|\n",
            "|  5| University Of Leeds|http://www.engine...|Advanced Computer...|Masters|     GB| null| FALSE|    TRUE|    Computer Science|2015-01-10 04:13:...|2015-01-10 04:13:...|               1|        null|   null|      null|        null| null|null|         null|            null|    null|     null|                null|    null|     null|     null|  null|\n",
            "+---+--------------------+--------------------+--------------------+-------+-------+-----+------+--------+--------------------+--------------------+--------------------+----------------+------------+-------+----------+------------+-----+----+-------------+----------------+--------+---------+--------------------+--------+---------+---------+------+\n",
            "only showing top 5 rows\n",
            "\n"
          ]
        },
        {
          "output_type": "display_data",
          "data": {
            "text/plain": [
              "None"
            ]
          },
          "metadata": {}
        }
      ],
      "source": [
        "# Grading Cell Do not Modify\n",
        "print(\"rows:\", raw_ds_programs_text_df.count(), \", cols:\", len(raw_ds_programs_text_df.columns))\n",
        "display(raw_ds_programs_text_df.show(5))"
      ]
    },
    {
      "cell_type": "markdown",
      "metadata": {
        "id": "oW207-r3DWoB"
      },
      "source": [
        "##### Grading Feedback Cell"
      ]
    },
    {
      "cell_type": "markdown",
      "metadata": {
        "id": "v2h82IqSDWoB"
      },
      "source": [
        "## Question 1b (5 pts)\n",
        "- Starting with `raw_ds_programs_text_df`, create a new dataframe named `ds_programs_text_df` which simply adds a column named `text` to the dataframe `raw_ds_programs_df`. \n",
        "- The `text` column will have the concatenation of the following columns separated by a space: `program`, `degree` and `department` (find the appropriate function in the `fn` package). <br>\n",
        "\n",
        "An example of the `ds_programs_text_df` should give you:\n",
        "\n",
        "```python\n",
        "ds_programs_text_df.orderBy('id').first().text\n",
        "```\n",
        "\n",
        "```console\n",
        "'Data Science Masters Mathematics and Statistics'\n",
        "```"
      ]
    },
    {
      "cell_type": "code",
      "execution_count": 158,
      "metadata": {
        "deletable": false,
        "id": "ZAtaztUoDWoB",
        "nbgrader": {
          "checksum": "cb982914cbab5d8d552cafcab8a6f41b",
          "grade": false,
          "grade_id": "cell-18ebd4f77c37a8e3",
          "locked": false,
          "schema_version": 1,
          "solution": true
        }
      },
      "outputs": [],
      "source": [
        "# create text and concatenate three columns\n",
        "ds_programs_text_df = raw_ds_programs_text_df.withColumn(\"text\", fn.concat_ws(' ', col(\"program\"), \n",
        "                                                                        col(\"degree\"), col(\"department\")))"
      ]
    },
    {
      "cell_type": "code",
      "execution_count": 159,
      "metadata": {
        "id": "ffjesksDdZkO",
        "colab": {
          "base_uri": "https://localhost:8080/",
          "height": 466
        },
        "outputId": "4fd05be0-f9a0-429f-9b1d-8e7c8d933358"
      },
      "outputs": [
        {
          "output_type": "stream",
          "name": "stdout",
          "text": [
            "+---+--------------------+--------------------+--------------------+-------+-------+-----+------+--------+--------------------+--------------------+--------------------+----------------+------------+-------+----------+------------+-----+----+-------------+----------------+--------+---------+--------------------+--------+---------+---------+------+--------------------+\n",
            "| id|                name|                 url|             program| degree|country|state|online|oncampus|          department|          created_at|          updated_at|university_count|program_size|courses|admit_reqs|year_founded|notes|cost|visualization|machine learning|business|databases|programminglanguages|capstone|mapreduce|part-time|ethics|                text|\n",
            "+---+--------------------+--------------------+--------------------+-------+-------+-----+------+--------+--------------------+--------------------+--------------------+----------------+------------+-------+----------+------------+-----+----+-------------+----------------+--------+---------+--------------------+--------+---------+---------+------+--------------------+\n",
            "|  1|South Dakota Stat...|http://www.sdstat...|        Data Science|Masters|     US|   SD| FALSE|    TRUE|Mathematics and S...|2015-01-10 04:13:...|2015-01-10 04:13:...|               1|        null|   null|      null|        null| null|null|         null|            null|    null|     null|                null|    null|     null|     null|  null|Data Science Mast...|\n",
            "|  2|Dakota State Univ...|http://www.dsu.ed...|           Analytics|Masters|     US|   SD|  TRUE|    TRUE|Business and Info...|2015-01-10 04:13:...|2015-01-10 04:13:...|               1|        null|   null|      null|        null| null|null|         null|            null|    null|     null|                null|    null|     null|     null|  null|Analytics Masters...|\n",
            "|  3|    Lewis University|http://www.lewisu...|        Data Science|Masters|     US|   IL|  TRUE|    TRUE|    Computer Science|2015-01-10 04:13:...|2015-01-10 04:13:...|               1|        null|   null|      null|        null| null|null|         null|            null|    null|     null|                null|    null|     null|     null|  null|Data Science Mast...|\n",
            "|  4|Saint Joseph's Un...|http://online.sju...|Business Intellig...|Masters|     US|   PA|  TRUE|    TRUE|            Business|2015-01-10 04:13:...|2015-01-10 04:13:...|               1|        null|   null|      null|        null| null|null|         null|            null|    null|     null|                null|    null|     null|     null|  null|Business Intellig...|\n",
            "|  5| University Of Leeds|http://www.engine...|Advanced Computer...|Masters|     GB| null| FALSE|    TRUE|    Computer Science|2015-01-10 04:13:...|2015-01-10 04:13:...|               1|        null|   null|      null|        null| null|null|         null|            null|    null|     null|                null|    null|     null|     null|  null|Advanced Computer...|\n",
            "+---+--------------------+--------------------+--------------------+-------+-------+-----+------+--------+--------------------+--------------------+--------------------+----------------+------------+-------+----------+------------+-----+----+-------------+----------------+--------+---------+--------------------+--------+---------+---------+------+--------------------+\n",
            "only showing top 5 rows\n",
            "\n"
          ]
        },
        {
          "output_type": "display_data",
          "data": {
            "text/plain": [
              "None"
            ]
          },
          "metadata": {}
        },
        {
          "output_type": "stream",
          "name": "stdout",
          "text": [
            "+------------------------------------------------------------------+\n",
            "|text                                                              |\n",
            "+------------------------------------------------------------------+\n",
            "|Data Science Masters Mathematics and Statistics                   |\n",
            "|Analytics Masters Business and Information Systems                |\n",
            "|Data Science Masters Computer Science                             |\n",
            "|Business Intelligence & Analytics Masters Business                |\n",
            "|Advanced Computer Science(Data Analytics) Masters Computer Science|\n",
            "+------------------------------------------------------------------+\n",
            "only showing top 5 rows\n",
            "\n"
          ]
        },
        {
          "output_type": "display_data",
          "data": {
            "text/plain": [
              "None"
            ]
          },
          "metadata": {}
        }
      ],
      "source": [
        "# Grading Cell Do Not Modify\n",
        "display(ds_programs_text_df.show(5))\n",
        "display(ds_programs_text_df.select('text').show(5, truncate=False))"
      ]
    },
    {
      "cell_type": "markdown",
      "metadata": {
        "id": "JPHvg357DWoC"
      },
      "source": [
        "##### Grading Feedback Cell"
      ]
    },
    {
      "cell_type": "markdown",
      "metadata": {
        "id": "avZjEHa-DWoC"
      },
      "source": [
        "# Question 2: (10 pts) "
      ]
    },
    {
      "cell_type": "markdown",
      "metadata": {
        "id": "5T9nOwNQDWoC"
      },
      "source": [
        "## Question 2a (5 pts)\n",
        "- Create a pipeline named `pipe_features` that creates a new dataframe `ds_features_df`.  The pipe_features pipeline adds a column `features` to `ds_programs_text_df` that contains the `tfidf` of the `text` column.  \n",
        "- Make sure to create your pipeline using the natural language processing pipeline methodology as outlined in class and demonstrated in the in class notebooks.  "
      ]
    },
    {
      "cell_type": "code",
      "execution_count": 160,
      "metadata": {
        "id": "kUD9MgmsiV-K"
      },
      "outputs": [],
      "source": [
        "# code here\n",
        "tokenizer = feature.RegexTokenizer(minTokenLength=2)\\\n",
        "  .setGaps(False)\\\n",
        "  .setPattern(\"\\\\p{L}+\")\\\n",
        "  .setInputCol(\"text\")\\\n",
        "  .setOutputCol(\"words\")\n",
        "\n",
        "import requests\n",
        "stop_words = requests.get('http://ir.dcs.gla.ac.uk/resources/linguistic_utils/stop_words').text.split()\n",
        "\n",
        "sw_filter = feature.StopWordsRemover()\\\n",
        "  .setStopWords(stop_words)\\\n",
        "  .setCaseSensitive(False)\\\n",
        "  .setInputCol(\"words\")\\\n",
        "  .setOutputCol(\"filtered\")\n",
        "\n",
        "cv = feature.CountVectorizer(inputCol='filtered', outputCol='tf')\n",
        "idf = feature.IDF(inputCol='tf', outputCol='features')"
      ]
    },
    {
      "cell_type": "code",
      "execution_count": 161,
      "metadata": {
        "id": "VKSd54-biV-K"
      },
      "outputs": [],
      "source": [
        "# seal in pipeline\n",
        "pipe_features = Pipeline(stages=[tokenizer, sw_filter, cv, idf]).fit(ds_programs_text_df)"
      ]
    },
    {
      "cell_type": "code",
      "execution_count": 162,
      "metadata": {
        "id": "oK1Zr9KdiV-K"
      },
      "outputs": [],
      "source": [
        "# transform into dataframe\n",
        "ds_features_df = pipe_features.transform(ds_programs_text_df)"
      ]
    },
    {
      "cell_type": "code",
      "execution_count": 163,
      "metadata": {
        "id": "CvgI3_4sgOfB",
        "colab": {
          "base_uri": "https://localhost:8080/",
          "height": 466
        },
        "outputId": "f2e8e76b-406f-4012-e5dc-2ef5a90e4dc0"
      },
      "outputs": [
        {
          "output_type": "stream",
          "name": "stdout",
          "text": [
            "+---+--------------------+--------------------+--------------------+-------+-------+-----+------+--------+--------------------+--------------------+--------------------+----------------+------------+-------+----------+------------+-----+----+-------------+----------------+--------+---------+--------------------+--------+---------+---------+------+--------------------+--------------------+--------------------+--------------------+--------------------+\n",
            "| id|                name|                 url|             program| degree|country|state|online|oncampus|          department|          created_at|          updated_at|university_count|program_size|courses|admit_reqs|year_founded|notes|cost|visualization|machine learning|business|databases|programminglanguages|capstone|mapreduce|part-time|ethics|                text|               words|            filtered|                  tf|            features|\n",
            "+---+--------------------+--------------------+--------------------+-------+-------+-----+------+--------+--------------------+--------------------+--------------------+----------------+------------+-------+----------+------------+-----+----+-------------+----------------+--------+---------+--------------------+--------+---------+---------+------+--------------------+--------------------+--------------------+--------------------+--------------------+\n",
            "|  1|South Dakota Stat...|http://www.sdstat...|        Data Science|Masters|     US|   SD| FALSE|    TRUE|Mathematics and S...|2015-01-10 04:13:...|2015-01-10 04:13:...|               1|        null|   null|      null|        null| null|null|         null|            null|    null|     null|                null|    null|     null|     null|  null|Data Science Mast...|[data, science, m...|[data, science, m...|(97,[0,1,4,6,29],...|(97,[0,1,4,6,29],...|\n",
            "|  2|Dakota State Univ...|http://www.dsu.ed...|           Analytics|Masters|     US|   SD|  TRUE|    TRUE|Business and Info...|2015-01-10 04:13:...|2015-01-10 04:13:...|               1|        null|   null|      null|        null| null|null|         null|            null|    null|     null|                null|    null|     null|     null|  null|Analytics Masters...|[analytics, maste...|[analytics, maste...|(97,[0,2,3,7,20],...|(97,[0,2,3,7,20],...|\n",
            "|  3|    Lewis University|http://www.lewisu...|        Data Science|Masters|     US|   IL|  TRUE|    TRUE|    Computer Science|2015-01-10 04:13:...|2015-01-10 04:13:...|               1|        null|   null|      null|        null| null|null|         null|            null|    null|     null|                null|    null|     null|     null|  null|Data Science Mast...|[data, science, m...|[data, science, m...|(97,[0,1,4],[1.0,...|(97,[0,1,4],[0.25...|\n",
            "|  4|Saint Joseph's Un...|http://online.sju...|Business Intellig...|Masters|     US|   PA|  TRUE|    TRUE|            Business|2015-01-10 04:13:...|2015-01-10 04:13:...|               1|        null|   null|      null|        null| null|null|         null|            null|    null|     null|                null|    null|     null|     null|  null|Business Intellig...|[business, intell...|[business, intell...|(97,[0,2,3,8],[1....|(97,[0,2,3,8],[0....|\n",
            "|  5| University Of Leeds|http://www.engine...|Advanced Computer...|Masters|     GB| null| FALSE|    TRUE|    Computer Science|2015-01-10 04:13:...|2015-01-10 04:13:...|               1|        null|   null|      null|        null| null|null|         null|            null|    null|     null|                null|    null|     null|     null|  null|Advanced Computer...|[advanced, comput...|[advanced, scienc...|(97,[0,1,3,4,37],...|(97,[0,1,3,4,37],...|\n",
            "+---+--------------------+--------------------+--------------------+-------+-------+-----+------+--------+--------------------+--------------------+--------------------+----------------+------------+-------+----------+------------+-----+----+-------------+----------------+--------+---------+--------------------+--------+---------+---------+------+--------------------+--------------------+--------------------+--------------------+--------------------+\n",
            "only showing top 5 rows\n",
            "\n"
          ]
        },
        {
          "output_type": "display_data",
          "data": {
            "text/plain": [
              "None"
            ]
          },
          "metadata": {}
        },
        {
          "output_type": "stream",
          "name": "stdout",
          "text": [
            "+-----------------------------------------------------------------------------------------------------------------+\n",
            "|features                                                                                                         |\n",
            "+-----------------------------------------------------------------------------------------------------------------+\n",
            "|(97,[0,1,4,6,29],[0.2538801769623398,0.6622396430968687,1.2800373864150272,2.411439497906128,3.615412302232064]) |\n",
            "|(97,[0,2,3,7,20],[0.2538801769623398,1.0377239189930973,0.8120519213255288,2.411439497906128,3.009276498661748]) |\n",
            "|(97,[0,1,4],[0.2538801769623398,0.6622396430968687,2.5600747728300544])                                          |\n",
            "|(97,[0,2,3,8],[0.2538801769623398,2.0754478379861947,0.8120519213255288,2.316129318101803])                      |\n",
            "|(97,[0,1,3,4,37],[0.2538801769623398,0.6622396430968687,0.8120519213255288,2.5600747728300544,4.020877410340228])|\n",
            "+-----------------------------------------------------------------------------------------------------------------+\n",
            "only showing top 5 rows\n",
            "\n"
          ]
        },
        {
          "output_type": "display_data",
          "data": {
            "text/plain": [
              "None"
            ]
          },
          "metadata": {}
        }
      ],
      "source": [
        "# Grading Cell Do Not Modify\n",
        "display(ds_features_df.show(5))\n",
        "display(ds_features_df.select(\"features\").show(5, truncate=False))"
      ]
    },
    {
      "cell_type": "markdown",
      "metadata": {
        "id": "e6Lu92I8DWoD"
      },
      "source": [
        "##### Grading Feedback Cell"
      ]
    },
    {
      "cell_type": "markdown",
      "metadata": {
        "id": "ouxGeRPMDWoD"
      },
      "source": [
        "## Question 2b (5 pts)\n",
        "- Create a pipeline model `pipe_pca` that computes the first two principal components of the `features` column as computed by `pipe_features` and creates a new column named `scores`. \n",
        "- Use `pipe_pca` to create a dataframe `ds_features_df1` with the columns `id`, `name`, `url`, and `scores`."
      ]
    },
    {
      "cell_type": "code",
      "execution_count": 164,
      "metadata": {
        "deletable": false,
        "id": "V4gzXPxfDWoE",
        "nbgrader": {
          "checksum": "fe5246f975004002ec6318349b882137",
          "grade": false,
          "grade_id": "cell-cab09e882ef8f6d1",
          "locked": false,
          "schema_version": 1,
          "solution": true
        }
      },
      "outputs": [],
      "source": [
        "# build pipeline\n",
        "pipe_pca = Pipeline(stages=[\n",
        "    feature.StandardScaler(withMean=True,\n",
        "                           inputCol='features', outputCol='zfeatures'),\n",
        "    feature.PCA(k=2, inputCol='zfeatures', outputCol='scores')\n",
        "]).fit(ds_features_df)"
      ]
    },
    {
      "cell_type": "code",
      "execution_count": 165,
      "metadata": {
        "id": "y79EDst8iV-L"
      },
      "outputs": [],
      "source": [
        "# transform and create dataframe\n",
        "ds_features_df1 = pipe_pca.transform(ds_features_df).select(['id','name','url','scores'])"
      ]
    },
    {
      "cell_type": "code",
      "execution_count": 166,
      "metadata": {
        "id": "HqP5VUkLeJyA",
        "colab": {
          "base_uri": "https://localhost:8080/"
        },
        "outputId": "99bbfeae-9807-49f7-8263-03acc6eeeba0"
      },
      "outputs": [
        {
          "output_type": "stream",
          "name": "stdout",
          "text": [
            "+---+-----------------------------+--------------------------------------------------------------------------------------------+-----------------------------------------+\n",
            "|id |name                         |url                                                                                         |scores                                   |\n",
            "+---+-----------------------------+--------------------------------------------------------------------------------------------+-----------------------------------------+\n",
            "|1  |South Dakota State University|http://www.sdstate.edu/mathstat/grad/masters-in-data-science.cfm                            |[0.44505142982691,-0.021029527416571443] |\n",
            "|2  |Dakota State University      |http://www.dsu.edu/msa/                                                                     |[0.21451296032728356,-1.0170966174580138]|\n",
            "|3  |Lewis University             |http://www.lewisu.edu/academics/data-science/index.htm                                      |[0.4518038719208936,-0.10808004560708076]|\n",
            "|4  |Saint Joseph's University    |http://online.sju.edu/programs/business-intelligence-masters.asp                            |[-0.34996992720782966,-1.17792360836869] |\n",
            "|5  |University Of Leeds          |http://www.engineering.leeds.ac.uk/computing/postgraduate/masters-advanced-computer-science/|[0.43582487693177835,-0.4287236754409128]|\n",
            "+---+-----------------------------+--------------------------------------------------------------------------------------------+-----------------------------------------+\n",
            "only showing top 5 rows\n",
            "\n"
          ]
        }
      ],
      "source": [
        "# Grading Cell Do Not Modify\n",
        "ds_features_df1.show(5, truncate=False)"
      ]
    },
    {
      "cell_type": "markdown",
      "metadata": {
        "id": "lVb2AqZ0DWoE"
      },
      "source": [
        "##### Grading Feedback Cell"
      ]
    },
    {
      "cell_type": "markdown",
      "metadata": {
        "id": "0rhDaCJoDWoF"
      },
      "source": [
        "# Question 3: (20 pts)\n",
        "In this question you will write code that makes recommendations on programs closest to a program of interest.  \n",
        "- Create a function named `get_nearest_programs` that returns the 3 closest programs to a program of interest.  \n",
        "- The `get_nearest_programs` function shall take 1 argument: `program_of_interest`.  \n",
        "- The `get_nearest_programs` function shall return the 3 programs (as defined by the `name` column) closest to the program argument as defined by L2 Euclidian distance.  Do not return the program of interest argument as one of the names.  \n",
        "- We are expecting you to use the in class recommender system case study for a reference as how to implement.  Use the pipeline and resulting scores column from the previous question as a starting point."
      ]
    },
    {
      "cell_type": "code",
      "source": [
        "def l2_dist(c1, c2):    \n",
        "  return float(np.sqrt((c1 - c2).T.dot((c1 - c2))))\n",
        "\n",
        "l2_dist_udf = fn.udf(l2_dist, types.FloatType())\n",
        "spark.sql(\"SET spark.sql.crossJoin.enabled=TRUE\")\n",
        "\n",
        "def get_nearest_programs(program_of_interest):\n",
        "  program = 'name == \"' + program_of_interest + '\"'\n",
        "\n",
        "  df = pipe_pca.transform(ds_features_df).\\\n",
        "        where(program).\\\n",
        "        select(fn.col(\"scores\").alias('Program_scores')).\\\n",
        "        join(pipe_pca.transform(ds_features_df)).\\\n",
        "        withColumn('dist', l2_dist_udf('scores', 'Program_scores')).\\\n",
        "        select(\"name\", \"text\", \"dist\").\\\n",
        "        orderBy(fn.asc(\"dist\")).\\\n",
        "        limit(10).\\\n",
        "        toPandas()\n",
        "  return df.loc[1:3,\"name\"]"
      ],
      "metadata": {
        "id": "CNPGhB5ta54a"
      },
      "execution_count": 167,
      "outputs": []
    },
    {
      "cell_type": "code",
      "execution_count": 168,
      "metadata": {
        "id": "f61vyT0MnaWE",
        "colab": {
          "base_uri": "https://localhost:8080/"
        },
        "outputId": "e2a1f3ed-8eff-42e7-e6ab-97fea857bfb1"
      },
      "outputs": [
        {
          "output_type": "execute_result",
          "data": {
            "text/plain": [
              "1    Georgia Southern University\n",
              "2             Utrecht University\n",
              "3        George Mason University\n",
              "Name: name, dtype: object"
            ]
          },
          "metadata": {},
          "execution_count": 168
        }
      ],
      "source": [
        "# Grading Cell Do Not Modify\n",
        "get_nearest_programs('Harvard University') # Of course I removed Yale from the dataset :)"
      ]
    },
    {
      "cell_type": "markdown",
      "metadata": {
        "id": "LGNGbMgFDWoF"
      },
      "source": [
        "##### Grading Feedback Cell"
      ]
    },
    {
      "cell_type": "markdown",
      "metadata": {
        "id": "jiq18rLHDWoG"
      },
      "source": [
        "# Question 4 (10 pts)\n",
        "\n",
        "- Create two Pandas dataframes `pc1_pd` and `pc2_pd` with the columns `word` and `abs_loading` that contain the top 5 sorted  absolute values of loadings for the purposes of feature selection.  \n",
        "- Provide an interpretation of the loadings based on information provided in lecture taking into account covariance or correlation."
      ]
    },
    {
      "cell_type": "code",
      "execution_count": 169,
      "metadata": {
        "deletable": false,
        "id": "W-37kjDkDWoG",
        "nbgrader": {
          "checksum": "21ba70a5a4393b6c5f5d5ce14bca6f26",
          "grade": false,
          "grade_id": "cell-f9d1641edcc927e5",
          "locked": false,
          "schema_version": 1,
          "solution": true
        },
        "colab": {
          "base_uri": "https://localhost:8080/"
        },
        "outputId": "03adf25a-66d4-497f-e1d8-901b1faf43c3"
      },
      "outputs": [
        {
          "output_type": "execute_result",
          "data": {
            "text/plain": [
              "[StandardScalerModel: uid=StandardScaler_d4268a8c013a, numFeatures=97, withMean=true, withStd=true,\n",
              " PCAModel: uid=PCA_8f2ab7eb8e45, k=2]"
            ]
          },
          "metadata": {},
          "execution_count": 169
        }
      ],
      "source": [
        "# your code here (5 pts)\n",
        "pipe_pca.stages"
      ]
    },
    {
      "cell_type": "code",
      "source": [
        "pca_model = pipe_pca.stages[-1]\n",
        "pca_model"
      ],
      "metadata": {
        "colab": {
          "base_uri": "https://localhost:8080/"
        },
        "id": "SlyugChemm6f",
        "outputId": "2bb0af86-a7b2-4ccd-a85e-0eeab9f0f8ed"
      },
      "execution_count": 170,
      "outputs": [
        {
          "output_type": "execute_result",
          "data": {
            "text/plain": [
              "PCAModel: uid=PCA_8f2ab7eb8e45, k=2"
            ]
          },
          "metadata": {},
          "execution_count": 170
        }
      ]
    },
    {
      "cell_type": "code",
      "source": [
        "pc1 = pca_model.pc.toArray()[:, 0].tolist()\n",
        "pc2 = pca_model.pc.toArray()[:, 1].tolist()"
      ],
      "metadata": {
        "id": "_GiQKcjbm4V8"
      },
      "execution_count": 171,
      "outputs": []
    },
    {
      "cell_type": "code",
      "source": [
        "vocabulary = pipe_features.stages[2].vocabulary"
      ],
      "metadata": {
        "id": "4HTec3KporAo"
      },
      "execution_count": 172,
      "outputs": []
    },
    {
      "cell_type": "code",
      "source": [
        "pc_loadings = pd.DataFrame([vocabulary, pc1, pc2]).T.rename(columns={0: 'word', \n",
        "                                                                     1: 'abs_loading1',\n",
        "                                                                     2: 'abs_loading2'})"
      ],
      "metadata": {
        "id": "V4kEB71RorJH"
      },
      "execution_count": 173,
      "outputs": []
    },
    {
      "cell_type": "code",
      "source": [
        "pc1_pd = pc_loadings.sort_values('abs_loading1').\\\n",
        "    apply({'word': lambda x: x, 'abs_loading1': np.abs}, axis=0).head(5)"
      ],
      "metadata": {
        "id": "vdB-KlfuorQS"
      },
      "execution_count": 174,
      "outputs": []
    },
    {
      "cell_type": "code",
      "source": [
        "pc2_pd = pc_loadings.sort_values('abs_loading2').\\\n",
        "    apply({'word': lambda x: x, 'abs_loading2': np.abs}, axis=0).head(5)"
      ],
      "metadata": {
        "id": "f2KC_ZI-o6E1"
      },
      "execution_count": 175,
      "outputs": []
    },
    {
      "cell_type": "code",
      "execution_count": 176,
      "metadata": {
        "id": "KnuSsAhQgfi9",
        "colab": {
          "base_uri": "https://localhost:8080/",
          "height": 395
        },
        "outputId": "3620520c-4495-4e3b-d5f4-b1fe58cd2033"
      },
      "outputs": [
        {
          "output_type": "display_data",
          "data": {
            "text/plain": [
              "         word abs_loading1\n",
              "56         uc     0.432523\n",
              "77   software     0.432523\n",
              "78    berkely     0.432523\n",
              "72        sas     0.432523\n",
              "38  extension     0.370089"
            ],
            "text/html": [
              "\n",
              "  <div id=\"df-e2827f04-d1e8-4ebe-ad26-fdf741a89d47\">\n",
              "    <div class=\"colab-df-container\">\n",
              "      <div>\n",
              "<style scoped>\n",
              "    .dataframe tbody tr th:only-of-type {\n",
              "        vertical-align: middle;\n",
              "    }\n",
              "\n",
              "    .dataframe tbody tr th {\n",
              "        vertical-align: top;\n",
              "    }\n",
              "\n",
              "    .dataframe thead th {\n",
              "        text-align: right;\n",
              "    }\n",
              "</style>\n",
              "<table border=\"1\" class=\"dataframe\">\n",
              "  <thead>\n",
              "    <tr style=\"text-align: right;\">\n",
              "      <th></th>\n",
              "      <th>word</th>\n",
              "      <th>abs_loading1</th>\n",
              "    </tr>\n",
              "  </thead>\n",
              "  <tbody>\n",
              "    <tr>\n",
              "      <th>56</th>\n",
              "      <td>uc</td>\n",
              "      <td>0.432523</td>\n",
              "    </tr>\n",
              "    <tr>\n",
              "      <th>77</th>\n",
              "      <td>software</td>\n",
              "      <td>0.432523</td>\n",
              "    </tr>\n",
              "    <tr>\n",
              "      <th>78</th>\n",
              "      <td>berkely</td>\n",
              "      <td>0.432523</td>\n",
              "    </tr>\n",
              "    <tr>\n",
              "      <th>72</th>\n",
              "      <td>sas</td>\n",
              "      <td>0.432523</td>\n",
              "    </tr>\n",
              "    <tr>\n",
              "      <th>38</th>\n",
              "      <td>extension</td>\n",
              "      <td>0.370089</td>\n",
              "    </tr>\n",
              "  </tbody>\n",
              "</table>\n",
              "</div>\n",
              "      <button class=\"colab-df-convert\" onclick=\"convertToInteractive('df-e2827f04-d1e8-4ebe-ad26-fdf741a89d47')\"\n",
              "              title=\"Convert this dataframe to an interactive table.\"\n",
              "              style=\"display:none;\">\n",
              "        \n",
              "  <svg xmlns=\"http://www.w3.org/2000/svg\" height=\"24px\"viewBox=\"0 0 24 24\"\n",
              "       width=\"24px\">\n",
              "    <path d=\"M0 0h24v24H0V0z\" fill=\"none\"/>\n",
              "    <path d=\"M18.56 5.44l.94 2.06.94-2.06 2.06-.94-2.06-.94-.94-2.06-.94 2.06-2.06.94zm-11 1L8.5 8.5l.94-2.06 2.06-.94-2.06-.94L8.5 2.5l-.94 2.06-2.06.94zm10 10l.94 2.06.94-2.06 2.06-.94-2.06-.94-.94-2.06-.94 2.06-2.06.94z\"/><path d=\"M17.41 7.96l-1.37-1.37c-.4-.4-.92-.59-1.43-.59-.52 0-1.04.2-1.43.59L10.3 9.45l-7.72 7.72c-.78.78-.78 2.05 0 2.83L4 21.41c.39.39.9.59 1.41.59.51 0 1.02-.2 1.41-.59l7.78-7.78 2.81-2.81c.8-.78.8-2.07 0-2.86zM5.41 20L4 18.59l7.72-7.72 1.47 1.35L5.41 20z\"/>\n",
              "  </svg>\n",
              "      </button>\n",
              "      \n",
              "  <style>\n",
              "    .colab-df-container {\n",
              "      display:flex;\n",
              "      flex-wrap:wrap;\n",
              "      gap: 12px;\n",
              "    }\n",
              "\n",
              "    .colab-df-convert {\n",
              "      background-color: #E8F0FE;\n",
              "      border: none;\n",
              "      border-radius: 50%;\n",
              "      cursor: pointer;\n",
              "      display: none;\n",
              "      fill: #1967D2;\n",
              "      height: 32px;\n",
              "      padding: 0 0 0 0;\n",
              "      width: 32px;\n",
              "    }\n",
              "\n",
              "    .colab-df-convert:hover {\n",
              "      background-color: #E2EBFA;\n",
              "      box-shadow: 0px 1px 2px rgba(60, 64, 67, 0.3), 0px 1px 3px 1px rgba(60, 64, 67, 0.15);\n",
              "      fill: #174EA6;\n",
              "    }\n",
              "\n",
              "    [theme=dark] .colab-df-convert {\n",
              "      background-color: #3B4455;\n",
              "      fill: #D2E3FC;\n",
              "    }\n",
              "\n",
              "    [theme=dark] .colab-df-convert:hover {\n",
              "      background-color: #434B5C;\n",
              "      box-shadow: 0px 1px 3px 1px rgba(0, 0, 0, 0.15);\n",
              "      filter: drop-shadow(0px 1px 2px rgba(0, 0, 0, 0.3));\n",
              "      fill: #FFFFFF;\n",
              "    }\n",
              "  </style>\n",
              "\n",
              "      <script>\n",
              "        const buttonEl =\n",
              "          document.querySelector('#df-e2827f04-d1e8-4ebe-ad26-fdf741a89d47 button.colab-df-convert');\n",
              "        buttonEl.style.display =\n",
              "          google.colab.kernel.accessAllowed ? 'block' : 'none';\n",
              "\n",
              "        async function convertToInteractive(key) {\n",
              "          const element = document.querySelector('#df-e2827f04-d1e8-4ebe-ad26-fdf741a89d47');\n",
              "          const dataTable =\n",
              "            await google.colab.kernel.invokeFunction('convertToInteractive',\n",
              "                                                     [key], {});\n",
              "          if (!dataTable) return;\n",
              "\n",
              "          const docLinkHtml = 'Like what you see? Visit the ' +\n",
              "            '<a target=\"_blank\" href=https://colab.research.google.com/notebooks/data_table.ipynb>data table notebook</a>'\n",
              "            + ' to learn more about interactive tables.';\n",
              "          element.innerHTML = '';\n",
              "          dataTable['output_type'] = 'display_data';\n",
              "          await google.colab.output.renderOutput(dataTable, element);\n",
              "          const docLink = document.createElement('div');\n",
              "          docLink.innerHTML = docLinkHtml;\n",
              "          element.appendChild(docLink);\n",
              "        }\n",
              "      </script>\n",
              "    </div>\n",
              "  </div>\n",
              "  "
            ]
          },
          "metadata": {}
        },
        {
          "output_type": "display_data",
          "data": {
            "text/plain": [
              "            word abs_loading2\n",
              "0        masters     0.164945\n",
              "2       business     0.122034\n",
              "3      analytics     0.088015\n",
              "8   intelligence     0.078746\n",
              "72           sas     0.077417"
            ],
            "text/html": [
              "\n",
              "  <div id=\"df-d05d39ab-1abf-42e2-a82d-ccd92a0ea63d\">\n",
              "    <div class=\"colab-df-container\">\n",
              "      <div>\n",
              "<style scoped>\n",
              "    .dataframe tbody tr th:only-of-type {\n",
              "        vertical-align: middle;\n",
              "    }\n",
              "\n",
              "    .dataframe tbody tr th {\n",
              "        vertical-align: top;\n",
              "    }\n",
              "\n",
              "    .dataframe thead th {\n",
              "        text-align: right;\n",
              "    }\n",
              "</style>\n",
              "<table border=\"1\" class=\"dataframe\">\n",
              "  <thead>\n",
              "    <tr style=\"text-align: right;\">\n",
              "      <th></th>\n",
              "      <th>word</th>\n",
              "      <th>abs_loading2</th>\n",
              "    </tr>\n",
              "  </thead>\n",
              "  <tbody>\n",
              "    <tr>\n",
              "      <th>0</th>\n",
              "      <td>masters</td>\n",
              "      <td>0.164945</td>\n",
              "    </tr>\n",
              "    <tr>\n",
              "      <th>2</th>\n",
              "      <td>business</td>\n",
              "      <td>0.122034</td>\n",
              "    </tr>\n",
              "    <tr>\n",
              "      <th>3</th>\n",
              "      <td>analytics</td>\n",
              "      <td>0.088015</td>\n",
              "    </tr>\n",
              "    <tr>\n",
              "      <th>8</th>\n",
              "      <td>intelligence</td>\n",
              "      <td>0.078746</td>\n",
              "    </tr>\n",
              "    <tr>\n",
              "      <th>72</th>\n",
              "      <td>sas</td>\n",
              "      <td>0.077417</td>\n",
              "    </tr>\n",
              "  </tbody>\n",
              "</table>\n",
              "</div>\n",
              "      <button class=\"colab-df-convert\" onclick=\"convertToInteractive('df-d05d39ab-1abf-42e2-a82d-ccd92a0ea63d')\"\n",
              "              title=\"Convert this dataframe to an interactive table.\"\n",
              "              style=\"display:none;\">\n",
              "        \n",
              "  <svg xmlns=\"http://www.w3.org/2000/svg\" height=\"24px\"viewBox=\"0 0 24 24\"\n",
              "       width=\"24px\">\n",
              "    <path d=\"M0 0h24v24H0V0z\" fill=\"none\"/>\n",
              "    <path d=\"M18.56 5.44l.94 2.06.94-2.06 2.06-.94-2.06-.94-.94-2.06-.94 2.06-2.06.94zm-11 1L8.5 8.5l.94-2.06 2.06-.94-2.06-.94L8.5 2.5l-.94 2.06-2.06.94zm10 10l.94 2.06.94-2.06 2.06-.94-2.06-.94-.94-2.06-.94 2.06-2.06.94z\"/><path d=\"M17.41 7.96l-1.37-1.37c-.4-.4-.92-.59-1.43-.59-.52 0-1.04.2-1.43.59L10.3 9.45l-7.72 7.72c-.78.78-.78 2.05 0 2.83L4 21.41c.39.39.9.59 1.41.59.51 0 1.02-.2 1.41-.59l7.78-7.78 2.81-2.81c.8-.78.8-2.07 0-2.86zM5.41 20L4 18.59l7.72-7.72 1.47 1.35L5.41 20z\"/>\n",
              "  </svg>\n",
              "      </button>\n",
              "      \n",
              "  <style>\n",
              "    .colab-df-container {\n",
              "      display:flex;\n",
              "      flex-wrap:wrap;\n",
              "      gap: 12px;\n",
              "    }\n",
              "\n",
              "    .colab-df-convert {\n",
              "      background-color: #E8F0FE;\n",
              "      border: none;\n",
              "      border-radius: 50%;\n",
              "      cursor: pointer;\n",
              "      display: none;\n",
              "      fill: #1967D2;\n",
              "      height: 32px;\n",
              "      padding: 0 0 0 0;\n",
              "      width: 32px;\n",
              "    }\n",
              "\n",
              "    .colab-df-convert:hover {\n",
              "      background-color: #E2EBFA;\n",
              "      box-shadow: 0px 1px 2px rgba(60, 64, 67, 0.3), 0px 1px 3px 1px rgba(60, 64, 67, 0.15);\n",
              "      fill: #174EA6;\n",
              "    }\n",
              "\n",
              "    [theme=dark] .colab-df-convert {\n",
              "      background-color: #3B4455;\n",
              "      fill: #D2E3FC;\n",
              "    }\n",
              "\n",
              "    [theme=dark] .colab-df-convert:hover {\n",
              "      background-color: #434B5C;\n",
              "      box-shadow: 0px 1px 3px 1px rgba(0, 0, 0, 0.15);\n",
              "      filter: drop-shadow(0px 1px 2px rgba(0, 0, 0, 0.3));\n",
              "      fill: #FFFFFF;\n",
              "    }\n",
              "  </style>\n",
              "\n",
              "      <script>\n",
              "        const buttonEl =\n",
              "          document.querySelector('#df-d05d39ab-1abf-42e2-a82d-ccd92a0ea63d button.colab-df-convert');\n",
              "        buttonEl.style.display =\n",
              "          google.colab.kernel.accessAllowed ? 'block' : 'none';\n",
              "\n",
              "        async function convertToInteractive(key) {\n",
              "          const element = document.querySelector('#df-d05d39ab-1abf-42e2-a82d-ccd92a0ea63d');\n",
              "          const dataTable =\n",
              "            await google.colab.kernel.invokeFunction('convertToInteractive',\n",
              "                                                     [key], {});\n",
              "          if (!dataTable) return;\n",
              "\n",
              "          const docLinkHtml = 'Like what you see? Visit the ' +\n",
              "            '<a target=\"_blank\" href=https://colab.research.google.com/notebooks/data_table.ipynb>data table notebook</a>'\n",
              "            + ' to learn more about interactive tables.';\n",
              "          element.innerHTML = '';\n",
              "          dataTable['output_type'] = 'display_data';\n",
              "          await google.colab.output.renderOutput(dataTable, element);\n",
              "          const docLink = document.createElement('div');\n",
              "          docLink.innerHTML = docLinkHtml;\n",
              "          element.appendChild(docLink);\n",
              "        }\n",
              "      </script>\n",
              "    </div>\n",
              "  </div>\n",
              "  "
            ]
          },
          "metadata": {}
        }
      ],
      "source": [
        "# Grading cell do not modify\n",
        "display(pc1_pd.head())\n",
        "display(pc2_pd.head())"
      ]
    },
    {
      "cell_type": "markdown",
      "metadata": {
        "id": "rKTOQmQpDWoG"
      },
      "source": [
        "##### Grading Feedback Cell"
      ]
    },
    {
      "cell_type": "markdown",
      "metadata": {
        "id": "-98cxCiiDWoG"
      },
      "source": [
        "Your interpretation here (5 pts): \n",
        "\n",
        "Positive loadings indicate a variable and a principal component are positively correlated: an increase in one results in an increase in the other. Negative loadings indicate a negative correlation. Large (either positive or negative) loadings indicate that a variable has a strong effect on that principal component. "
      ]
    },
    {
      "cell_type": "markdown",
      "metadata": {
        "id": "A7NubJvGDWoG"
      },
      "source": [
        "##### Grading Feedback Cell"
      ]
    },
    {
      "cell_type": "markdown",
      "metadata": {
        "id": "crRKTCM3DWoI"
      },
      "source": [
        "# Question 5: (10 pts)\n",
        "\n",
        "- Create a new pipeline called pipe_pca1 where you fit the maximum possible number of principal components for this dataset. \n",
        "- Create a scree plot and a plot of cumulative variance explained (exactly 2 plots).  \n",
        "- Describe 2 things.  Fist, tell us how many principal components you were able to create (the maximum number).  Second, based on either the scree or cumulative variance explained, describe how many principal components you would use if you were building a supervised machine learning model.  Use bullets in the markdown cell to separate your 2 answers."
      ]
    },
    {
      "cell_type": "code",
      "execution_count": 177,
      "metadata": {
        "id": "29xEAFN8DWoI",
        "scrolled": true
      },
      "outputs": [],
      "source": [
        "# your code here\n",
        "pipe_pca1 = Pipeline(stages=[\n",
        "    feature.StandardScaler(withMean=True,\n",
        "                           inputCol='features', outputCol='zfeatures'),\n",
        "    feature.PCA(k=97, inputCol='zfeatures', outputCol='scores')\n",
        "]).fit(ds_features_df)"
      ]
    },
    {
      "cell_type": "code",
      "source": [
        "sum(pipe_pca1.stages[-1].explainedVariance)"
      ],
      "metadata": {
        "colab": {
          "base_uri": "https://localhost:8080/"
        },
        "id": "ZB9xWPR54gSE",
        "outputId": "62e028b5-2842-45cc-fdc2-fdf51cfbfcd0"
      },
      "execution_count": 178,
      "outputs": [
        {
          "output_type": "execute_result",
          "data": {
            "text/plain": [
              "1.0000000000000004"
            ]
          },
          "metadata": {},
          "execution_count": 178
        }
      ]
    },
    {
      "cell_type": "code",
      "source": [
        "plt.figure()\n",
        "explained_var = pipe_pca1.stages[-1].explainedVariance\n",
        "plt.plot(np.arange(1, len(explained_var)+1), explained_var)\n",
        "plt.title(\"Diabetes Dataset Scree Plot\")\n",
        "plt.xlabel(\"Principal Component\")\n",
        "plt.ylabel(\"Proportion Variance Explained\")"
      ],
      "metadata": {
        "colab": {
          "base_uri": "https://localhost:8080/",
          "height": 313
        },
        "id": "wb046Nc54gae",
        "outputId": "78e0038c-7396-41f6-fc06-8156ad79db57"
      },
      "execution_count": 179,
      "outputs": [
        {
          "output_type": "execute_result",
          "data": {
            "text/plain": [
              "Text(0, 0.5, 'Proportion Variance Explained')"
            ]
          },
          "metadata": {},
          "execution_count": 179
        },
        {
          "output_type": "display_data",
          "data": {
            "text/plain": [
              "<Figure size 432x288 with 1 Axes>"
            ],
            "image/png": "[encoded data removed]"
          },
          "metadata": {
            "needs_background": "light"
          }
        }
      ]
    },
    {
      "cell_type": "code",
      "source": [
        "cum_sum = np.cumsum(explained_var)\n",
        "plt.figure()\n",
        "plt.plot(np.arange(1, len(explained_var)+1), cum_sum)\n",
        "plt.title(\"Diabetes Dataset Cumulative Sum of Variance Explained\")\n",
        "plt.xlabel(\"Cumulative Components\")\n",
        "plt.ylabel(\"Cumulative Sum of Variance Explained\")"
      ],
      "metadata": {
        "colab": {
          "base_uri": "https://localhost:8080/",
          "height": 313
        },
        "id": "U5iBfcW_4wN8",
        "outputId": "f57c8321-e988-400f-ad46-3b2faf349b03"
      },
      "execution_count": 180,
      "outputs": [
        {
          "output_type": "execute_result",
          "data": {
            "text/plain": [
              "Text(0, 0.5, 'Cumulative Sum of Variance Explained')"
            ]
          },
          "metadata": {},
          "execution_count": 180
        },
        {
          "output_type": "display_data",
          "data": {
            "text/plain": [
              "<Figure size 432x288 with 1 Axes>"
            ],
            "image/png": "[encoded data removed]"
          },
          "metadata": {
            "needs_background": "light"
          }
        }
      ]
    },
    {
      "cell_type": "markdown",
      "metadata": {
        "id": "_eN9tP6CDWoI"
      },
      "source": [
        "##### Grading Feedback Cell"
      ]
    },
    {
      "cell_type": "markdown",
      "metadata": {
        "id": "gafkr_gWr5X8"
      },
      "source": [
        "Your 2 explanations here\n",
        "\n",
        "- I was able to create 10 principal components for this dataset (k=10).\n",
        "- I would only use 2 or 3 principal components to build a supervised machine learning model because PC1 is the primary principal component that explains the maximum variance in the data. PC2 is another principal component that is orthogonal to PC1."
      ]
    },
    {
      "cell_type": "markdown",
      "metadata": {
        "id": "L4HpV01Ttjnz"
      },
      "source": [
        "##### Grading Feedback Cell"
      ]
    },
    {
      "cell_type": "markdown",
      "metadata": {
        "id": "EGjhlg00DWoI"
      },
      "source": [
        "# Question 6: (20 pts)\n",
        "- Create a pipeline named pipe_pca2 that computes PCA scores for the first 2 principal components.  Add a kmeans object to pipe_pca2 and compute kmeans with k = 5.  \n",
        "- Create a scatter plot which displays PC2 scores (y-axis) vs. PC1 scores (x-axis) where each point is colored by the cluster assignment.  Include a plot legend.  \n",
        "- Look for interesting patterns in the clusters and label the points to learn something surprising or interesting about the data set.  One example of what I am looking for is in the case study notebook which has a plot that shows IST-718 is very close to IST-719 - and IST-718 / IST-718 is far away from other courses. You are free to explore as you see fit.  Essentially we are looking for you to find an interesting pattern within the clusters and label the points such that you learn something about the data set.  \n",
        "- Describe what surprising or interesting fact you learned.  Your plot should be easy to read and labels should not be so dense that they are hard to read / on top of each other.\n",
        "- The recommender notebook uses a normalizer object to produce the IST-718 / IST-718 plot mentioned above.  The normalizer has the effect of scaling each data observation into a unit vector.  This may or may not be useful to improve your visualization - you will have to try it and see if it helps.  ONLY use the normalizer for visualizations in this assignment.  We do not expect the normalizer to be included in any pipeline except if it is being used for visualization purposes."
      ]
    },
    {
      "cell_type": "code",
      "execution_count": 181,
      "metadata": {
        "id": "wbq8dBB9DWoJ"
      },
      "outputs": [],
      "source": [
        "# your code here\n",
        "pipe_pca2 = Pipeline(stages=[feature.Normalizer(inputCol='features', outputCol='norm_tfidf'), \n",
        "                                   feature.StandardScaler(withMean=True, withStd=False, \n",
        "                                                          inputCol='norm_tfidf',\n",
        "                                                          outputCol='centered_tfidf'),\n",
        "                                    clustering.KMeans(k=5, featuresCol='centered_tfidf', predictionCol='kmeans_score'),\\\n",
        "                                   feature.PCA(k=5, inputCol='centered_tfidf', outputCol='new_scores')])\\\n",
        "    .fit(ds_features_df)"
      ]
    },
    {
      "cell_type": "code",
      "source": [
        "q6_df = pipe_pca2.transform(ds_features_df)\n",
        "q6_df_pd = q6_df.toPandas()"
      ],
      "metadata": {
        "id": "Xlek1MQWBuPb"
      },
      "execution_count": 182,
      "outputs": []
    },
    {
      "cell_type": "code",
      "source": [
        "college_names = np.array(ds_features_df.select('id').rdd.map(lambda x: x['id']).collect())\n",
        "X = np.array(q6_df.select('new_scores').rdd.map(lambda x: x['new_scores']).collect())\n",
        "print(\"X.shape:\", X.shape)"
      ],
      "metadata": {
        "colab": {
          "base_uri": "https://localhost:8080/"
        },
        "id": "ctlWxBKDLWLj",
        "outputId": "3eb872a0-affe-4ccd-fb10-73e9c8874b66"
      },
      "execution_count": 183,
      "outputs": [
        {
          "output_type": "stream",
          "name": "stdout",
          "text": [
            "X.shape: (222, 5)\n"
          ]
        }
      ]
    },
    {
      "cell_type": "code",
      "source": [
        "from matplotlib.colors import ListedColormap\n",
        "# Plot PCA2 scores against PCA1 scores\n",
        "\n",
        "label = [0,1,2,3,4]\n",
        "color = []\n",
        "for i in q6_df_pd['kmeans_score']:\n",
        "  if i == 0:\n",
        "    color.append(0)\n",
        "  elif i ==1:\n",
        "    color.append(1)\n",
        "  elif i ==2:\n",
        "    color.append(2)\n",
        "  elif i ==3:\n",
        "    color.append(3)\n",
        "  elif i ==4:\n",
        "    color.append(4)\n",
        "cmp = ListedColormap(['red','blue','yellow','green','orange'])\n",
        "\n",
        "fig, ax = plt.subplots()\n",
        "fig.set_figheight(7)\n",
        "fig.set_figwidth(7)\n",
        "scatter = ax.scatter(X[:,0], X[:,1], c = color, cmap = cmp)\n",
        "fig.suptitle(\"College Name PC2 Scores vs. PC1 Scores\", y=.92)\n",
        "ax.set_xlabel(\"PC1\")\n",
        "ax.set_ylabel(\"PC2\")\n",
        "\n",
        "ax.legend(handles = scatter.legend_elements()[0], title = 'Clustering Group', labels = label, loc = 'upper left')\n",
        "display(plt.show())"
      ],
      "metadata": {
        "id": "vUqP0jWoJLl5",
        "colab": {
          "base_uri": "https://localhost:8080/",
          "height": 481
        },
        "outputId": "100d67e0-d65e-4fe8-84cc-b92ac7faa5c6"
      },
      "execution_count": 184,
      "outputs": [
        {
          "output_type": "display_data",
          "data": {
            "text/plain": [
              "<Figure size 504x504 with 1 Axes>"
            ],
            "image/png": "[encoded data removed]"
          },
          "metadata": {
            "needs_background": "light"
          }
        },
        {
          "output_type": "display_data",
          "data": {
            "text/plain": [
              "None"
            ]
          },
          "metadata": {}
        }
      ]
    },
    {
      "cell_type": "code",
      "source": [
        "# zoom in to get a better look\n",
        "college_names = np.array(ds_features_df.select('name').rdd.map(lambda x: x['name']).collect())\n",
        "X1 = np.array(pipe_pca2.transform(ds_features_df).select('new_scores').rdd.map(lambda x: x['new_scores']).collect())\n",
        "print(\"X.shape:\", X.shape)"
      ],
      "metadata": {
        "colab": {
          "base_uri": "https://localhost:8080/"
        },
        "id": "bULaUP9-SbNc",
        "outputId": "33124fba-3e09-4273-8595-ee1970bbda74"
      },
      "execution_count": 185,
      "outputs": [
        {
          "output_type": "stream",
          "name": "stdout",
          "text": [
            "X.shape: (222, 5)\n"
          ]
        }
      ]
    },
    {
      "cell_type": "code",
      "source": [
        "new_idx = np.logical_and((X1[:, 0] > -0.4), (X1[:, 0] < -0.1))\n",
        "X1 = X1[new_idx]\n",
        "college_names = college_names[new_idx]"
      ],
      "metadata": {
        "id": "FElJFZAbmnMM"
      },
      "execution_count": 186,
      "outputs": []
    },
    {
      "cell_type": "code",
      "source": [
        "fig, ax = plt.subplots()\n",
        "fig.set_figheight(7)\n",
        "fig.set_figwidth(7)\n",
        "scatter = ax.scatter(X1[:,0], X1[:,1])\n",
        "fig.suptitle(\"College Name PC2 Scores vs. PC1 Scores\", y=.92)\n",
        "ax.set_xlabel(\"PC1\")\n",
        "ax.set_ylabel(\"PC2\")\n",
        "\n",
        "for i, txt in enumerate(college_names):\n",
        "    ax.annotate(txt, (X1[i,0], X1[i,1]))\n",
        "\n",
        "display(plt.show())"
      ],
      "metadata": {
        "colab": {
          "base_uri": "https://localhost:8080/",
          "height": 481
        },
        "outputId": "7448afca-b1f8-4604-eb6d-c714794c6d8b",
        "id": "PDvBt859pwkB"
      },
      "execution_count": 187,
      "outputs": [
        {
          "output_type": "display_data",
          "data": {
            "text/plain": [
              "<Figure size 504x504 with 1 Axes>"
            ],
            "image/png": "[encoded data removed]"
          },
          "metadata": {
            "needs_background": "light"
          }
        },
        {
          "output_type": "display_data",
          "data": {
            "text/plain": [
              "None"
            ]
          },
          "metadata": {}
        }
      ]
    },
    {
      "cell_type": "markdown",
      "metadata": {
        "id": "F3o3YsyODWoJ"
      },
      "source": [
        "##### Grading Feedback Cell"
      ]
    },
    {
      "cell_type": "markdown",
      "metadata": {
        "id": "8E8pdJyKzVrL"
      },
      "source": [
        "Your explanation here\n",
        "\n",
        "From the second scattler plot, we can see that the 'University of Otago' is far away from other universities. There're a large group of universities are very close to each other towards the top right corner which menas they have quite similiar programs to each other. And there are also some dots that cover each other which makes me believe that the programs in those universities are exactly the same."
      ]
    },
    {
      "cell_type": "markdown",
      "metadata": {
        "id": "aFZa9ogWzYtO"
      },
      "source": [
        "##### Grading Feedback Cell"
      ]
    },
    {
      "cell_type": "markdown",
      "metadata": {
        "id": "R7LUGkjjDWoJ"
      },
      "source": [
        "# Question 7: (10 pts)\n",
        "- Starting with pipe_pca1 from question 5, transform the pipeline and save the resulting dataframe to a variable named `pca_fun`.  \n",
        "-Extract the output from the standard scaler output column from the first row of pca_fun and store in a variable named `row1_centered`. \n",
        "- Manually compute 5 PCA scores by projecting `row1_centered` onto the first 5 loading vectors which were computed in your PCA object. Save the 5 projected pca scores in a varialbe called `proj_scores`.  \n",
        "- Extract the first 5 PCA scores from the first row of the pca_fun scores column and save them in a variable named `pca_fun_scores`.  \n",
        "- The grading cell prints `proj_scores` and `pca_fun_scores` such that they are right next to each other.  Compare `proj_scores` to `pca_fun_scores` and explain why they are the same or different. \n",
        "- Indicate what specific ISLR equation you implemented in the explanation.  Identify the equation by it's equation number in the text book.\n",
        "- Separate the requested 2 explanations by introducing bullets in the markdown cell."
      ]
    },
    {
      "cell_type": "code",
      "source": [
        "# your code here (6 pts)\n",
        "pca_fun = pipe_pca1.transform(ds_features_df)\n",
        "pca_fun.show(5)"
      ],
      "metadata": {
        "colab": {
          "base_uri": "https://localhost:8080/"
        },
        "id": "LO7ilCPJs5nd",
        "outputId": "cc806e16-b10f-4f7e-e79e-265d83ed9d27"
      },
      "execution_count": 188,
      "outputs": [
        {
          "output_type": "stream",
          "name": "stdout",
          "text": [
            "+---+--------------------+--------------------+--------------------+-------+-------+-----+------+--------+--------------------+--------------------+--------------------+----------------+------------+-------+----------+------------+-----+----+-------------+----------------+--------+---------+--------------------+--------+---------+---------+------+--------------------+--------------------+--------------------+--------------------+--------------------+--------------------+--------------------+\n",
            "| id|                name|                 url|             program| degree|country|state|online|oncampus|          department|          created_at|          updated_at|university_count|program_size|courses|admit_reqs|year_founded|notes|cost|visualization|machine learning|business|databases|programminglanguages|capstone|mapreduce|part-time|ethics|                text|               words|            filtered|                  tf|            features|           zfeatures|              scores|\n",
            "+---+--------------------+--------------------+--------------------+-------+-------+-----+------+--------+--------------------+--------------------+--------------------+----------------+------------+-------+----------+------------+-----+----+-------------+----------------+--------+---------+--------------------+--------+---------+---------+------+--------------------+--------------------+--------------------+--------------------+--------------------+--------------------+--------------------+\n",
            "|  1|South Dakota Stat...|http://www.sdstat...|        Data Science|Masters|     US|   SD| FALSE|    TRUE|Mathematics and S...|2015-01-10 04:13:...|2015-01-10 04:13:...|               1|        null|   null|      null|        null| null|null|         null|            null|    null|     null|                null|    null|     null|     null|  null|Data Science Mast...|[data, science, m...|[data, science, m...|(97,[0,1,4,6,29],...|(97,[0,1,4,6,29],...|[0.53794816240483...|[0.44505142982691...|\n",
            "|  2|Dakota State Univ...|http://www.dsu.ed...|           Analytics|Masters|     US|   SD|  TRUE|    TRUE|Business and Info...|2015-01-10 04:13:...|2015-01-10 04:13:...|               1|        null|   null|      null|        null| null|null|         null|            null|    null|     null|                null|    null|     null|     null|  null|Analytics Masters...|[analytics, maste...|[analytics, maste...|(97,[0,2,3,7,20],...|(97,[0,2,3,7,20],...|[0.53794816240483...|[0.21451296032728...|\n",
            "|  3|    Lewis University|http://www.lewisu...|        Data Science|Masters|     US|   IL|  TRUE|    TRUE|    Computer Science|2015-01-10 04:13:...|2015-01-10 04:13:...|               1|        null|   null|      null|        null| null|null|         null|            null|    null|     null|                null|    null|     null|     null|  null|Data Science Mast...|[data, science, m...|[data, science, m...|(97,[0,1,4],[1.0,...|(97,[0,1,4],[0.25...|[0.53794816240483...|[0.45180387192089...|\n",
            "|  4|Saint Joseph's Un...|http://online.sju...|Business Intellig...|Masters|     US|   PA|  TRUE|    TRUE|            Business|2015-01-10 04:13:...|2015-01-10 04:13:...|               1|        null|   null|      null|        null| null|null|         null|            null|    null|     null|                null|    null|     null|     null|  null|Business Intellig...|[business, intell...|[business, intell...|(97,[0,2,3,8],[1....|(97,[0,2,3,8],[0....|[0.53794816240483...|[-0.3499699272078...|\n",
            "|  5| University Of Leeds|http://www.engine...|Advanced Computer...|Masters|     GB| null| FALSE|    TRUE|    Computer Science|2015-01-10 04:13:...|2015-01-10 04:13:...|               1|        null|   null|      null|        null| null|null|         null|            null|    null|     null|                null|    null|     null|     null|  null|Advanced Computer...|[advanced, comput...|[advanced, scienc...|(97,[0,1,3,4,37],...|(97,[0,1,3,4,37],...|[0.53794816240483...|[0.43582487693177...|\n",
            "+---+--------------------+--------------------+--------------------+-------+-------+-----+------+--------+--------------------+--------------------+--------------------+----------------+------------+-------+----------+------------+-----+----+-------------+----------------+--------+---------+--------------------+--------+---------+---------+------+--------------------+--------------------+--------------------+--------------------+--------------------+--------------------+--------------------+\n",
            "only showing top 5 rows\n",
            "\n"
          ]
        }
      ]
    },
    {
      "cell_type": "code",
      "source": [
        "row1_centered = pca_fun.select('zfeatures','scores').first()"
      ],
      "metadata": {
        "id": "b_MPpXGV-3us"
      },
      "execution_count": 189,
      "outputs": []
    },
    {
      "cell_type": "code",
      "source": [
        "loadings = pipe_pca1.stages[-1].pc.toArray()\n",
        "proj_scores = row1_centered['zfeatures'].dot(loadings[:,0:5])"
      ],
      "metadata": {
        "id": "iY1-08a6cz1C"
      },
      "execution_count": 190,
      "outputs": []
    },
    {
      "cell_type": "code",
      "source": [
        "pca_fun_scores = pca_fun.select('scores').first()['scores'][:5]"
      ],
      "metadata": {
        "id": "vZhlUHGmtRbD"
      },
      "execution_count": 191,
      "outputs": []
    },
    {
      "cell_type": "code",
      "execution_count": 192,
      "metadata": {
        "id": "KqPb70Vqm0XH",
        "colab": {
          "base_uri": "https://localhost:8080/"
        },
        "outputId": "4e2bda6b-f61c-42ff-c38f-10096526cbe3"
      },
      "outputs": [
        {
          "output_type": "stream",
          "name": "stdout",
          "text": [
            "[ 0.44505143 -0.02102953  0.36169679  1.12095857  0.08108764]\n",
            "[ 0.44505143 -0.02102953  0.36169679  1.12095857  0.08108764]\n"
          ]
        }
      ],
      "source": [
        "# Grading Cell - do not modify\n",
        "print(proj_scores)\n",
        "print(pca_fun_scores)"
      ]
    },
    {
      "cell_type": "markdown",
      "metadata": {
        "id": "4TIRUfWtDWoK"
      },
      "source": [
        "##### Grading Feedback Cell"
      ]
    },
    {
      "cell_type": "markdown",
      "metadata": {
        "id": "CfleZILcDWoK"
      },
      "source": [
        "Your 2 explanations here (4 pts): \n",
        "\n",
        "- proj_scores and pca_fun_scores are the same to each other.\n",
        "- In ISLR equation 10.1 & 10.2: Z1=ϕ11X1+ϕ21X2+…+ϕp1Xp"
      ]
    },
    {
      "cell_type": "markdown",
      "metadata": {
        "id": "F3Ug4Q5lDWoK"
      },
      "source": [
        "##### Grading Feedback Cell"
      ]
    },
    {
      "cell_type": "markdown",
      "metadata": {
        "id": "6ofchNpsDWoL"
      },
      "source": [
        "# Question 8: (10 pts)\n",
        "- Perform an inverse transform on the `proj_scores` variable and store the result in a variable named `inverse`.  \n",
        "- The grading cell below prints `inverse` and the original `row1_centered` data such that they are right next to each other.  \n",
        "- Explain why `inverse` is the same or different than `row1_centered`.  \n",
        "- If the `inverse` is different than `row1_centered`, explain how you could modify the forward and reverse transformation process such that the resulting `inverse` data almost exactly matches `row1_centered`.  Be very specific about how you would modify the process.\n",
        "- Indicate what specific ISLR inverse equation you implemented in the explanation.  Identify the equation by it's equation number in the text book.\n",
        "- Separate the requested 3 explanations by introducing bullets in the markdown cell."
      ]
    },
    {
      "cell_type": "code",
      "execution_count": 193,
      "metadata": {
        "id": "s6NhVyKJDWoL"
      },
      "outputs": [],
      "source": [
        "# print(\"all loadings shape:\", loadings.shape)\n",
        "# print(\"all scores shape:\", proj_scores.shape)\n",
        "# print()\n",
        "\n",
        "# num_loadings = 5\n",
        "# for i in np.arange(1, num_loadings+1):\n",
        "#     print(\"num_loadings:\", i)\n",
        "#     print(\"loadings shape:\", loadings[:,:i].shape)\n",
        "#     print(\"scores shape:\", proj_scores[:i].shape)\n",
        "\n",
        "#     print(\"Method 2:\")\n",
        "#     print(\"pca_fun_scores.shape\", proj_scores[:i].reshape((1,i)).shape)\n",
        "#     print(\"loadings[:,:i].T.shape\", loadings[:,:i].T.shape)\n",
        "#     inverse_xform = np.dot(proj_scores[:i].reshape((1,i)), loadings[:,:i].T)\n",
        "    \n",
        "#     print(\"inverse xform shape:\", inverse_xform.shape)\n",
        "#     print(\"inverse_xform:\", inverse_xform)\n",
        "#     print()"
      ]
    },
    {
      "cell_type": "code",
      "source": [
        "# your code here (4 pts)\n",
        "inverse = np.dot(proj_scores.reshape((1,5)), loadings[:,:5].T)"
      ],
      "metadata": {
        "id": "Ux4yb3tDnzs9"
      },
      "execution_count": 194,
      "outputs": []
    },
    {
      "cell_type": "code",
      "execution_count": 195,
      "metadata": {
        "id": "rrtOQu4ElaTp",
        "colab": {
          "base_uri": "https://localhost:8080/"
        },
        "outputId": "802143e5-9b3d-4fe9-d15e-2ec0bd2ea23e"
      },
      "outputs": [
        {
          "output_type": "stream",
          "name": "stdout",
          "text": [
            "Row(zfeatures=DenseVector([0.5379, 0.795, -0.6728, -0.8792, 1.0484, -0.3322, 2.4911, -0.2899, -0.3225, -0.3052, -0.2964, -0.266, -0.2706, -0.2266, -0.2589, -0.2488, -0.2278, -0.2278, -0.1816, -0.197, -0.2167, -0.1819, -0.2167, -0.18, -0.18, -0.18, -0.1663, -0.1435, -0.1515, 6.573, -0.1515, -0.1352, -0.1352, -0.1352, -0.1168, -0.1168, -0.1168, -0.1168, -0.0951, -0.0951, -0.0951, -0.0951, -0.0951, -0.0951, -0.0951, -0.0951, -0.0951, -0.0951, -0.0951, -0.0951, -0.0951, -0.0951, -0.0671, -0.0951, -0.0951, -0.0671, -0.0671, -0.0671, -0.0671, -0.0671, -0.0671, -0.0671, -0.0671, -0.0671, -0.0671, -0.0671, -0.0671, -0.0671, -0.0671, -0.0671, -0.0671, -0.0671, -0.0671, -0.0671, -0.0671, -0.0671, -0.0671, -0.0671, -0.0671, -0.0671, -0.0671, -0.0671, -0.0671, -0.0671, -0.0671, -0.0671, -0.0671, -0.0671, -0.0671, -0.0671, -0.0671, -0.0671, -0.0671, -0.0671, -0.0671, -0.0671, -0.0671]), scores=DenseVector([0.4451, -0.021, 0.3617, 1.121, 0.0811, 1.1254, -1.1013, 0.2206, -0.8572, 0.9615, 0.1508, 0.3499, 1.0449, 0.3248, 0.7131, -0.9987, 0.148, 0.2916, 0.4955, 1.7196, -2.3139, 0.1096, 0.1183, 0.2977, -0.5616, -0.0997, 0.2258, 0.4952, 0.1536, -0.1182, -1.1182, -0.1012, 1.3724, 0.9793, 0.003, -0.999, -2.363, -2.3179, 0.0643, -0.5206, 0.6097, -0.0, -0.7053, -0.0424, 1.1955, -0.7619, 0.2731, 1.1875, 1.4018, -0.6465, 0.4143, 0.1748, 0.5077, -0.4164, 1.7944, -1.4181, -0.8754, 0.5048, -0.2264, 0.8581, -0.1511, 1.5883, 0.5325, -0.4999, -0.5927, -1.2613, -0.1105, -0.168, -0.1208, -0.2829, 0.4888, 0.0145, 0.2705, 0.2048, -0.2209, -0.1092, 0.0909, 0.0501, -0.0, 0.0, -0.0, -0.0, 0.0, 0.0, 0.0, 0.0, -0.0, 0.0, 0.0, -0.0, 0.0, -0.0, 0.0, -0.0, 0.0, 0.0, 0.0]))\n",
            "[[-0.03239021  0.21927154 -0.06228146 -0.21505429  0.10921871  0.15315616\n",
            "   0.09134724  0.00352872 -0.03891426  0.04372844 -0.03568628  0.0264824\n",
            "   0.02026926 -0.06104249  0.09197132  0.0470118   0.08892289  0.08892289\n",
            "  -0.1019909  -0.07555581  0.02078974  0.0420462  -0.30477802  0.05980801\n",
            "  -0.40723877 -0.27710817  0.08157834  0.02906378  0.05815747  0.08878003\n",
            "   0.04024393  0.04144555 -0.11102209  0.02671321 -0.13514443 -0.39756641\n",
            "  -0.13514443 -0.07120469 -0.18363434  0.11970715 -0.22906805 -0.04849352\n",
            "   0.03075473  0.0326531   0.0634468  -0.01613665  0.11970715  0.00226626\n",
            "  -0.10454111  0.03739012  0.00759945 -0.06576149  0.00441425  0.02728759\n",
            "   0.0079108   0.02779186 -0.19678149  0.01455712  0.08550792  0.02434751\n",
            "  -0.43255741  0.08550792  0.0073515   0.02632975  0.01211199 -0.09411726\n",
            "   0.00048048  0.06087118 -0.13774138  0.03718421  0.02632975  0.0073515\n",
            "  -0.19678149  0.0024607   0.02434751 -0.11780387 -0.06232847 -0.19678149\n",
            "  -0.19678149  0.10803684  0.02182238  0.00748599 -0.09411726  0.00924197\n",
            "  -0.43255741  0.02919426  0.03667793 -0.0122936   0.00075071  0.02182238\n",
            "  -0.07303117 -0.07303117 -0.18547602  0.00441425 -0.01355192 -0.03234549\n",
            "   0.10803684]]\n"
          ]
        }
      ],
      "source": [
        "# Grading Feedback Cell Do Not Modify\n",
        "print(row1_centered)\n",
        "print(inverse)"
      ]
    },
    {
      "cell_type": "markdown",
      "metadata": {
        "id": "xUaa2AqYDWoM"
      },
      "source": [
        "##### Grading Feedback Cell"
      ]
    },
    {
      "cell_type": "markdown",
      "metadata": {
        "id": "KIFF6ROgDWoM"
      },
      "source": [
        "Your 3 explanations here (6 pts):\n",
        "\n",
        "- the inverse is different than row1_centered\n",
        "- The reason for me to get approach why two results are different is we didn't run enough loading vectors in this question because the resulting transformed data gets closer to the original data held in 'z' above as the number of loading vectors increases. So if we run towards 97, it will become the same.\n",
        "- we use equation 10.5 in ISLR book to implemented in the explanation"
      ]
    },
    {
      "cell_type": "markdown",
      "metadata": {
        "id": "xknV07pbDWoM"
      },
      "source": [
        "##### Grading Feedback Cell"
      ]
    }
  ],
  "metadata": {
    "celltoolbar": "Edit Metadata",
    "colab": {
      "collapsed_sections": [],
      "provenance": []
    },
    "kernelspec": {
      "display_name": "Python 3",
      "language": "python",
      "name": "python3"
    },
    "language_info": {
      "codemirror_mode": {
        "name": "ipython",
        "version": 3
      },
      "file_extension": ".py",
      "mimetype": "text/x-python",
      "name": "python",
      "nbconvert_exporter": "python",
      "pygments_lexer": "ipython3",
      "version": "3.8.8"
    },
    "latex_envs": {
      "LaTeX_envs_menu_present": true,
      "autoclose": false,
      "autocomplete": true,
      "bibliofile": "biblio.bib",
      "cite_by": "apalike",
      "current_citInitial": 1,
      "eqLabelWithNumbers": true,
      "eqNumInitial": 1,
      "hotkeys": {
        "equation": "Ctrl-E",
        "itemize": "Ctrl-I"
      },
      "labels_anchors": false,
      "latex_user_defs": false,
      "report_style_numbering": false,
      "user_envs_cfg": false
    },
    "toc": {
      "base_numbering": 1,
      "nav_menu": {},
      "number_sections": true,
      "sideBar": true,
      "skip_h1_title": false,
      "title_cell": "Table of Contents",
      "title_sidebar": "Contents",
      "toc_cell": false,
      "toc_position": {},
      "toc_section_display": true,
      "toc_window_display": false
    }
  },
  "nbformat": 4,
  "nbformat_minor": 0
}