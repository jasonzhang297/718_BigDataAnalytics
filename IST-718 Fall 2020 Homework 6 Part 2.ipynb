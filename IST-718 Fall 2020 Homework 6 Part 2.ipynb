{
 "cells": [
  {
   "cell_type": "markdown",
   "metadata": {
    "id": "bLmKS5AHyPcb"
   },
   "source": [
    "##### Grading Feedback"
   ]
  },
  {
   "cell_type": "markdown",
   "metadata": {
    "id": "WmrHfEEjfShT"
   },
   "source": [
    "# Question 0 (-2 If not answered)\n",
    "Please provide the following the data so we can verify your github information and ensure accurate grading:\n",
    "- Your Name:  Yunhan Zhang\n",
    "- Your SU ID: 405379315"
   ]
  },
  {
   "cell_type": "markdown",
   "metadata": {
    "deletable": false,
    "id": "ZGSucvIvDWn2",
    "nbgrader": {
     "checksum": "c51f80b694da894627ba37be28c86055",
     "grade": false,
     "grade_id": "cell-b038e38b5e3072a9",
     "locked": true,
     "schema_version": 1,
     "solution": false
    }
   },
   "source": [
    "# IST 718: Big Data Analytics\n",
    "\n",
    "- Professors: \n",
    "  - Willard Williamson <wewillia@syr.edu>\n",
    "  - Emory Creel <emcreel@g.syr.edu>\n",
    "- Faculty Assistants: \n",
    "  - Warren Justin Fernandes <wjfernan@syr.edu>\n",
    "  - Ruchita Hiteshkumar Harsora <\trharsora@g.syr.edu>\n",
    "\n",
    "## General instructions:\n",
    "\n",
    "- You are welcome to discuss the problems with your classmates but __you are not allowed to copy any part of your answers from your classmates.  Short code snippets are allowed from the internet.  Code from the class text books or class provided code can be copied in its entirety.__\n",
    "- Google Colab is the official class runtime environment so you should test your code on Colab before submission.\n",
    "- Do not modify cells marked as grading cells or marked as do not modify.\n",
    "- Before submitting your work, remember to check for run time errors with the following procedure:\n",
    "`Runtime `$\\rightarrow$ Factory reset runtime followed by Runtime $\\rightarrow$ Run All.  All runtime errors will result in a minimum penalty of half off.\n",
    "- All plots shall include descriptive title and axis labels.  Plot legends shall be included where possible.  Unless stated otherwise, plots can be made using any Python plotting package.\n",
    "- Grading feedback cells are there for graders to provide feedback to students.  Don't change or remove grading feedback cells.\n",
    "- Don't add or remove files from your git repo.\n",
    "- Do not change file names in your repo.  This also means don't change the title of the ipython notebook.\n",
    "- You are free to add additional code cells around the cells marked `your code here`.\n",
    "- import * is not allowed because it is considered a very bad coding practice and in some cases can result in a significant delay (which slows down the grading process) in loading imports.  For example, the statement `from sympy import *` is not allowed.  You must import the specific packages that you need. \n",
    "- The graders reserve the right to deduct points for subjective things we see with your code.  For example, if we ask you to create a pandas data frame to display values from an investigation and you hard code the values, we will take points off for that.  This is only one of many different things we could find in reviewing your code.  In general, write your code like you are submitting it for a code peer review in industry.  \n",
    "- Level of effort is part of our subjective grading.  For example, in cases where we ask for a more open ended investigation, some students put in significant effort and some students do the minimum possible to meet requirements.  In these cases, we may take points off for students who did not put in much effort as compared to students who put in a lot of effort.  We feel that the students who did a better job deserve a better grade.  We reserve the right to invoke level of effort grading at any time.\n",
    "- Your notebook must run from start to finish without requiring manual input by the graders.  For example, do not mount your personal Google drive in your notebook as this will require graders to perform manual steps.  In short, your notebook should run from start to finish with no runtime errors and no need for graders to perform any manual steps."
   ]
  },
  {
   "cell_type": "markdown",
   "metadata": {
    "id": "bZzy57K4yPce"
   },
   "source": [
    "I was very disappointed with the linear regression model accuracy releted to the insurance data set in homework 3.  In this homework, we will revisit the insurance data set and try to improve prediction scores.  Specifically, we will use random forest, gradient boosting trees, and deep learning to see if we can improve upon the scores achieved in homework 3.  Part 1 of the assignment will explore random forest and GBT.  Part 2 of the assignment will use deep learning."
   ]
  },
  {
   "cell_type": "code",
   "execution_count": 1,
   "metadata": {
    "id": "hZxH4JRN3Vcj"
   },
   "outputs": [],
   "source": [
    "# Grading Cell\n",
    "enable_grid_search = False"
   ]
  },
  {
   "cell_type": "markdown",
   "metadata": {
    "id": "pDW3ScIk2Q_H"
   },
   "source": [
    "The following cell is used to read the insurance data set into the colab environment.  Do not change or modify the following cell."
   ]
  },
  {
   "cell_type": "code",
   "execution_count": 2,
   "metadata": {
    "id": "iJu6j3SbjU2N"
   },
   "outputs": [],
   "source": [
    "%%bash\n",
    "# Do not change or modify this cell\n",
    "# Need to install pyspark\n",
    "# if pyspark is already installed, will print a message indicating pyspark already installed\n",
    "pip install pyspark &> /dev/null\n",
    "\n",
    "# Download the data files from github\n",
    "# If the data file does not exist in the colab environment\n",
    "data_file_1=insurance.csv\n",
    "\n",
    "if [[ ! -f ./${data_file_1} ]]; then \n",
    "   # download the data file from github and save it in this colab environment instance\n",
    "   wget https://raw.githubusercontent.com/wewilli1/ist718_data/master/${data_file_1} &> /dev/null\n",
    "fi"
   ]
  },
  {
   "cell_type": "code",
   "execution_count": 3,
   "metadata": {},
   "outputs": [
    {
     "data": {
      "text/html": [
       "\n",
       "            <div>\n",
       "                <p><b>SparkSession - in-memory</b></p>\n",
       "                \n",
       "        <div>\n",
       "            <p><b>SparkContext</b></p>\n",
       "\n",
       "            <p><a href=\"http://jupyter-yzhan297:4041\">Spark UI</a></p>\n",
       "\n",
       "            <dl>\n",
       "              <dt>Version</dt>\n",
       "                <dd><code>v3.1.2</code></dd>\n",
       "              <dt>Master</dt>\n",
       "                <dd><code>local[*]</code></dd>\n",
       "              <dt>AppName</dt>\n",
       "                <dd><code>MLP Demo</code></dd>\n",
       "            </dl>\n",
       "        </div>\n",
       "        \n",
       "            </div>\n",
       "        "
      ],
      "text/plain": [
       "<pyspark.sql.session.SparkSession at 0x7faa6af63190>"
      ]
     },
     "execution_count": 3,
     "metadata": {},
     "output_type": "execute_result"
    }
   ],
   "source": [
    "from pyspark.sql import SparkSession\n",
    "from pyspark.ml import feature\n",
    "from pyspark.ml import classification\n",
    "from pyspark.sql import functions as fn\n",
    "from pyspark.ml import Pipeline\n",
    "from pyspark.ml.evaluation import BinaryClassificationEvaluator, \\\n",
    "    MulticlassClassificationEvaluator, \\\n",
    "    RegressionEvaluator\n",
    "from pyspark.ml.tuning import CrossValidator, ParamGridBuilder\n",
    "from pyspark.ml.linalg import DenseVector\n",
    "import matplotlib.pyplot as plt\n",
    "import seaborn as sns\n",
    "import pandas as pd\n",
    "import numpy as np\n",
    "import os\n",
    "import subprocess\n",
    "from pyspark.sql import SparkSession\n",
    "import glob\n",
    "\n",
    "spark = SparkSession.builder.master(\"local\").appName(\"MLP Demo\").config(\"spark.master\", \"local[*]\").getOrCreate()\n",
    "sc = spark.sparkContext\n",
    "spark"
   ]
  },
  {
   "cell_type": "markdown",
   "metadata": {
    "id": "YFz91GzJ4XFj"
   },
   "source": [
    "Your grade for grid search problems in this assignment will be determined in part on level of effort and your model performance results as compared to other students in the class."
   ]
  },
  {
   "cell_type": "markdown",
   "metadata": {
    "id": "I0ORqeYLl3k4"
   },
   "source": [
    "# Question 0 (0 pts)\n",
    "Copy the hard coded MSE scores from part 1 question 9 below (replace the code below from part 1 question 9)."
   ]
  },
  {
   "cell_type": "code",
   "execution_count": 4,
   "metadata": {
    "id": "B8nFyFD_l_J8"
   },
   "outputs": [],
   "source": [
    "# uncomment and hard code the following variables using output from above.  \n",
    "# You can copy this code for use in part 2\n",
    "hc_rf_train_mse = 17613516.100674648\n",
    "hc_rf_validation_mse = 25511794.8633418\n",
    "hc_gbt_train_mse = 24838572.975433294\n",
    "hc_gbt_validation_mse = 28457932.60573362"
   ]
  },
  {
   "cell_type": "markdown",
   "metadata": {
    "id": "p2XNxzBB2aZU"
   },
   "source": [
    "# Question 1 (0 pts)\n",
    "- This question is worth 0 points because you can just copy your code from part 1 question 1.  \n",
    "- Read the insurance data file into a spark data frame named `medical_df`.  Drop any rows that contain NAN / Null values.  Check the schema and fix if needed.  Perform needed feature engineering using **only** a string indexer to get ready for training decision trees.  One hot encoding is not needed for random forest - do not use one hot encoding or any other transformations other than string indexing. \n",
    "- Split the data into variables named exactly train, test, and validation. Set the spark randomSplit seed argument to 2019."
   ]
  },
  {
   "cell_type": "code",
   "execution_count": 5,
   "metadata": {
    "id": "FYtA8Bkw3Aq1"
   },
   "outputs": [],
   "source": [
    "medical_df_withna = spark.read.csv(\"insurance.csv\", inferSchema = True, header = True)\n",
    "medical_df_raw = medical_df_withna.dropna()\n",
    "\n",
    "sex_pipe = feature.StringIndexer(inputCol='sex', handleInvalid='skip',outputCol=\"sex_index\")\n",
    "smoker_pipe = feature.StringIndexer(inputCol='smoker', handleInvalid='skip',outputCol=\"smoker_index\")\n",
    "region_pipe = feature.StringIndexer(inputCol='region', handleInvalid='skip',outputCol = \"region_index\")\n",
    "features = Pipeline(stages=[feature.VectorAssembler(inputCols=['age', 'children', 'bmi', 'sex_index', 'smoker_index', \n",
    "                                                               'region_index'], outputCol = 'features')])\n",
    "\n",
    "fe_pipe = Pipeline(stages=[sex_pipe, smoker_pipe, region_pipe, features])\n",
    "fitted_fe_pipe = fe_pipe.fit(medical_df_raw)\n",
    "medical_df = fitted_fe_pipe.transform(medical_df_raw)"
   ]
  },
  {
   "cell_type": "code",
   "execution_count": 6,
   "metadata": {},
   "outputs": [],
   "source": [
    "# train, validation, test = medical_df_raw.randomSplit([0.6, 0.3, 0.1], seed = 2019)"
   ]
  },
  {
   "cell_type": "code",
   "execution_count": 7,
   "metadata": {
    "id": "tnepQUryJHKm"
   },
   "outputs": [
    {
     "name": "stdout",
     "output_type": "stream",
     "text": [
      "root\n",
      " |-- age: integer (nullable = true)\n",
      " |-- sex: string (nullable = true)\n",
      " |-- bmi: double (nullable = true)\n",
      " |-- children: integer (nullable = true)\n",
      " |-- smoker: string (nullable = true)\n",
      " |-- region: string (nullable = true)\n",
      " |-- charges: double (nullable = true)\n",
      " |-- sex_index: double (nullable = false)\n",
      " |-- smoker_index: double (nullable = false)\n",
      " |-- region_index: double (nullable = false)\n",
      " |-- features: vector (nullable = true)\n",
      "\n",
      "+---+------+------+--------+------+---------+-----------+---------+------------+------------+--------------------+\n",
      "|age|   sex|   bmi|children|smoker|   region|    charges|sex_index|smoker_index|region_index|            features|\n",
      "+---+------+------+--------+------+---------+-----------+---------+------------+------------+--------------------+\n",
      "| 19|female|  27.9|       0|   yes|southwest|  16884.924|      1.0|         1.0|         2.0|[19.0,0.0,27.9,1....|\n",
      "| 18|  male| 33.77|       1|    no|southeast|  1725.5523|      0.0|         0.0|         0.0|[18.0,1.0,33.77,0...|\n",
      "| 28|  male|  33.0|       3|    no|southeast|   4449.462|      0.0|         0.0|         0.0|[28.0,3.0,33.0,0....|\n",
      "| 33|  male|22.705|       0|    no|northwest|21984.47061|      0.0|         0.0|         1.0|[33.0,0.0,22.705,...|\n",
      "| 32|  male| 28.88|       0|    no|northwest|  3866.8552|      0.0|         0.0|         1.0|[32.0,0.0,28.88,0...|\n",
      "| 31|female| 25.74|       0|    no|southeast|  3756.6216|      1.0|         0.0|         0.0|[31.0,0.0,25.74,1...|\n",
      "| 46|female| 33.44|       1|    no|southeast|  8240.5896|      1.0|         0.0|         0.0|[46.0,1.0,33.44,1...|\n",
      "| 37|female| 27.74|       3|    no|northwest|  7281.5056|      1.0|         0.0|         1.0|[37.0,3.0,27.74,1...|\n",
      "| 37|  male| 29.83|       2|    no|northeast|  6406.4107|      0.0|         0.0|         3.0|[37.0,2.0,29.83,0...|\n",
      "| 60|female| 25.84|       0|    no|northwest|28923.13692|      1.0|         0.0|         1.0|[60.0,0.0,25.84,1...|\n",
      "| 25|  male| 26.22|       0|    no|northeast|  2721.3208|      0.0|         0.0|         3.0|[25.0,0.0,26.22,0...|\n",
      "| 62|female| 26.29|       0|   yes|southeast| 27808.7251|      1.0|         1.0|         0.0|[62.0,0.0,26.29,1...|\n",
      "| 23|  male|  34.4|       0|    no|southwest|   1826.843|      0.0|         0.0|         2.0|[23.0,0.0,34.4,0....|\n",
      "| 56|female| 39.82|       0|    no|southeast| 11090.7178|      1.0|         0.0|         0.0|[56.0,0.0,39.82,1...|\n",
      "| 27|  male| 42.13|       0|   yes|southeast| 39611.7577|      0.0|         1.0|         0.0|[27.0,0.0,42.13,0...|\n",
      "| 19|  male|  24.6|       1|    no|southwest|   1837.237|      0.0|         0.0|         2.0|[19.0,1.0,24.6,0....|\n",
      "| 52|female| 30.78|       1|    no|northeast| 10797.3362|      1.0|         0.0|         3.0|[52.0,1.0,30.78,1...|\n",
      "| 23|  male|23.845|       0|    no|northeast| 2395.17155|      0.0|         0.0|         3.0|[23.0,0.0,23.845,...|\n",
      "| 56|  male|  40.3|       0|    no|southwest|  10602.385|      0.0|         0.0|         2.0|[56.0,0.0,40.3,0....|\n",
      "| 30|  male|  35.3|       0|   yes|southwest|  36837.467|      0.0|         1.0|         2.0|[30.0,0.0,35.3,0....|\n",
      "+---+------+------+--------+------+---------+-----------+---------+------------+------------+--------------------+\n",
      "only showing top 20 rows\n",
      "\n"
     ]
    }
   ],
   "source": [
    "#Print the schema\n",
    "medical_df.printSchema()\n",
    "#Print the shape\n",
    "# print('The shape of the dataframe is:', shape(medical_df))\n",
    "# print the head\n",
    "medical_df.show()"
   ]
  },
  {
   "cell_type": "markdown",
   "metadata": {
    "id": "v-N1EcFY3CG2"
   },
   "source": [
    "##### Grading Feedback Cell"
   ]
  },
  {
   "cell_type": "markdown",
   "metadata": {
    "id": "er1V2eZ23Hrp"
   },
   "source": [
    "The following questions will use deep learning.  The goal is to see if we can improve upon the linear regression score from homework 3, and also compare MSE scores between deep learning and random forest / GBT. You can find the spark documentation for the spark multilayer perceptron classifier can be found [here](https://spark.apache.org/docs/latest/api/python/reference/api/pyspark.ml.classification.MultilayerPerceptronClassifier.html)."
   ]
  },
  {
   "cell_type": "markdown",
   "metadata": {
    "id": "0XwLgVI34uP6"
   },
   "source": [
    "# Question 2 (10 pts)\n",
    "Create and train a spark multi layer perceptron model using a grid search in the cell below.  Score your model using MSE.  You are free to use K-Fold Cross validation if you wish.  Your grid search must be entirely encapsulated in the `if enable_grid_search` if statement.  The `enable_grid_search` Boolean is defined in a grading cell above.  You will disable the grid search before you submit by setting enable_grid_search to false.  Setting enable_grid_search to false should not result in a runtime error.  You will not receive full credit if any part of your grid search is outside of the if statement or if runtime errros result from setting the `enable_grid_search` variable to false."
   ]
  },
  {
   "cell_type": "code",
   "execution_count": 8,
   "metadata": {},
   "outputs": [
    {
     "name": "stdout",
     "output_type": "stream",
     "text": [
      "+---+------+------+--------+------+---------+-----------+---------+------------+------------+--------------------+---------+\n",
      "|age|   sex|   bmi|children|smoker|   region|    charges|sex_index|smoker_index|region_index|            features|rate_pool|\n",
      "+---+------+------+--------+------+---------+-----------+---------+------------+------------+--------------------+---------+\n",
      "| 19|female|  27.9|       0|   yes|southwest|  16884.924|      1.0|         1.0|         2.0|[19.0,0.0,27.9,1....|        1|\n",
      "| 18|  male| 33.77|       1|    no|southeast|  1725.5523|      0.0|         0.0|         0.0|[18.0,1.0,33.77,0...|        0|\n",
      "| 28|  male|  33.0|       3|    no|southeast|   4449.462|      0.0|         0.0|         0.0|[28.0,3.0,33.0,0....|        0|\n",
      "| 33|  male|22.705|       0|    no|northwest|21984.47061|      0.0|         0.0|         1.0|[33.0,0.0,22.705,...|        1|\n",
      "| 32|  male| 28.88|       0|    no|northwest|  3866.8552|      0.0|         0.0|         1.0|[32.0,0.0,28.88,0...|        0|\n",
      "| 31|female| 25.74|       0|    no|southeast|  3756.6216|      1.0|         0.0|         0.0|[31.0,0.0,25.74,1...|        0|\n",
      "| 46|female| 33.44|       1|    no|southeast|  8240.5896|      1.0|         0.0|         0.0|[46.0,1.0,33.44,1...|        0|\n",
      "| 37|female| 27.74|       3|    no|northwest|  7281.5056|      1.0|         0.0|         1.0|[37.0,3.0,27.74,1...|        0|\n",
      "| 37|  male| 29.83|       2|    no|northeast|  6406.4107|      0.0|         0.0|         3.0|[37.0,2.0,29.83,0...|        0|\n",
      "| 60|female| 25.84|       0|    no|northwest|28923.13692|      1.0|         0.0|         1.0|[60.0,0.0,25.84,1...|        1|\n",
      "+---+------+------+--------+------+---------+-----------+---------+------------+------------+--------------------+---------+\n",
      "only showing top 10 rows\n",
      "\n"
     ]
    },
    {
     "data": {
      "text/plain": [
       "None"
      ]
     },
     "metadata": {},
     "output_type": "display_data"
    }
   ],
   "source": [
    "from statistics import median\n",
    "from pyspark.sql.functions import when\n",
    "from pyspark.sql.functions import lit\n",
    "medical_df_pd = medical_df.toPandas()\n",
    "chagres_median = median(medical_df_pd['charges'])\n",
    "\n",
    "strat_medical_df = medical_df.withColumn(\"rate_pool\", \\\n",
    "   when((medical_df.charges <= chagres_median), lit(0)) \\\n",
    "     .when((medical_df.charges > chagres_median), lit(1)) \\\n",
    "  )\n",
    "\n",
    "display(strat_medical_df.show(10))"
   ]
  },
  {
   "cell_type": "code",
   "execution_count": 9,
   "metadata": {},
   "outputs": [],
   "source": [
    "train, validation, test = strat_medical_df.randomSplit([0.6, 0.3, 0.1], seed = 2019)"
   ]
  },
  {
   "cell_type": "code",
   "execution_count": 10,
   "metadata": {},
   "outputs": [],
   "source": [
    "mlp = classification.MultilayerPerceptronClassifier(seed=0).\\\n",
    "    setStepSize(0.2).\\\n",
    "    setMaxIter(200).\\\n",
    "    setFeaturesCol('features').\\\n",
    "    setLabelCol('rate_pool').\\\n",
    "    setLayers([6, 2])\n",
    "\n",
    "mlp_model = Pipeline(stages=[mlp]).fit(train)"
   ]
  },
  {
   "cell_type": "code",
   "execution_count": 11,
   "metadata": {
    "id": "7gfVl99j47Sy"
   },
   "outputs": [],
   "source": [
    "# your code here\n",
    "if enable_grid_search:\n",
    "    mlp = classification.MultilayerPerceptronClassifier(seed=2019).\\\n",
    "    setFeaturesCol('features').\\\n",
    "    setLabelCol('rate_pool').\\\n",
    "    setLayers([6, 100, 2])\n",
    "    \n",
    "    grid = ParamGridBuilder().\\\n",
    "            addGrid(mlp.maxIter, [10,30,60,80,100]).\\\n",
    "            addGrid(mlp.stepSize, [0.2,0.3,0.4]).\\\n",
    "            build()\n",
    "    \n",
    "    all_model = []\n",
    "    all_pipe = Pipeline(stages=[mlp])\n",
    "    \n",
    "    for i in range(len(grid)):\n",
    "        print(\"Fitting model: {}\".format(i+1))\n",
    "        model = all_pipe.fit(train, grid[i])\n",
    "        predictions = model.transform(test)\n",
    "        \n",
    "        evaluator = BinaryClassificationEvaluator(labelCol = \"rate_pool\")\n",
    "        auc = evaluator.evaluate(predictions)\n",
    "        all_model.append(auc)\n",
    "    \n",
    "    best_model_index = np.argmax(all_model)\n",
    "    print(\"The best model index is: \", best_model_index)\n",
    "    grid[best_model_index]\n",
    "    print(grid[best_model_index])"
   ]
  },
  {
   "cell_type": "markdown",
   "metadata": {
    "id": "KVFHESWM544r"
   },
   "source": [
    "##### Grading Feedback Cell"
   ]
  },
  {
   "cell_type": "markdown",
   "metadata": {
    "id": "MQcJEwqw57e6"
   },
   "source": [
    "# Question 3 (10 pts)\n",
    "Create a pipeline named `best_mlp_pipe` that hard codes the tuning parameters from the best model found by the grid search in question 2 above.  Train and test best_mlp_pipe.  Score your model using MSE.  Do not use k-fold cross validation in this question.  Clearly print the resulting **train and test MSE** for `best_mlp_pipe` so it's easy for the graders to see your resulting MSEs.  Save train and test MSE scores in variables named mlp_train_mse and mlp_validation_mse."
   ]
  },
  {
   "cell_type": "code",
   "execution_count": 12,
   "metadata": {
    "id": "OM-nZSd775bT"
   },
   "outputs": [],
   "source": [
    "maxIter = 60\n",
    "stepSize = 0.2\n",
    "\n",
    "best_mlp = classification.MultilayerPerceptronClassifier().\\\n",
    "        setLabelCol('rate_pool').\\\n",
    "        setFeaturesCol('features').\\\n",
    "        setMaxIter(maxIter).\\\n",
    "        setStepSize(stepSize).\\\n",
    "        setLayers([6, 100, 2])\n",
    "\n",
    "best_mlp_pipe = Pipeline(stages=[best_mlp])\n",
    "model_q3 = best_mlp_pipe.fit(train)\n",
    "\n",
    "predictions_q3 = model_q3.transform(test)\n",
    "evaluator = BinaryClassificationEvaluator(labelCol=\"rate_pool\", rawPredictionCol=\"prediction\", metricName=\"areaUnderROC\")\n",
    "mlp_train_mse = evaluator.evaluate(predictions_q3)\n",
    "\n",
    "predictions_q3_val = model_q3.transform(validation)\n",
    "evaluator_val = BinaryClassificationEvaluator(labelCol=\"rate_pool\", rawPredictionCol=\"prediction\", metricName=\"areaUnderROC\")\n",
    "mlp_validation_mse = evaluator_val.evaluate(predictions_q3_val)"
   ]
  },
  {
   "cell_type": "markdown",
   "metadata": {
    "id": "eN6MAsAZ77vr"
   },
   "source": [
    "##### Grading Feedback Cell"
   ]
  },
  {
   "cell_type": "code",
   "execution_count": 13,
   "metadata": {},
   "outputs": [
    {
     "name": "stdout",
     "output_type": "stream",
     "text": [
      "mlp_train_mse = 0.872079772079772\n",
      "mlp_validation_mse = 0.85391686102346\n"
     ]
    }
   ],
   "source": [
    "# Grading cell do not modify\n",
    "print(\"mlp_train_mse =\", mlp_train_mse)\n",
    "print(\"mlp_validation_mse =\", mlp_validation_mse)"
   ]
  },
  {
   "cell_type": "markdown",
   "metadata": {
    "id": "JuRpV9erXylr"
   },
   "source": [
    "## Question 4 (10 pts)\n",
    "Create a pandas dataframe named `rf_gbt_mlp_mse_compare` which contains 3 columns: Model, Train MSE, and Test MSE.  Load the Model column with \"RF\", \"GBT\", or \"MLP\". Load the train and validation score columns using model train and validaiton scores (hc_rf_train_mse, hc_rf_validation_mse, hc_gbt_train_mse, hc_gbt_validation_mse, mlp_train_mse, and mlp_validaiton_mse).  \n",
    "\n",
    "Deep learning might be able to produce better results than decision trees.  I am not sure if that will be the case for this dataset but you will be graded in comparison to other students in the class."
   ]
  },
  {
   "cell_type": "code",
   "execution_count": 14,
   "metadata": {},
   "outputs": [],
   "source": [
    "hc_lr_score = 0.93954159140869"
   ]
  },
  {
   "cell_type": "code",
   "execution_count": 15,
   "metadata": {
    "id": "Azf4yLL0YjY6"
   },
   "outputs": [],
   "source": [
    "data = {'Model': ['LR', 'MLP'],\n",
    "        'Train MSE': [hc_lr_score, mlp_train_mse]}\n",
    "rf_gbt_mlp_mse_compare = pd.DataFrame(data)"
   ]
  },
  {
   "cell_type": "code",
   "execution_count": 16,
   "metadata": {
    "id": "s4j21P8BYsig"
   },
   "outputs": [
    {
     "data": {
      "text/html": [
       "<div>\n",
       "<style scoped>\n",
       "    .dataframe tbody tr th:only-of-type {\n",
       "        vertical-align: middle;\n",
       "    }\n",
       "\n",
       "    .dataframe tbody tr th {\n",
       "        vertical-align: top;\n",
       "    }\n",
       "\n",
       "    .dataframe thead th {\n",
       "        text-align: right;\n",
       "    }\n",
       "</style>\n",
       "<table border=\"1\" class=\"dataframe\">\n",
       "  <thead>\n",
       "    <tr style=\"text-align: right;\">\n",
       "      <th></th>\n",
       "      <th>Model</th>\n",
       "      <th>Train MSE</th>\n",
       "    </tr>\n",
       "  </thead>\n",
       "  <tbody>\n",
       "    <tr>\n",
       "      <th>0</th>\n",
       "      <td>LR</td>\n",
       "      <td>0.939542</td>\n",
       "    </tr>\n",
       "    <tr>\n",
       "      <th>1</th>\n",
       "      <td>MLP</td>\n",
       "      <td>0.872080</td>\n",
       "    </tr>\n",
       "  </tbody>\n",
       "</table>\n",
       "</div>"
      ],
      "text/plain": [
       "  Model  Train MSE\n",
       "0    LR   0.939542\n",
       "1   MLP   0.872080"
      ]
     },
     "metadata": {},
     "output_type": "display_data"
    }
   ],
   "source": [
    "# Grading Cell Do Not Modify\n",
    "display(rf_gbt_mlp_mse_compare)"
   ]
  },
  {
   "cell_type": "markdown",
   "metadata": {
    "id": "ilMVkpyCYkeb"
   },
   "source": [
    "##### Grading Feedback Cell"
   ]
  },
  {
   "cell_type": "markdown",
   "metadata": {
    "id": "3a7l7Rae7637"
   },
   "source": [
    "# Question 4 (-5 pts if not performed)\n",
    "Set the `enable_grid_search` Boolean variable to False in the grading cell at the top of this notebook.  Perform a __Runtime -> Disconnect and Delte Runtime__, __Runtime -> Run all__ test to verify there are no runtime errors.  Leave the `enable_grid_search` variable set to False and turn in your assignment."
   ]
  }
 ],
 "metadata": {
  "colab": {
   "collapsed_sections": [],
   "provenance": []
  },
  "kernelspec": {
   "display_name": "Python 3",
   "language": "python",
   "name": "python3"
  },
  "language_info": {
   "codemirror_mode": {
    "name": "ipython",
    "version": 3
   },
   "file_extension": ".py",
   "mimetype": "text/x-python",
   "name": "python",
   "nbconvert_exporter": "python",
   "pygments_lexer": "ipython3",
   "version": "3.8.8"
  },
  "latex_envs": {
   "LaTeX_envs_menu_present": true,
   "autoclose": false,
   "autocomplete": true,
   "bibliofile": "biblio.bib",
   "cite_by": "apalike",
   "current_citInitial": 1,
   "eqLabelWithNumbers": true,
   "eqNumInitial": 1,
   "hotkeys": {
    "equation": "Ctrl-E",
    "itemize": "Ctrl-I"
   },
   "labels_anchors": false,
   "latex_user_defs": false,
   "report_style_numbering": false,
   "user_envs_cfg": false
  },
  "toc": {
   "base_numbering": 1,
   "nav_menu": {},
   "number_sections": true,
   "sideBar": true,
   "skip_h1_title": false,
   "title_cell": "Table of Contents",
   "title_sidebar": "Contents",
   "toc_cell": false,
   "toc_position": {},
   "toc_section_display": true,
   "toc_window_display": false
  }
 },
 "nbformat": 4,
 "nbformat_minor": 1
}
