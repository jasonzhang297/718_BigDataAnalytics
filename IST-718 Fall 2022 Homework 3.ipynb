{
 "cells": [
  {
   "cell_type": "markdown",
   "metadata": {
    "id": "YFG-FbiBuU3W"
   },
   "source": [
    "##### Grading Feedback Cell"
   ]
  },
  {
   "cell_type": "markdown",
   "metadata": {
    "id": "rtmrn6lD--kF"
   },
   "source": [
    "**Question 0 (-2 pts if not provided):**  Enter your name and SU ID in the cell below."
   ]
  },
  {
   "cell_type": "markdown",
   "metadata": {
    "id": "bizycRXz_uM6"
   },
   "source": [
    "Your name and SU ID Here:\n",
    "Yunhan Zhang & 405379315"
   ]
  },
  {
   "cell_type": "markdown",
   "metadata": {
    "id": "ko1ywZU6uU3c"
   },
   "source": [
    "# IST 718: Big Data Analytics\n",
    "\n",
    "- Professors: \n",
    "  - Willard Williamson <wewillia@syr.edu>\n",
    "  - Emory Creel <emcreel@g.syr.edu>\n",
    "- Faculty Assistants: \n",
    "  - Warren Justin Fernandes <wjfernan@syr.edu>\n",
    "  - Ruchita Hiteshkumar Harsora <\trharsora@g.syr.edu>\n",
    "\n",
    "## General instructions:\n",
    "\n",
    "- You are welcome to discuss the problems with your classmates but __you are not allowed to copy any part of your answers from your classmates.  Short code snippets are allowed from the internet.  Code from the class text books or class provided code can be copied in its entirety.__\n",
    "- Google Colab is the official class runtime environment so you should test your code on Colab before submission.\n",
    "- Do not modify cells marked as grading cells or marked as do not modify.\n",
    "- Before submitting your work, remember to check for run time errors with the following procedure:\n",
    "`Runtime `$\\rightarrow$ Factory reset runtime followed by Runtime $\\rightarrow$ Run All.  All runtime errors will result in a minimum penalty of half off.\n",
    "- All plots shall include descriptive title and axis labels.  Plot legends shall be included where possible.  Unless stated otherwise, plots can be made using any Python plotting package.\n",
    "- Grading feedback cells are there for graders to provide feedback to students.  Don't change or remove grading feedback cells.\n",
    "- Don't add or remove files from your git repo.\n",
    "- Do not change file names in your repo.  This also means don't change the title of the ipython notebook.\n",
    "- You are free to add additional code cells around the cells marked `your code here`.\n",
    "- import * is not allowed because it is considered a very bad coding practice and in some cases can result in a significant delay (which slows down the grading process) in loading imports.  For example, the statement `from sympy import *` is not allowed.  You must import the specific packages that you need. \n",
    "- The graders reserve the right to deduct points for subjective things we see with your code.  For example, if we ask you to create a pandas data frame to display values from an investigation and you hard code the values, we will take points off for that.  This is only one of many different things we could find in reviewing your code.  In general, write your code like you are submitting it for a code peer review in industry.  \n",
    "- Level of effort is part of our subjective grading.  For example, in cases where we ask for a more open ended investigation, some students put in significant effort and some students do the minimum possible to meet requirements.  In these cases, we may take points off for students who did not put in much effort as compared to students who put in a lot of effort.  We feel that the students who did a better job deserve a better grade.  We reserve the right to invoke level of effort grading at any time.\n",
    "- Your notebook must run from start to finish without requiring manual input by the graders.  For example, do not mount your personal Google drive in your notebook as this will require graders to perform manual steps.  In short, your notebook should run from start to finish with no runtime errors and no need for graders to perform any manual steps."
   ]
  },
  {
   "cell_type": "markdown",
   "metadata": {
    "id": "8Y73-SWBcchM"
   },
   "source": [
    "# Medical Insurance Analysis\n",
    "This assignment uses a medical insurance dataset with the following columns:\n",
    "- age: age of primary beneficiary\n",
    "- sex: female, male\n",
    "- bmi: Body mass index, providing an understanding of body, weights that are relatively high or low relative to height, objective index of body weight (kg / m ^ 2) using the ratio of height to weight, ideally 18.5 to 24.9\n",
    "- children: Number of children covered by health insurance / Number of dependents\n",
    "- smoker: Smoking\n",
    "- region: the beneficiary's residential area in the US, northeast, southeast,southwest, northwest.\n",
    "- charges: Individual medical costs billed by health insurance\n",
    "\n",
    "**Note that you are required to split data into train / test / validation sets as needed to use in the pipelines created in this and future assignments**."
   ]
  },
  {
   "cell_type": "code",
   "execution_count": 1,
   "metadata": {
    "id": "iJu6j3SbjU2N"
   },
   "outputs": [],
   "source": [
    "%%bash\n",
    "# Do not change or modify this cell\n",
    "# Need to install pyspark\n",
    "# if pyspark is already installed, will print a message indicating pyspark already installed\n",
    "pip install pyspark &> /dev/null\n",
    "\n",
    "# Download the data files from github\n",
    "# If the data file does not exist in the colab environment\n",
    "data_file_1=insurance.csv\n",
    "\n",
    "if [[ ! -f ./${data_file_1} ]]; then \n",
    "   # download the data file from github and save it in this colab environment instance\n",
    "   wget https://raw.githubusercontent.com/wewilli1/ist718_data/master/${data_file_1} &> /dev/null\n",
    "fi"
   ]
  },
  {
   "cell_type": "code",
   "execution_count": 2,
   "metadata": {},
   "outputs": [],
   "source": [
    "# load all\n",
    "%matplotlib inline\n",
    "from pyspark.sql import SparkSession\n",
    "from pyspark.sql import SQLContext\n",
    "from pyspark.ml import feature\n",
    "from pyspark.ml import classification\n",
    "from pyspark.sql import functions as fn\n",
    "from pyspark.ml import Pipeline\n",
    "from pyspark.ml import feature, regression, evaluation, Pipeline\n",
    "from pyspark.mllib.evaluation import RegressionMetrics\n",
    "from pyspark.ml.evaluation import BinaryClassificationEvaluator, \\\n",
    "    MulticlassClassificationEvaluator, \\\n",
    "    RegressionEvaluator\n",
    "from pyspark.ml.tuning import CrossValidator, ParamGridBuilder\n",
    "import matplotlib.pyplot as plt\n",
    "import seaborn as sns\n",
    "import pandas as pd\n",
    "from pyspark.sql.functions import rand\n",
    "from pyspark.ml.linalg import Vectors\n",
    "from pyspark.ml.stat import Correlation\n",
    "spark = SparkSession.builder.getOrCreate()\n",
    "spark_context = spark.sparkContext\n",
    "sqlContext = SQLContext(spark_context)\n",
    "import numpy as np\n",
    "from statistics import median\n",
    "from pyspark.sql.functions import when\n",
    "from pyspark.sql.functions import lit\n",
    "from sklearn.linear_model import LogisticRegression\n",
    "from sklearn import metrics"
   ]
  },
  {
   "cell_type": "markdown",
   "metadata": {
    "id": "ITdbMW6cjDNh"
   },
   "source": [
    "# Question 1 (10 pts):\n",
    "Read the data into a spark dataframe named medical_df.  Column names should be named age, sex, bmi, children, smoker, region, and charges.  Print the resulting dataframe schema and shape such that it is easy for the graders to find and interpret.  Verify your schema makes sense.  If the schema does not makes sense, fix it."
   ]
  },
  {
   "cell_type": "code",
   "execution_count": 3,
   "metadata": {
    "id": "OjsvHE1afFnr"
   },
   "outputs": [
    {
     "data": {
      "text/html": [
       "<div>\n",
       "<style scoped>\n",
       "    .dataframe tbody tr th:only-of-type {\n",
       "        vertical-align: middle;\n",
       "    }\n",
       "\n",
       "    .dataframe tbody tr th {\n",
       "        vertical-align: top;\n",
       "    }\n",
       "\n",
       "    .dataframe thead th {\n",
       "        text-align: right;\n",
       "    }\n",
       "</style>\n",
       "<table border=\"1\" class=\"dataframe\">\n",
       "  <thead>\n",
       "    <tr style=\"text-align: right;\">\n",
       "      <th></th>\n",
       "      <th>age</th>\n",
       "      <th>sex</th>\n",
       "      <th>bmi</th>\n",
       "      <th>children</th>\n",
       "      <th>smoker</th>\n",
       "      <th>region</th>\n",
       "      <th>charges</th>\n",
       "    </tr>\n",
       "  </thead>\n",
       "  <tbody>\n",
       "    <tr>\n",
       "      <th>0</th>\n",
       "      <td>19</td>\n",
       "      <td>female</td>\n",
       "      <td>27.900</td>\n",
       "      <td>0</td>\n",
       "      <td>yes</td>\n",
       "      <td>southwest</td>\n",
       "      <td>16884.92400</td>\n",
       "    </tr>\n",
       "    <tr>\n",
       "      <th>1</th>\n",
       "      <td>18</td>\n",
       "      <td>male</td>\n",
       "      <td>33.770</td>\n",
       "      <td>1</td>\n",
       "      <td>no</td>\n",
       "      <td>southeast</td>\n",
       "      <td>1725.55230</td>\n",
       "    </tr>\n",
       "    <tr>\n",
       "      <th>2</th>\n",
       "      <td>28</td>\n",
       "      <td>male</td>\n",
       "      <td>33.000</td>\n",
       "      <td>3</td>\n",
       "      <td>no</td>\n",
       "      <td>southeast</td>\n",
       "      <td>4449.46200</td>\n",
       "    </tr>\n",
       "    <tr>\n",
       "      <th>3</th>\n",
       "      <td>33</td>\n",
       "      <td>male</td>\n",
       "      <td>22.705</td>\n",
       "      <td>0</td>\n",
       "      <td>no</td>\n",
       "      <td>northwest</td>\n",
       "      <td>21984.47061</td>\n",
       "    </tr>\n",
       "    <tr>\n",
       "      <th>4</th>\n",
       "      <td>32</td>\n",
       "      <td>male</td>\n",
       "      <td>28.880</td>\n",
       "      <td>0</td>\n",
       "      <td>no</td>\n",
       "      <td>northwest</td>\n",
       "      <td>3866.85520</td>\n",
       "    </tr>\n",
       "  </tbody>\n",
       "</table>\n",
       "</div>"
      ],
      "text/plain": [
       "   age     sex     bmi  children smoker     region      charges\n",
       "0   19  female  27.900         0    yes  southwest  16884.92400\n",
       "1   18    male  33.770         1     no  southeast   1725.55230\n",
       "2   28    male  33.000         3     no  southeast   4449.46200\n",
       "3   33    male  22.705         0     no  northwest  21984.47061\n",
       "4   32    male  28.880         0     no  northwest   3866.85520"
      ]
     },
     "metadata": {},
     "output_type": "display_data"
    },
    {
     "data": {
      "text/plain": [
       "'types:'"
      ]
     },
     "metadata": {},
     "output_type": "display_data"
    },
    {
     "data": {
      "text/plain": [
       "age           int32\n",
       "sex          object\n",
       "bmi         float64\n",
       "children      int32\n",
       "smoker       object\n",
       "region       object\n",
       "charges     float64\n",
       "dtype: object"
      ]
     },
     "metadata": {},
     "output_type": "display_data"
    },
    {
     "name": "stdout",
     "output_type": "stream",
     "text": [
      "root\n",
      " |-- age: integer (nullable = true)\n",
      " |-- sex: string (nullable = true)\n",
      " |-- bmi: double (nullable = true)\n",
      " |-- children: integer (nullable = true)\n",
      " |-- smoker: string (nullable = true)\n",
      " |-- region: string (nullable = true)\n",
      " |-- charges: double (nullable = true)\n",
      "\n"
     ]
    }
   ],
   "source": [
    "# Your code here\n",
    "medical_df = spark.read.csv('insurance.csv', header=True, inferSchema=True) #import\n",
    "\n",
    "medical_df_pd = medical_df.toPandas()\n",
    "display(medical_df_pd.head())\n",
    "display(\"types:\", medical_df_pd.dtypes)\n",
    "medical_df.printSchema()"
   ]
  },
  {
   "cell_type": "markdown",
   "metadata": {
    "id": "aFapuRDlBXpv"
   },
   "source": [
    "##### Grading Feedback Cell"
   ]
  },
  {
   "cell_type": "markdown",
   "metadata": {
    "id": "G8rUDg3Lj3ZT"
   },
   "source": [
    "# Question 2 (10 pts):\n",
    "Explore the data.  Make a pair plot.  Use a spark built in function to provide a statistical summary of medical_df.\n",
    "\n",
    "Explain the following 2 items:\n",
    "- What variables are positively and negatively correlated with charges.\n",
    "- Provide a brief summary that highlights what is interesting about the summary statistics. \n"
   ]
  },
  {
   "cell_type": "code",
   "execution_count": 4,
   "metadata": {},
   "outputs": [
    {
     "data": {
      "text/plain": [
       "Text(0.5, 1.01, 'Medical Data Pair Plot')"
      ]
     },
     "execution_count": 4,
     "metadata": {},
     "output_type": "execute_result"
    },
    {
     "data": {
      "image/png": "[encoded data removed]",
      "text/plain": [
       "<Figure size 720x720 with 20 Axes>"
      ]
     },
     "metadata": {
      "needs_background": "light"
     },
     "output_type": "display_data"
    }
   ],
   "source": [
    "# Medical Data Pair Plot Using Unscaled Data\n",
    "ax = sns.pairplot(medical_df.toPandas()[['age', 'bmi', 'children', 'charges']])\n",
    "ax.fig.suptitle(\"Medical Data Pair Plot\", y=1.01)"
   ]
  },
  {
   "cell_type": "code",
   "execution_count": 5,
   "metadata": {},
   "outputs": [
    {
     "name": "stdout",
     "output_type": "stream",
     "text": [
      "+-------+------------------+------+------------------+-----------------+------+---------+------------------+\n",
      "|summary|               age|   sex|               bmi|         children|smoker|   region|           charges|\n",
      "+-------+------------------+------+------------------+-----------------+------+---------+------------------+\n",
      "|  count|              1338|  1338|              1338|             1338|  1338|     1338|              1338|\n",
      "|   mean| 39.20702541106129|  null|30.663396860986538|  1.0949177877429|  null|     null|13270.422265141257|\n",
      "| stddev|14.049960379216147|  null| 6.098186911679012|1.205492739781914|  null|     null|12110.011236693992|\n",
      "|    min|                18|female|             15.96|                0|    no|northeast|         1121.8739|\n",
      "|    max|                64|  male|             53.13|                5|   yes|southwest|       63770.42801|\n",
      "+-------+------------------+------+------------------+-----------------+------+---------+------------------+\n",
      "\n"
     ]
    }
   ],
   "source": [
    "# statistical summary\n",
    "medical_df.describe().show()"
   ]
  },
  {
   "cell_type": "markdown",
   "metadata": {
    "id": "DsuZ3pw2q_Uw"
   },
   "source": [
    "Your explanation here <br>\n",
    "\n",
    "**What variables are positively and negatively correlated with charges?**\n",
    "\n",
    "By looking at the pair plot, we can see that \"age\" and \"bmi\" both are positively correlated with \"charges\". On the other hand, \"children\" is negatively correlated with charges.\n",
    "\n",
    "**Provide a brief summary that highlights what is interesting about the summary statistics.**\n",
    "\n",
    "By looking at the summary statistics, bmi column, we may realize people overall bmi are higher than ideally bmi range; The average amount of child people have is about 1."
   ]
  },
  {
   "cell_type": "markdown",
   "metadata": {
    "id": "CufyVhJCrGIH"
   },
   "source": [
    "##### Grading Feedback Cell"
   ]
  },
  {
   "cell_type": "markdown",
   "metadata": {
    "id": "TH0K2tforKv5"
   },
   "source": [
    "# Question 3 (10 pts):\n",
    "Do some data exploration.  Create 2 plots which highlight something interesting / surprising about the data. Provide descriptions of the 2 plots that you made.  Why did you make this plots and what is interesting about them. You will be graded as compared to the rest of the class on this question."
   ]
  },
  {
   "cell_type": "code",
   "execution_count": 6,
   "metadata": {
    "id": "yV2XV5WBrqGt"
   },
   "outputs": [
    {
     "data": {
      "text/plain": [
       "Text(0.5, 1.0, 'BMI Histogram\\nUnscaled Data')"
      ]
     },
     "execution_count": 6,
     "metadata": {},
     "output_type": "execute_result"
    },
    {
     "data": {
      "image/png": "[encoded data removed]",
      "text/plain": [
       "<Figure size 432x288 with 1 Axes>"
      ]
     },
     "metadata": {
      "needs_background": "light"
     },
     "output_type": "display_data"
    }
   ],
   "source": [
    "# Plot1\n",
    "ax = medical_df.toPandas().bmi.hist(edgecolor='black')\n",
    "ax.set_xlabel('bmi')\n",
    "ax.set_ylabel('Frequency')\n",
    "ax.set_title(\"BMI Histogram\\nUnscaled Data\")"
   ]
  },
  {
   "cell_type": "code",
   "execution_count": 7,
   "metadata": {},
   "outputs": [
    {
     "data": {
      "text/plain": [
       "Text(0.5, 1.0, 'charges Histogram\\nUnscaled Data')"
      ]
     },
     "execution_count": 7,
     "metadata": {},
     "output_type": "execute_result"
    },
    {
     "data": {
      "image/png": "[encoded data removed]",
      "text/plain": [
       "<Figure size 432x288 with 1 Axes>"
      ]
     },
     "metadata": {
      "needs_background": "light"
     },
     "output_type": "display_data"
    }
   ],
   "source": [
    "# Plot2\n",
    "ax = medical_df.toPandas().charges.hist(edgecolor='black')\n",
    "ax.set_xlabel('charges')\n",
    "ax.set_ylabel('Frequency')\n",
    "ax.set_title(\"charges Histogram\\nUnscaled Data\")"
   ]
  },
  {
   "cell_type": "markdown",
   "metadata": {
    "id": "tA9Dv7SArrZO"
   },
   "source": [
    "Your explanation here:<br> \n",
    "\n",
    "From the Plot1, we can see it is a bell-shape and we can tell people's overall bmi (25-35) are higher than ideally bmi range (18.5-24.9).\n",
    "\n",
    "From the Plot2, we can see the most charges range is less than $15000.\n"
   ]
  },
  {
   "cell_type": "markdown",
   "metadata": {
    "id": "WCH_f1kLrx9T"
   },
   "source": [
    "##### Grading Feedback Cell"
   ]
  },
  {
   "cell_type": "markdown",
   "metadata": {
    "id": "NWXdY0_prv7g"
   },
   "source": [
    "# Question 4 (10 pts): \n",
    "In this question you will perform feature engineering.  The medical_df is not ready for use with linear regression because some columns are categorical.  Create a new dataframe named fe_medical_df (feature engineered medical dataframe) which adds new feature engineered columns. Your feature engineering should take into account the best practices outlined in lecture.  You are free to ignore the best practices as long as your feature engineering produces better machine learning results than the best practices would have produced. We will be looking at your model scores in the following questions and grading your results as compared to the rest of the class. The feature engineering you perform in this question will have a direct result on how well your model performs below.  Encapsulate your feature engineering in a spark machine learning pipeline named fe_pipe (feature engineering pipe).\n",
    "\n",
    "Provide an explanation on exactly what feature engineering transformations you made for every column you transform.  We expect to see a separate explanation for each and every transformation performed. "
   ]
  },
  {
   "cell_type": "code",
   "execution_count": 8,
   "metadata": {
    "id": "_f6vKFI_ttAC"
   },
   "outputs": [],
   "source": [
    "# Define a sex_pipe that uses the StringIndexer to encode the gender data\n",
    "sex_pipe = feature.StringIndexer(inputCol='sex', handleInvalid='skip',outputCol=\"sexIndex\")"
   ]
  },
  {
   "cell_type": "code",
   "execution_count": 9,
   "metadata": {},
   "outputs": [],
   "source": [
    "# Define a smoker_pipe that uses the StringIndexer to encode the smoker data\n",
    "smoker_pipe = feature.StringIndexer(inputCol='smoker', handleInvalid='skip',outputCol=\"smokerIndex\")"
   ]
  },
  {
   "cell_type": "code",
   "execution_count": 10,
   "metadata": {},
   "outputs": [],
   "source": [
    "# Define a region_pipe that uses onehot encoder to encode the region data\n",
    "region_pipe = Pipeline(stages=[feature.StringIndexer(inputCol='region', handleInvalid='skip',outputCol = \"regionIndex\"), \n",
    "                                 feature.OneHotEncoder(inputCol='regionIndex',outputCol = \"OneHotRegion\")])"
   ]
  },
  {
   "cell_type": "code",
   "execution_count": 11,
   "metadata": {},
   "outputs": [],
   "source": [
    "# Applies a standard scaler function to age & charges and encapslate them with sexIndex; smokerIndex & OneHotRegion\n",
    "features = Pipeline(stages=[feature.VectorAssembler(inputCols=['age', 'charges', 'sexIndex', 'smokerIndex', \n",
    "                                                                        'OneHotRegion'], \n",
    "                                                              outputCol = 'features')])"
   ]
  },
  {
   "cell_type": "code",
   "execution_count": 12,
   "metadata": {},
   "outputs": [
    {
     "data": {
      "text/html": [
       "<div>\n",
       "<style scoped>\n",
       "    .dataframe tbody tr th:only-of-type {\n",
       "        vertical-align: middle;\n",
       "    }\n",
       "\n",
       "    .dataframe tbody tr th {\n",
       "        vertical-align: top;\n",
       "    }\n",
       "\n",
       "    .dataframe thead th {\n",
       "        text-align: right;\n",
       "    }\n",
       "</style>\n",
       "<table border=\"1\" class=\"dataframe\">\n",
       "  <thead>\n",
       "    <tr style=\"text-align: right;\">\n",
       "      <th></th>\n",
       "      <th>age</th>\n",
       "      <th>sex</th>\n",
       "      <th>bmi</th>\n",
       "      <th>children</th>\n",
       "      <th>smoker</th>\n",
       "      <th>region</th>\n",
       "      <th>charges</th>\n",
       "      <th>sexIndex</th>\n",
       "      <th>smokerIndex</th>\n",
       "      <th>regionIndex</th>\n",
       "      <th>OneHotRegion</th>\n",
       "      <th>features</th>\n",
       "    </tr>\n",
       "  </thead>\n",
       "  <tbody>\n",
       "    <tr>\n",
       "      <th>0</th>\n",
       "      <td>19</td>\n",
       "      <td>female</td>\n",
       "      <td>27.900</td>\n",
       "      <td>0</td>\n",
       "      <td>yes</td>\n",
       "      <td>southwest</td>\n",
       "      <td>16884.92400</td>\n",
       "      <td>1.0</td>\n",
       "      <td>1.0</td>\n",
       "      <td>2.0</td>\n",
       "      <td>(0.0, 0.0, 1.0)</td>\n",
       "      <td>[19.0, 16884.924, 1.0, 1.0, 0.0, 0.0, 1.0]</td>\n",
       "    </tr>\n",
       "    <tr>\n",
       "      <th>1</th>\n",
       "      <td>18</td>\n",
       "      <td>male</td>\n",
       "      <td>33.770</td>\n",
       "      <td>1</td>\n",
       "      <td>no</td>\n",
       "      <td>southeast</td>\n",
       "      <td>1725.55230</td>\n",
       "      <td>0.0</td>\n",
       "      <td>0.0</td>\n",
       "      <td>0.0</td>\n",
       "      <td>(1.0, 0.0, 0.0)</td>\n",
       "      <td>(18.0, 1725.5523, 0.0, 0.0, 1.0, 0.0, 0.0)</td>\n",
       "    </tr>\n",
       "    <tr>\n",
       "      <th>2</th>\n",
       "      <td>28</td>\n",
       "      <td>male</td>\n",
       "      <td>33.000</td>\n",
       "      <td>3</td>\n",
       "      <td>no</td>\n",
       "      <td>southeast</td>\n",
       "      <td>4449.46200</td>\n",
       "      <td>0.0</td>\n",
       "      <td>0.0</td>\n",
       "      <td>0.0</td>\n",
       "      <td>(1.0, 0.0, 0.0)</td>\n",
       "      <td>(28.0, 4449.462, 0.0, 0.0, 1.0, 0.0, 0.0)</td>\n",
       "    </tr>\n",
       "    <tr>\n",
       "      <th>3</th>\n",
       "      <td>33</td>\n",
       "      <td>male</td>\n",
       "      <td>22.705</td>\n",
       "      <td>0</td>\n",
       "      <td>no</td>\n",
       "      <td>northwest</td>\n",
       "      <td>21984.47061</td>\n",
       "      <td>0.0</td>\n",
       "      <td>0.0</td>\n",
       "      <td>1.0</td>\n",
       "      <td>(0.0, 1.0, 0.0)</td>\n",
       "      <td>(33.0, 21984.47061, 0.0, 0.0, 0.0, 1.0, 0.0)</td>\n",
       "    </tr>\n",
       "    <tr>\n",
       "      <th>4</th>\n",
       "      <td>32</td>\n",
       "      <td>male</td>\n",
       "      <td>28.880</td>\n",
       "      <td>0</td>\n",
       "      <td>no</td>\n",
       "      <td>northwest</td>\n",
       "      <td>3866.85520</td>\n",
       "      <td>0.0</td>\n",
       "      <td>0.0</td>\n",
       "      <td>1.0</td>\n",
       "      <td>(0.0, 1.0, 0.0)</td>\n",
       "      <td>(32.0, 3866.8552, 0.0, 0.0, 0.0, 1.0, 0.0)</td>\n",
       "    </tr>\n",
       "  </tbody>\n",
       "</table>\n",
       "</div>"
      ],
      "text/plain": [
       "   age     sex     bmi  children smoker     region      charges  sexIndex  \\\n",
       "0   19  female  27.900         0    yes  southwest  16884.92400       1.0   \n",
       "1   18    male  33.770         1     no  southeast   1725.55230       0.0   \n",
       "2   28    male  33.000         3     no  southeast   4449.46200       0.0   \n",
       "3   33    male  22.705         0     no  northwest  21984.47061       0.0   \n",
       "4   32    male  28.880         0     no  northwest   3866.85520       0.0   \n",
       "\n",
       "   smokerIndex  regionIndex     OneHotRegion  \\\n",
       "0          1.0          2.0  (0.0, 0.0, 1.0)   \n",
       "1          0.0          0.0  (1.0, 0.0, 0.0)   \n",
       "2          0.0          0.0  (1.0, 0.0, 0.0)   \n",
       "3          0.0          1.0  (0.0, 1.0, 0.0)   \n",
       "4          0.0          1.0  (0.0, 1.0, 0.0)   \n",
       "\n",
       "                                       features  \n",
       "0    [19.0, 16884.924, 1.0, 1.0, 0.0, 0.0, 1.0]  \n",
       "1    (18.0, 1725.5523, 0.0, 0.0, 1.0, 0.0, 0.0)  \n",
       "2     (28.0, 4449.462, 0.0, 0.0, 1.0, 0.0, 0.0)  \n",
       "3  (33.0, 21984.47061, 0.0, 0.0, 0.0, 1.0, 0.0)  \n",
       "4    (32.0, 3866.8552, 0.0, 0.0, 0.0, 1.0, 0.0)  "
      ]
     },
     "execution_count": 12,
     "metadata": {},
     "output_type": "execute_result"
    }
   ],
   "source": [
    "# collects all the pipelines together into one pipeline and read into single dataframe\n",
    "fe_pipe = Pipeline(stages=[sex_pipe, smoker_pipe, region_pipe, features])\n",
    "fitted_fe_pipe = fe_pipe.fit(medical_df)\n",
    "fe_medical_df = fitted_fe_pipe.transform(medical_df)\n",
    "pd_fe_medical_df = fe_medical_df.toPandas()\n",
    "pd_fe_medical_df.head()"
   ]
  },
  {
   "cell_type": "code",
   "execution_count": 13,
   "metadata": {
    "id": "hEwtHMqRyG5I"
   },
   "outputs": [
    {
     "name": "stdout",
     "output_type": "stream",
     "text": [
      "+---+------+------+--------+------+---------+-----------+--------+-----------+-----------+-------------+--------------------+\n",
      "|age|   sex|   bmi|children|smoker|   region|    charges|sexIndex|smokerIndex|regionIndex| OneHotRegion|            features|\n",
      "+---+------+------+--------+------+---------+-----------+--------+-----------+-----------+-------------+--------------------+\n",
      "| 19|female|  27.9|       0|   yes|southwest|  16884.924|     1.0|        1.0|        2.0|(3,[2],[1.0])|[19.0,16884.924,1...|\n",
      "| 18|  male| 33.77|       1|    no|southeast|  1725.5523|     0.0|        0.0|        0.0|(3,[0],[1.0])|(7,[0,1,4],[18.0,...|\n",
      "| 28|  male|  33.0|       3|    no|southeast|   4449.462|     0.0|        0.0|        0.0|(3,[0],[1.0])|(7,[0,1,4],[28.0,...|\n",
      "| 33|  male|22.705|       0|    no|northwest|21984.47061|     0.0|        0.0|        1.0|(3,[1],[1.0])|(7,[0,1,5],[33.0,...|\n",
      "| 32|  male| 28.88|       0|    no|northwest|  3866.8552|     0.0|        0.0|        1.0|(3,[1],[1.0])|(7,[0,1,5],[32.0,...|\n",
      "| 31|female| 25.74|       0|    no|southeast|  3756.6216|     1.0|        0.0|        0.0|(3,[0],[1.0])|[31.0,3756.6216,1...|\n",
      "| 46|female| 33.44|       1|    no|southeast|  8240.5896|     1.0|        0.0|        0.0|(3,[0],[1.0])|[46.0,8240.5896,1...|\n",
      "| 37|female| 27.74|       3|    no|northwest|  7281.5056|     1.0|        0.0|        1.0|(3,[1],[1.0])|[37.0,7281.5056,1...|\n",
      "| 37|  male| 29.83|       2|    no|northeast|  6406.4107|     0.0|        0.0|        3.0|    (3,[],[])|(7,[0,1],[37.0,64...|\n",
      "| 60|female| 25.84|       0|    no|northwest|28923.13692|     1.0|        0.0|        1.0|(3,[1],[1.0])|[60.0,28923.13692...|\n",
      "+---+------+------+--------+------+---------+-----------+--------+-----------+-----------+-------------+--------------------+\n",
      "only showing top 10 rows\n",
      "\n"
     ]
    },
    {
     "data": {
      "text/plain": [
       "None"
      ]
     },
     "metadata": {},
     "output_type": "display_data"
    },
    {
     "name": "stdout",
     "output_type": "stream",
     "text": [
      "root\n",
      " |-- age: integer (nullable = true)\n",
      " |-- sex: string (nullable = true)\n",
      " |-- bmi: double (nullable = true)\n",
      " |-- children: integer (nullable = true)\n",
      " |-- smoker: string (nullable = true)\n",
      " |-- region: string (nullable = true)\n",
      " |-- charges: double (nullable = true)\n",
      " |-- sexIndex: double (nullable = false)\n",
      " |-- smokerIndex: double (nullable = false)\n",
      " |-- regionIndex: double (nullable = false)\n",
      " |-- OneHotRegion: vector (nullable = true)\n",
      " |-- features: vector (nullable = true)\n",
      "\n"
     ]
    }
   ],
   "source": [
    "# Grading cell do not modify\n",
    "display(fe_medical_df.show(10))\n",
    "fe_medical_df.printSchema()"
   ]
  },
  {
   "cell_type": "markdown",
   "metadata": {
    "id": "IZen0wj8tuGT"
   },
   "source": [
    "Your explanation here:<br>\n",
    "\n",
    "Define a sex_pipe that uses the StringIndexer to encode the gender data & Define a smoker_pipe that uses the StringIndexer to encode the smoker data because these two variables only have 2 categories, can simply encode as 0/1.\n",
    "\n",
    "Define a region_pipe that uses onehot encoder to encode the region data because 'region does not maintain relationships between categories so is best used on plain categorical data."
   ]
  },
  {
   "cell_type": "markdown",
   "metadata": {
    "id": "TSIE2ARstydm"
   },
   "source": [
    "##### Grading Feedback Cell"
   ]
  },
  {
   "cell_type": "markdown",
   "metadata": {
    "id": "GuXTxbvdtzo2"
   },
   "source": [
    "# Question 5 (10 pts):\n",
    "\n",
    "Create a new pipeline named lr_pipe which encapsulates fe_pipe, any needed linear regression support objects, and a linear regression object. Linear regression support objects are anything you need over and above what is in fe_pipe in order to successfully run linear regression. Write some code that prints out the stage names of lr_pipe and fe_pipe such that it's easy for the graders to find and interpret. We don't expect to have to read code to interpret your results.\n",
    "\n",
    "Train and test lr_pipe using medical_df. To evaluate lr_pipe, first write a spark expression to compute MSE on the resulting fitted model. Second, use a built in spark evaluator object to compute MSE. Print out the results from both your expression and the built in evaluator object such that it's easy for the graders to find, interpret, and distinguish between the 2 test cases. We don't expect to have to reverse engineer your code to interpret the results."
   ]
  },
  {
   "cell_type": "code",
   "execution_count": 14,
   "metadata": {
    "id": "cjmW4Yinv1CK"
   },
   "outputs": [],
   "source": [
    "# your code here\n",
    "lr = regression.LinearRegression(featuresCol='features', labelCol='bmi')"
   ]
  },
  {
   "cell_type": "code",
   "execution_count": 15,
   "metadata": {},
   "outputs": [],
   "source": [
    "lr_pipe = Pipeline(stages=[fe_pipe, lr])"
   ]
  },
  {
   "cell_type": "code",
   "execution_count": 16,
   "metadata": {},
   "outputs": [
    {
     "data": {
      "text/plain": [
       "[Pipeline_ab2993b23abe, LinearRegression_1e6104b1b4ba]"
      ]
     },
     "execution_count": 16,
     "metadata": {},
     "output_type": "execute_result"
    }
   ],
   "source": [
    "lr_pipe.getStages()\n",
    "# lr_pipe.stages"
   ]
  },
  {
   "cell_type": "code",
   "execution_count": 17,
   "metadata": {},
   "outputs": [
    {
     "data": {
      "text/plain": [
       "[StringIndexer_f997303ca2f1,\n",
       " StringIndexer_8ff99da507cd,\n",
       " Pipeline_092012a4df1d,\n",
       " Pipeline_3b932a4be0c7]"
      ]
     },
     "execution_count": 17,
     "metadata": {},
     "output_type": "execute_result"
    }
   ],
   "source": [
    "fe_pipe.getStages()"
   ]
  },
  {
   "cell_type": "code",
   "execution_count": 18,
   "metadata": {},
   "outputs": [
    {
     "name": "stdout",
     "output_type": "stream",
     "text": [
      "+---+------+------+--------+------+---------+----------+\n",
      "|age|   sex|   bmi|children|smoker|   region|   charges|\n",
      "+---+------+------+--------+------+---------+----------+\n",
      "| 18|female| 20.79|       0|    no|southeast| 1607.5101|\n",
      "| 18|female| 21.66|       0|   yes|northeast|14283.4594|\n",
      "| 18|female| 24.09|       1|    no|southeast| 2201.0971|\n",
      "| 18|female| 25.08|       0|    no|northeast| 2196.4732|\n",
      "| 18|female|26.315|       0|    no|northeast|2198.18985|\n",
      "+---+------+------+--------+------+---------+----------+\n",
      "only showing top 5 rows\n",
      "\n",
      "+---+------+------+--------+------+---------+----------+\n",
      "|age|   sex|   bmi|children|smoker|   region|   charges|\n",
      "+---+------+------+--------+------+---------+----------+\n",
      "| 18|female| 36.85|       0|    no|southeast| 1629.8335|\n",
      "| 18|female| 36.85|       0|   yes|southeast|36149.4835|\n",
      "| 18|female| 39.82|       0|    no|southeast| 1633.9618|\n",
      "| 18|female|40.185|       0|    no|northeast|2217.46915|\n",
      "| 18|female| 40.26|       0|    no|southeast| 1634.5734|\n",
      "+---+------+------+--------+------+---------+----------+\n",
      "only showing top 5 rows\n",
      "\n"
     ]
    }
   ],
   "source": [
    "# Train\n",
    "training, test = medical_df.randomSplit([0.8, 0.2], 0)\n",
    "training.show(5)\n",
    "test.show(5)"
   ]
  },
  {
   "cell_type": "code",
   "execution_count": 19,
   "metadata": {},
   "outputs": [
    {
     "data": {
      "text/html": [
       "<div>\n",
       "<style scoped>\n",
       "    .dataframe tbody tr th:only-of-type {\n",
       "        vertical-align: middle;\n",
       "    }\n",
       "\n",
       "    .dataframe tbody tr th {\n",
       "        vertical-align: top;\n",
       "    }\n",
       "\n",
       "    .dataframe thead th {\n",
       "        text-align: right;\n",
       "    }\n",
       "</style>\n",
       "<table border=\"1\" class=\"dataframe\">\n",
       "  <thead>\n",
       "    <tr style=\"text-align: right;\">\n",
       "      <th></th>\n",
       "      <th>age</th>\n",
       "      <th>sex</th>\n",
       "      <th>bmi</th>\n",
       "      <th>children</th>\n",
       "      <th>smoker</th>\n",
       "      <th>region</th>\n",
       "      <th>charges</th>\n",
       "      <th>sexIndex</th>\n",
       "      <th>smokerIndex</th>\n",
       "      <th>regionIndex</th>\n",
       "      <th>OneHotRegion</th>\n",
       "      <th>features</th>\n",
       "      <th>prediction</th>\n",
       "    </tr>\n",
       "  </thead>\n",
       "  <tbody>\n",
       "    <tr>\n",
       "      <th>0</th>\n",
       "      <td>18</td>\n",
       "      <td>female</td>\n",
       "      <td>36.850</td>\n",
       "      <td>0</td>\n",
       "      <td>no</td>\n",
       "      <td>southeast</td>\n",
       "      <td>1629.83350</td>\n",
       "      <td>0.0</td>\n",
       "      <td>0.0</td>\n",
       "      <td>0.0</td>\n",
       "      <td>(1.0, 0.0, 0.0)</td>\n",
       "      <td>(18.0, 1629.8335, 0.0, 0.0, 1.0, 0.0, 0.0)</td>\n",
       "      <td>31.429146</td>\n",
       "    </tr>\n",
       "    <tr>\n",
       "      <th>1</th>\n",
       "      <td>18</td>\n",
       "      <td>female</td>\n",
       "      <td>36.850</td>\n",
       "      <td>0</td>\n",
       "      <td>yes</td>\n",
       "      <td>southeast</td>\n",
       "      <td>36149.48350</td>\n",
       "      <td>0.0</td>\n",
       "      <td>1.0</td>\n",
       "      <td>0.0</td>\n",
       "      <td>(1.0, 0.0, 0.0)</td>\n",
       "      <td>[18.0, 36149.4835, 0.0, 1.0, 1.0, 0.0, 0.0]</td>\n",
       "      <td>33.950689</td>\n",
       "    </tr>\n",
       "    <tr>\n",
       "      <th>2</th>\n",
       "      <td>18</td>\n",
       "      <td>female</td>\n",
       "      <td>39.820</td>\n",
       "      <td>0</td>\n",
       "      <td>no</td>\n",
       "      <td>southeast</td>\n",
       "      <td>1633.96180</td>\n",
       "      <td>0.0</td>\n",
       "      <td>0.0</td>\n",
       "      <td>0.0</td>\n",
       "      <td>(1.0, 0.0, 0.0)</td>\n",
       "      <td>(18.0, 1633.9618, 0.0, 0.0, 1.0, 0.0, 0.0)</td>\n",
       "      <td>31.430146</td>\n",
       "    </tr>\n",
       "    <tr>\n",
       "      <th>3</th>\n",
       "      <td>18</td>\n",
       "      <td>female</td>\n",
       "      <td>40.185</td>\n",
       "      <td>0</td>\n",
       "      <td>no</td>\n",
       "      <td>northeast</td>\n",
       "      <td>2217.46915</td>\n",
       "      <td>0.0</td>\n",
       "      <td>0.0</td>\n",
       "      <td>3.0</td>\n",
       "      <td>(0.0, 0.0, 0.0)</td>\n",
       "      <td>(18.0, 2217.46915, 0.0, 0.0, 0.0, 0.0, 0.0)</td>\n",
       "      <td>27.584765</td>\n",
       "    </tr>\n",
       "    <tr>\n",
       "      <th>4</th>\n",
       "      <td>18</td>\n",
       "      <td>female</td>\n",
       "      <td>40.260</td>\n",
       "      <td>0</td>\n",
       "      <td>no</td>\n",
       "      <td>southeast</td>\n",
       "      <td>1634.57340</td>\n",
       "      <td>0.0</td>\n",
       "      <td>0.0</td>\n",
       "      <td>0.0</td>\n",
       "      <td>(1.0, 0.0, 0.0)</td>\n",
       "      <td>(18.0, 1634.5734, 0.0, 0.0, 1.0, 0.0, 0.0)</td>\n",
       "      <td>31.430294</td>\n",
       "    </tr>\n",
       "  </tbody>\n",
       "</table>\n",
       "</div>"
      ],
      "text/plain": [
       "   age     sex     bmi  children smoker     region      charges  sexIndex  \\\n",
       "0   18  female  36.850         0     no  southeast   1629.83350       0.0   \n",
       "1   18  female  36.850         0    yes  southeast  36149.48350       0.0   \n",
       "2   18  female  39.820         0     no  southeast   1633.96180       0.0   \n",
       "3   18  female  40.185         0     no  northeast   2217.46915       0.0   \n",
       "4   18  female  40.260         0     no  southeast   1634.57340       0.0   \n",
       "\n",
       "   smokerIndex  regionIndex     OneHotRegion  \\\n",
       "0          0.0          0.0  (1.0, 0.0, 0.0)   \n",
       "1          1.0          0.0  (1.0, 0.0, 0.0)   \n",
       "2          0.0          0.0  (1.0, 0.0, 0.0)   \n",
       "3          0.0          3.0  (0.0, 0.0, 0.0)   \n",
       "4          0.0          0.0  (1.0, 0.0, 0.0)   \n",
       "\n",
       "                                      features  prediction  \n",
       "0   (18.0, 1629.8335, 0.0, 0.0, 1.0, 0.0, 0.0)   31.429146  \n",
       "1  [18.0, 36149.4835, 0.0, 1.0, 1.0, 0.0, 0.0]   33.950689  \n",
       "2   (18.0, 1633.9618, 0.0, 0.0, 1.0, 0.0, 0.0)   31.430146  \n",
       "3  (18.0, 2217.46915, 0.0, 0.0, 0.0, 0.0, 0.0)   27.584765  \n",
       "4   (18.0, 1634.5734, 0.0, 0.0, 1.0, 0.0, 0.0)   31.430294  "
      ]
     },
     "execution_count": 19,
     "metadata": {},
     "output_type": "execute_result"
    }
   ],
   "source": [
    "trained_medical_model = lr_pipe.fit(training)\n",
    "lr_predictions = trained_medical_model.transform(test)\n",
    "lr_predictions.toPandas().head()"
   ]
  },
  {
   "cell_type": "code",
   "execution_count": 20,
   "metadata": {},
   "outputs": [
    {
     "data": {
      "text/plain": [
       "[PipelineModel_8330c0da6ffb,\n",
       " LinearRegressionModel: uid=LinearRegression_1e6104b1b4ba, numFeatures=7]"
      ]
     },
     "execution_count": 20,
     "metadata": {},
     "output_type": "execute_result"
    }
   ],
   "source": [
    "trained_medical_model.stages"
   ]
  },
  {
   "cell_type": "code",
   "execution_count": 21,
   "metadata": {},
   "outputs": [
    {
     "name": "stdout",
     "output_type": "stream",
     "text": [
      "+------------------+\n",
      "|               mse|\n",
      "+------------------+\n",
      "|32.712207183982834|\n",
      "+------------------+\n",
      "\n"
     ]
    }
   ],
   "source": [
    "# MSE1\n",
    "mse = fn.mean((fn.col('bmi') - fn.col('prediction'))**2).alias('mse')\n",
    "lr_predictions.select(mse).show()"
   ]
  },
  {
   "cell_type": "code",
   "execution_count": 22,
   "metadata": {},
   "outputs": [
    {
     "name": "stdout",
     "output_type": "stream",
     "text": [
      "MSE = 32.712207183982834\n"
     ]
    }
   ],
   "source": [
    "# MSE2\n",
    "valuesAndPreds = lr_predictions.select(['bmi', 'prediction'])\n",
    "valuesAndPreds = valuesAndPreds.rdd.map(tuple)\n",
    "metrics = RegressionMetrics(valuesAndPreds)\n",
    "# Squared Error\n",
    "print(\"MSE = %s\" % metrics.meanSquaredError)"
   ]
  },
  {
   "cell_type": "markdown",
   "metadata": {
    "id": "5haz03BxxvKb"
   },
   "source": [
    "##### Grading Feedback Cell"
   ]
  },
  {
   "cell_type": "markdown",
   "metadata": {
    "id": "yBtmTx-PxwTL"
   },
   "source": [
    "# Question 6 (10 pts):\n",
    "The goal of this question is to build a pipeline which can be used to perform inference.  Create a new pipeline named inf_pipe which encapsulates fe_pipe and adds new spark ML statistical components, linear regression support components, and a linear regression object.  The goal is to compare linear regression coefficients between each other in order to learn something about the data set.  Exclude any features which are not useful to the analysis.  inf_pipe Shall use the charges column as the target.  Score inf_pipe using a spark built in evaluator with the MSE scoring metric.  The output dataframe shall be named inf_medical_df.\n",
    "\n",
    "Explanation:  First, explain what spark ML statistical component(s) you added to inf_pipe which were needed in order to be able to compare linear regression components between each other.  Second, explain what features you excluded from the analysis (if any) and why."
   ]
  },
  {
   "cell_type": "code",
   "execution_count": 23,
   "metadata": {
    "id": "FXhEMIbeztfL"
   },
   "outputs": [],
   "source": [
    "# Applies a standard scaler function to age & bmi and encapslate them with sexIndex; smokerIndex & OneHotRegion\n",
    "q6_features = Pipeline(stages=[feature.VectorAssembler(inputCols=['age', 'bmi'], \n",
    "                                                              outputCol = 'num_features'),\n",
    "                                      feature.StandardScaler(inputCol=\"num_features\", outputCol=\"scaledFeatures\"),\n",
    "                                      feature.VectorAssembler(inputCols=['scaledFeatures', 'sexIndex', 'smokerIndex', \n",
    "                                                                     'children'], \n",
    "                                                              outputCol = 'q6_features')])"
   ]
  },
  {
   "cell_type": "code",
   "execution_count": 24,
   "metadata": {},
   "outputs": [],
   "source": [
    "# Creating inf_pipe\n",
    "fe_pipe_q6 = Pipeline(stages=[sex_pipe, smoker_pipe, q6_features])"
   ]
  },
  {
   "cell_type": "code",
   "execution_count": 25,
   "metadata": {},
   "outputs": [
    {
     "data": {
      "text/html": [
       "<div>\n",
       "<style scoped>\n",
       "    .dataframe tbody tr th:only-of-type {\n",
       "        vertical-align: middle;\n",
       "    }\n",
       "\n",
       "    .dataframe tbody tr th {\n",
       "        vertical-align: top;\n",
       "    }\n",
       "\n",
       "    .dataframe thead th {\n",
       "        text-align: right;\n",
       "    }\n",
       "</style>\n",
       "<table border=\"1\" class=\"dataframe\">\n",
       "  <thead>\n",
       "    <tr style=\"text-align: right;\">\n",
       "      <th></th>\n",
       "      <th>age</th>\n",
       "      <th>sex</th>\n",
       "      <th>bmi</th>\n",
       "      <th>children</th>\n",
       "      <th>smoker</th>\n",
       "      <th>region</th>\n",
       "      <th>charges</th>\n",
       "      <th>sexIndex</th>\n",
       "      <th>smokerIndex</th>\n",
       "      <th>num_features</th>\n",
       "      <th>scaledFeatures</th>\n",
       "      <th>q6_features</th>\n",
       "    </tr>\n",
       "  </thead>\n",
       "  <tbody>\n",
       "    <tr>\n",
       "      <th>0</th>\n",
       "      <td>19</td>\n",
       "      <td>female</td>\n",
       "      <td>27.900</td>\n",
       "      <td>0</td>\n",
       "      <td>yes</td>\n",
       "      <td>southwest</td>\n",
       "      <td>16884.92400</td>\n",
       "      <td>1.0</td>\n",
       "      <td>1.0</td>\n",
       "      <td>[19.0, 27.9]</td>\n",
       "      <td>[1.352316980772868, 4.575130346786681]</td>\n",
       "      <td>[1.352316980772868, 4.575130346786681, 1.0, 1....</td>\n",
       "    </tr>\n",
       "    <tr>\n",
       "      <th>1</th>\n",
       "      <td>18</td>\n",
       "      <td>male</td>\n",
       "      <td>33.770</td>\n",
       "      <td>1</td>\n",
       "      <td>no</td>\n",
       "      <td>southeast</td>\n",
       "      <td>1725.55230</td>\n",
       "      <td>0.0</td>\n",
       "      <td>0.0</td>\n",
       "      <td>[18.0, 33.77]</td>\n",
       "      <td>[1.281142402837454, 5.537711534443951]</td>\n",
       "      <td>[1.281142402837454, 5.537711534443951, 0.0, 0....</td>\n",
       "    </tr>\n",
       "    <tr>\n",
       "      <th>2</th>\n",
       "      <td>28</td>\n",
       "      <td>male</td>\n",
       "      <td>33.000</td>\n",
       "      <td>3</td>\n",
       "      <td>no</td>\n",
       "      <td>southeast</td>\n",
       "      <td>4449.46200</td>\n",
       "      <td>0.0</td>\n",
       "      <td>0.0</td>\n",
       "      <td>[28.0, 33.0]</td>\n",
       "      <td>[1.9928881821915951, 5.411444496199301]</td>\n",
       "      <td>[1.9928881821915951, 5.411444496199301, 0.0, 0...</td>\n",
       "    </tr>\n",
       "    <tr>\n",
       "      <th>3</th>\n",
       "      <td>33</td>\n",
       "      <td>male</td>\n",
       "      <td>22.705</td>\n",
       "      <td>0</td>\n",
       "      <td>no</td>\n",
       "      <td>northwest</td>\n",
       "      <td>21984.47061</td>\n",
       "      <td>0.0</td>\n",
       "      <td>0.0</td>\n",
       "      <td>[33.0, 22.705]</td>\n",
       "      <td>[2.348761071868666, 3.7232377965516696]</td>\n",
       "      <td>(2.348761071868666, 3.7232377965516696, 0.0, 0...</td>\n",
       "    </tr>\n",
       "    <tr>\n",
       "      <th>4</th>\n",
       "      <td>32</td>\n",
       "      <td>male</td>\n",
       "      <td>28.880</td>\n",
       "      <td>0</td>\n",
       "      <td>no</td>\n",
       "      <td>northwest</td>\n",
       "      <td>3866.85520</td>\n",
       "      <td>0.0</td>\n",
       "      <td>0.0</td>\n",
       "      <td>[32.0, 28.88]</td>\n",
       "      <td>[2.2775864939332515, 4.735833850007145]</td>\n",
       "      <td>(2.2775864939332515, 4.735833850007145, 0.0, 0...</td>\n",
       "    </tr>\n",
       "  </tbody>\n",
       "</table>\n",
       "</div>"
      ],
      "text/plain": [
       "   age     sex     bmi  children smoker     region      charges  sexIndex  \\\n",
       "0   19  female  27.900         0    yes  southwest  16884.92400       1.0   \n",
       "1   18    male  33.770         1     no  southeast   1725.55230       0.0   \n",
       "2   28    male  33.000         3     no  southeast   4449.46200       0.0   \n",
       "3   33    male  22.705         0     no  northwest  21984.47061       0.0   \n",
       "4   32    male  28.880         0     no  northwest   3866.85520       0.0   \n",
       "\n",
       "   smokerIndex    num_features                           scaledFeatures  \\\n",
       "0          1.0    [19.0, 27.9]   [1.352316980772868, 4.575130346786681]   \n",
       "1          0.0   [18.0, 33.77]   [1.281142402837454, 5.537711534443951]   \n",
       "2          0.0    [28.0, 33.0]  [1.9928881821915951, 5.411444496199301]   \n",
       "3          0.0  [33.0, 22.705]  [2.348761071868666, 3.7232377965516696]   \n",
       "4          0.0   [32.0, 28.88]  [2.2775864939332515, 4.735833850007145]   \n",
       "\n",
       "                                         q6_features  \n",
       "0  [1.352316980772868, 4.575130346786681, 1.0, 1....  \n",
       "1  [1.281142402837454, 5.537711534443951, 0.0, 0....  \n",
       "2  [1.9928881821915951, 5.411444496199301, 0.0, 0...  \n",
       "3  (2.348761071868666, 3.7232377965516696, 0.0, 0...  \n",
       "4  (2.2775864939332515, 4.735833850007145, 0.0, 0...  "
      ]
     },
     "execution_count": 25,
     "metadata": {},
     "output_type": "execute_result"
    }
   ],
   "source": [
    "fitted_fe_pipe_q6 = fe_pipe_q6.fit(medical_df)\n",
    "inf_medical_df = fitted_fe_pipe_q6.transform(medical_df)\n",
    "inf_medical_df_pd = inf_medical_df.toPandas()\n",
    "inf_medical_df_pd.head()"
   ]
  },
  {
   "cell_type": "code",
   "execution_count": 26,
   "metadata": {},
   "outputs": [],
   "source": [
    "q6_lr = regression.LinearRegression(featuresCol='q6_features', labelCol='charges')\n",
    "inf_pipe = Pipeline(stages=[fe_pipe_q6, q6_lr])"
   ]
  },
  {
   "cell_type": "code",
   "execution_count": 27,
   "metadata": {},
   "outputs": [
    {
     "data": {
      "text/html": [
       "<div>\n",
       "<style scoped>\n",
       "    .dataframe tbody tr th:only-of-type {\n",
       "        vertical-align: middle;\n",
       "    }\n",
       "\n",
       "    .dataframe tbody tr th {\n",
       "        vertical-align: top;\n",
       "    }\n",
       "\n",
       "    .dataframe thead th {\n",
       "        text-align: right;\n",
       "    }\n",
       "</style>\n",
       "<table border=\"1\" class=\"dataframe\">\n",
       "  <thead>\n",
       "    <tr style=\"text-align: right;\">\n",
       "      <th></th>\n",
       "      <th>age</th>\n",
       "      <th>sex</th>\n",
       "      <th>bmi</th>\n",
       "      <th>children</th>\n",
       "      <th>smoker</th>\n",
       "      <th>region</th>\n",
       "      <th>charges</th>\n",
       "      <th>sexIndex</th>\n",
       "      <th>smokerIndex</th>\n",
       "      <th>num_features</th>\n",
       "      <th>scaledFeatures</th>\n",
       "      <th>q6_features</th>\n",
       "      <th>prediction</th>\n",
       "    </tr>\n",
       "  </thead>\n",
       "  <tbody>\n",
       "    <tr>\n",
       "      <th>0</th>\n",
       "      <td>18</td>\n",
       "      <td>female</td>\n",
       "      <td>36.850</td>\n",
       "      <td>0</td>\n",
       "      <td>no</td>\n",
       "      <td>southeast</td>\n",
       "      <td>1629.83350</td>\n",
       "      <td>0.0</td>\n",
       "      <td>0.0</td>\n",
       "      <td>[18.0, 36.85]</td>\n",
       "      <td>[1.2719389142106288, 6.1218434925164305]</td>\n",
       "      <td>(1.2719389142106288, 6.1218434925164305, 0.0, ...</td>\n",
       "      <td>3942.752887</td>\n",
       "    </tr>\n",
       "    <tr>\n",
       "      <th>1</th>\n",
       "      <td>18</td>\n",
       "      <td>female</td>\n",
       "      <td>36.850</td>\n",
       "      <td>0</td>\n",
       "      <td>yes</td>\n",
       "      <td>southeast</td>\n",
       "      <td>36149.48350</td>\n",
       "      <td>0.0</td>\n",
       "      <td>1.0</td>\n",
       "      <td>[18.0, 36.85]</td>\n",
       "      <td>[1.2719389142106288, 6.1218434925164305]</td>\n",
       "      <td>[1.2719389142106288, 6.1218434925164305, 0.0, ...</td>\n",
       "      <td>28331.722865</td>\n",
       "    </tr>\n",
       "    <tr>\n",
       "      <th>2</th>\n",
       "      <td>18</td>\n",
       "      <td>female</td>\n",
       "      <td>39.820</td>\n",
       "      <td>0</td>\n",
       "      <td>no</td>\n",
       "      <td>southeast</td>\n",
       "      <td>1633.96180</td>\n",
       "      <td>0.0</td>\n",
       "      <td>0.0</td>\n",
       "      <td>[18.0, 39.82]</td>\n",
       "      <td>[1.2719389142106288, 6.6152458038535755]</td>\n",
       "      <td>(1.2719389142106288, 6.6152458038535755, 0.0, ...</td>\n",
       "      <td>4757.178858</td>\n",
       "    </tr>\n",
       "    <tr>\n",
       "      <th>3</th>\n",
       "      <td>18</td>\n",
       "      <td>female</td>\n",
       "      <td>40.185</td>\n",
       "      <td>0</td>\n",
       "      <td>no</td>\n",
       "      <td>northeast</td>\n",
       "      <td>2217.46915</td>\n",
       "      <td>0.0</td>\n",
       "      <td>0.0</td>\n",
       "      <td>[18.0, 40.185]</td>\n",
       "      <td>[1.2719389142106288, 6.675882788243494]</td>\n",
       "      <td>(1.2719389142106288, 6.675882788243494, 0.0, 0...</td>\n",
       "      <td>4857.268244</td>\n",
       "    </tr>\n",
       "    <tr>\n",
       "      <th>4</th>\n",
       "      <td>18</td>\n",
       "      <td>female</td>\n",
       "      <td>40.260</td>\n",
       "      <td>0</td>\n",
       "      <td>no</td>\n",
       "      <td>southeast</td>\n",
       "      <td>1634.57340</td>\n",
       "      <td>0.0</td>\n",
       "      <td>0.0</td>\n",
       "      <td>[18.0, 40.26]</td>\n",
       "      <td>[1.2719389142106288, 6.688342442570189]</td>\n",
       "      <td>(1.2719389142106288, 6.688342442570189, 0.0, 0...</td>\n",
       "      <td>4877.834557</td>\n",
       "    </tr>\n",
       "  </tbody>\n",
       "</table>\n",
       "</div>"
      ],
      "text/plain": [
       "   age     sex     bmi  children smoker     region      charges  sexIndex  \\\n",
       "0   18  female  36.850         0     no  southeast   1629.83350       0.0   \n",
       "1   18  female  36.850         0    yes  southeast  36149.48350       0.0   \n",
       "2   18  female  39.820         0     no  southeast   1633.96180       0.0   \n",
       "3   18  female  40.185         0     no  northeast   2217.46915       0.0   \n",
       "4   18  female  40.260         0     no  southeast   1634.57340       0.0   \n",
       "\n",
       "   smokerIndex    num_features                            scaledFeatures  \\\n",
       "0          0.0   [18.0, 36.85]  [1.2719389142106288, 6.1218434925164305]   \n",
       "1          1.0   [18.0, 36.85]  [1.2719389142106288, 6.1218434925164305]   \n",
       "2          0.0   [18.0, 39.82]  [1.2719389142106288, 6.6152458038535755]   \n",
       "3          0.0  [18.0, 40.185]   [1.2719389142106288, 6.675882788243494]   \n",
       "4          0.0   [18.0, 40.26]   [1.2719389142106288, 6.688342442570189]   \n",
       "\n",
       "                                         q6_features    prediction  \n",
       "0  (1.2719389142106288, 6.1218434925164305, 0.0, ...   3942.752887  \n",
       "1  [1.2719389142106288, 6.1218434925164305, 0.0, ...  28331.722865  \n",
       "2  (1.2719389142106288, 6.6152458038535755, 0.0, ...   4757.178858  \n",
       "3  (1.2719389142106288, 6.675882788243494, 0.0, 0...   4857.268244  \n",
       "4  (1.2719389142106288, 6.688342442570189, 0.0, 0...   4877.834557  "
      ]
     },
     "execution_count": 27,
     "metadata": {},
     "output_type": "execute_result"
    }
   ],
   "source": [
    "# Train & Test\n",
    "trained_inf_model = inf_pipe.fit(training)\n",
    "inf_predictions = trained_inf_model.transform(test)\n",
    "inf_predictions.toPandas().head()"
   ]
  },
  {
   "cell_type": "code",
   "execution_count": 28,
   "metadata": {},
   "outputs": [
    {
     "name": "stdout",
     "output_type": "stream",
     "text": [
      "MSE = 43620997.90325987\n"
     ]
    }
   ],
   "source": [
    "# MSE\n",
    "valuesAndPreds2 = inf_predictions.select(['charges', 'prediction'])\n",
    "valuesAndPreds2 = valuesAndPreds2.rdd.map(tuple)\n",
    "metrics2 = RegressionMetrics(valuesAndPreds2)\n",
    "# Squared Error\n",
    "print(\"MSE = %s\" % metrics2.meanSquaredError)"
   ]
  },
  {
   "cell_type": "code",
   "execution_count": 29,
   "metadata": {},
   "outputs": [
    {
     "name": "stdout",
     "output_type": "stream",
     "text": [
      "[3649.054229520611,1650.6326618857358,36.0213912796889,24388.96997779223,482.13751364019623]\n"
     ]
    }
   ],
   "source": [
    "print(trained_inf_model.stages[-1].coefficients)"
   ]
  },
  {
   "cell_type": "code",
   "execution_count": 30,
   "metadata": {
    "id": "GQpiOXVDGc-N"
   },
   "outputs": [
    {
     "name": "stdout",
     "output_type": "stream",
     "text": [
      "+---+------+------+--------+------+---------+-----------+--------+-----------+-------------+--------------------+--------------------+\n",
      "|age|   sex|   bmi|children|smoker|   region|    charges|sexIndex|smokerIndex| num_features|      scaledFeatures|         q6_features|\n",
      "+---+------+------+--------+------+---------+-----------+--------+-----------+-------------+--------------------+--------------------+\n",
      "| 19|female|  27.9|       0|   yes|southwest|  16884.924|     1.0|        1.0|  [19.0,27.9]|[1.35231698077286...|[1.35231698077286...|\n",
      "| 18|  male| 33.77|       1|    no|southeast|  1725.5523|     0.0|        0.0| [18.0,33.77]|[1.28114240283745...|[1.28114240283745...|\n",
      "| 28|  male|  33.0|       3|    no|southeast|   4449.462|     0.0|        0.0|  [28.0,33.0]|[1.99288818219159...|[1.99288818219159...|\n",
      "| 33|  male|22.705|       0|    no|northwest|21984.47061|     0.0|        0.0|[33.0,22.705]|[2.34876107186866...|(5,[0,1],[2.34876...|\n",
      "| 32|  male| 28.88|       0|    no|northwest|  3866.8552|     0.0|        0.0| [32.0,28.88]|[2.27758649393325...|(5,[0,1],[2.27758...|\n",
      "| 31|female| 25.74|       0|    no|southeast|  3756.6216|     1.0|        0.0| [31.0,25.74]|[2.20641191599783...|[2.20641191599783...|\n",
      "| 46|female| 33.44|       1|    no|southeast|  8240.5896|     1.0|        0.0| [46.0,33.44]|[3.27403058502904...|[3.27403058502904...|\n",
      "| 37|female| 27.74|       3|    no|northwest|  7281.5056|     1.0|        0.0| [37.0,27.74]|[2.63345938361032...|[2.63345938361032...|\n",
      "| 37|  male| 29.83|       2|    no|northeast|  6406.4107|     0.0|        0.0| [37.0,29.83]|[2.63345938361032...|[2.63345938361032...|\n",
      "| 60|female| 25.84|       0|    no|northwest|28923.13692|     1.0|        0.0| [60.0,25.84]|[4.27047467612484...|[4.27047467612484...|\n",
      "+---+------+------+--------+------+---------+-----------+--------+-----------+-------------+--------------------+--------------------+\n",
      "only showing top 10 rows\n",
      "\n"
     ]
    },
    {
     "data": {
      "text/plain": [
       "None"
      ]
     },
     "metadata": {},
     "output_type": "display_data"
    }
   ],
   "source": [
    "# Grading cell do not modify\n",
    "display(inf_medical_df.show(10))"
   ]
  },
  {
   "cell_type": "markdown",
   "metadata": {
    "id": "-SKb8gppzRj5"
   },
   "source": [
    "##### Grading Feedback Cell"
   ]
  },
  {
   "cell_type": "markdown",
   "metadata": {
    "id": "FhnmwBjdHN9q"
   },
   "source": [
    "Your explanation here:<br>\n",
    "\n",
    "I applied the standard scaler function to age & charges because they all have different units and Linear regression does not require standardization for training but it does allow you to compare the resulting coefficients to each other. Besides that, I excluded 'region' from the analysis because it has no coefficient with 'charges' in other words, it does not make sense when we try to predict charges in this analysis."
   ]
  },
  {
   "cell_type": "markdown",
   "metadata": {
    "id": "leYY0H_o-euV"
   },
   "source": [
    "##### Grading Feedback Cell"
   ]
  },
  {
   "cell_type": "markdown",
   "metadata": {
    "id": "k_iy5WPS75r_"
   },
   "source": [
    "# Question 7 (10 pts):\n",
    "Extract the linear regression coefficients from inf_pipe and collect them in a pandas dataframe named inf_pd.  The inf_pd dataframe shall have 2 columns: predictor and value.  Load the predictor column with the name of the coefficient and the value column with the linear coefficient values from the linear regression model.  Sort inf_pd by the value column in ascending order. "
   ]
  },
  {
   "cell_type": "code",
   "execution_count": 31,
   "metadata": {
    "id": "YRvXiLfq8jYW"
   },
   "outputs": [],
   "source": [
    "# your code here\n",
    "value = np.array(trained_inf_model.stages[-1].coefficients)\n",
    "predictor = np.array(['age', 'bmi','sex', 'smoker','children'])\n",
    "inf_pd = pd.DataFrame({'predictor':predictor, 'value':value})"
   ]
  },
  {
   "cell_type": "code",
   "execution_count": 32,
   "metadata": {},
   "outputs": [],
   "source": [
    "inf_pd = inf_pd.sort_values(by='value', ascending=True)"
   ]
  },
  {
   "cell_type": "code",
   "execution_count": 33,
   "metadata": {
    "id": "nMXr3Eyl-bth"
   },
   "outputs": [
    {
     "data": {
      "text/html": [
       "<div>\n",
       "<style scoped>\n",
       "    .dataframe tbody tr th:only-of-type {\n",
       "        vertical-align: middle;\n",
       "    }\n",
       "\n",
       "    .dataframe tbody tr th {\n",
       "        vertical-align: top;\n",
       "    }\n",
       "\n",
       "    .dataframe thead th {\n",
       "        text-align: right;\n",
       "    }\n",
       "</style>\n",
       "<table border=\"1\" class=\"dataframe\">\n",
       "  <thead>\n",
       "    <tr style=\"text-align: right;\">\n",
       "      <th></th>\n",
       "      <th>predictor</th>\n",
       "      <th>value</th>\n",
       "    </tr>\n",
       "  </thead>\n",
       "  <tbody>\n",
       "    <tr>\n",
       "      <th>2</th>\n",
       "      <td>sex</td>\n",
       "      <td>36.021391</td>\n",
       "    </tr>\n",
       "    <tr>\n",
       "      <th>4</th>\n",
       "      <td>children</td>\n",
       "      <td>482.137514</td>\n",
       "    </tr>\n",
       "    <tr>\n",
       "      <th>1</th>\n",
       "      <td>bmi</td>\n",
       "      <td>1650.632662</td>\n",
       "    </tr>\n",
       "    <tr>\n",
       "      <th>0</th>\n",
       "      <td>age</td>\n",
       "      <td>3649.054230</td>\n",
       "    </tr>\n",
       "    <tr>\n",
       "      <th>3</th>\n",
       "      <td>smoker</td>\n",
       "      <td>24388.969978</td>\n",
       "    </tr>\n",
       "  </tbody>\n",
       "</table>\n",
       "</div>"
      ],
      "text/plain": [
       "  predictor         value\n",
       "2       sex     36.021391\n",
       "4  children    482.137514\n",
       "1       bmi   1650.632662\n",
       "0       age   3649.054230\n",
       "3    smoker  24388.969978"
      ]
     },
     "metadata": {},
     "output_type": "display_data"
    }
   ],
   "source": [
    "# Grading cell do not modify\n",
    "display(inf_pd)"
   ]
  },
  {
   "cell_type": "markdown",
   "metadata": {
    "id": "f4y6fhJU8izn"
   },
   "source": [
    "##### Grading Feedback Cell"
   ]
  },
  {
   "cell_type": "markdown",
   "metadata": {
    "id": "n8d5LBq2zu6s"
   },
   "source": [
    "# Question 8 (10 pts):\n",
    "Create a new dataframe named strat_med_df (stratified medical dataframe) by adding a new column to fe_medical_df named rate_pool.  Create the rate_pool column by stratifying the charges column into charges greater than and less than the median of the charges column.  Assign an integer 0 to charges that are less than or equal to the median, and a 1 to charges greater than the median.  What is the most important positive and negative predictors?"
   ]
  },
  {
   "cell_type": "code",
   "execution_count": 34,
   "metadata": {
    "id": "HQp5Ezyr2r5g"
   },
   "outputs": [],
   "source": [
    "# your code here\n",
    "chagres_median = median(inf_medical_df_pd['charges'])"
   ]
  },
  {
   "cell_type": "code",
   "execution_count": 35,
   "metadata": {},
   "outputs": [],
   "source": [
    "strat_med_df = inf_medical_df.withColumn(\"rate_pool\", \\\n",
    "   when((inf_medical_df.charges <= chagres_median), lit(0)) \\\n",
    "     .when((inf_medical_df.charges > chagres_median), lit(1)) \\\n",
    "  )"
   ]
  },
  {
   "cell_type": "code",
   "execution_count": 36,
   "metadata": {
    "id": "-WXnRUWx2s9F"
   },
   "outputs": [
    {
     "name": "stdout",
     "output_type": "stream",
     "text": [
      "+---+------+------+--------+------+---------+-----------+--------+-----------+-------------+--------------------+--------------------+---------+\n",
      "|age|   sex|   bmi|children|smoker|   region|    charges|sexIndex|smokerIndex| num_features|      scaledFeatures|         q6_features|rate_pool|\n",
      "+---+------+------+--------+------+---------+-----------+--------+-----------+-------------+--------------------+--------------------+---------+\n",
      "| 19|female|  27.9|       0|   yes|southwest|  16884.924|     1.0|        1.0|  [19.0,27.9]|[1.35231698077286...|[1.35231698077286...|        1|\n",
      "| 18|  male| 33.77|       1|    no|southeast|  1725.5523|     0.0|        0.0| [18.0,33.77]|[1.28114240283745...|[1.28114240283745...|        0|\n",
      "| 28|  male|  33.0|       3|    no|southeast|   4449.462|     0.0|        0.0|  [28.0,33.0]|[1.99288818219159...|[1.99288818219159...|        0|\n",
      "| 33|  male|22.705|       0|    no|northwest|21984.47061|     0.0|        0.0|[33.0,22.705]|[2.34876107186866...|(5,[0,1],[2.34876...|        1|\n",
      "| 32|  male| 28.88|       0|    no|northwest|  3866.8552|     0.0|        0.0| [32.0,28.88]|[2.27758649393325...|(5,[0,1],[2.27758...|        0|\n",
      "| 31|female| 25.74|       0|    no|southeast|  3756.6216|     1.0|        0.0| [31.0,25.74]|[2.20641191599783...|[2.20641191599783...|        0|\n",
      "| 46|female| 33.44|       1|    no|southeast|  8240.5896|     1.0|        0.0| [46.0,33.44]|[3.27403058502904...|[3.27403058502904...|        0|\n",
      "| 37|female| 27.74|       3|    no|northwest|  7281.5056|     1.0|        0.0| [37.0,27.74]|[2.63345938361032...|[2.63345938361032...|        0|\n",
      "| 37|  male| 29.83|       2|    no|northeast|  6406.4107|     0.0|        0.0| [37.0,29.83]|[2.63345938361032...|[2.63345938361032...|        0|\n",
      "| 60|female| 25.84|       0|    no|northwest|28923.13692|     1.0|        0.0| [60.0,25.84]|[4.27047467612484...|[4.27047467612484...|        1|\n",
      "+---+------+------+--------+------+---------+-----------+--------+-----------+-------------+--------------------+--------------------+---------+\n",
      "only showing top 10 rows\n",
      "\n"
     ]
    },
    {
     "data": {
      "text/plain": [
       "None"
      ]
     },
     "metadata": {},
     "output_type": "display_data"
    },
    {
     "name": "stdout",
     "output_type": "stream",
     "text": [
      "root\n",
      " |-- age: integer (nullable = true)\n",
      " |-- sex: string (nullable = true)\n",
      " |-- bmi: double (nullable = true)\n",
      " |-- children: integer (nullable = true)\n",
      " |-- smoker: string (nullable = true)\n",
      " |-- region: string (nullable = true)\n",
      " |-- charges: double (nullable = true)\n",
      " |-- sexIndex: double (nullable = false)\n",
      " |-- smokerIndex: double (nullable = false)\n",
      " |-- num_features: vector (nullable = true)\n",
      " |-- scaledFeatures: vector (nullable = true)\n",
      " |-- q6_features: vector (nullable = true)\n",
      " |-- rate_pool: integer (nullable = true)\n",
      "\n"
     ]
    }
   ],
   "source": [
    "# grading cell do not modify\n",
    "display(strat_med_df.show(10))\n",
    "strat_med_df.printSchema()"
   ]
  },
  {
   "cell_type": "markdown",
   "metadata": {
    "id": "8fnqOc0bkl3F"
   },
   "source": [
    "##### Grading Feedback Cell"
   ]
  },
  {
   "cell_type": "markdown",
   "metadata": {
    "id": "cmxzcs87km4l"
   },
   "source": [
    "Your most important positive / negative predictor here:<br>\n",
    "\n",
    "The most positive predictor is 'smoker'; on the other hand, the most negative predictor is 'sex'."
   ]
  },
  {
   "cell_type": "markdown",
   "metadata": {
    "id": "qZTiOLnEksPJ"
   },
   "source": [
    "##### Grading Feedback Cell"
   ]
  },
  {
   "cell_type": "markdown",
   "metadata": {
    "id": "QV-Y1HMT24VN"
   },
   "source": [
    "# Question 9 (10 pts):\n",
    "Create a new pipeline named strat_pipe which predicts the rate_pool column in strat_med_df.  Train and test strat_pipe using strat_med_df.  Score strat_pipe using a built in spark evaluator, 3 fold cross validation, and an AUC (area under the ROC curve) scoring metric. "
   ]
  },
  {
   "cell_type": "code",
   "execution_count": 37,
   "metadata": {},
   "outputs": [
    {
     "name": "stdout",
     "output_type": "stream",
     "text": [
      "+---+------+------+--------+------+---------+----------+--------+-----------+-------------+--------------------+--------------------+---------+\n",
      "|age|   sex|   bmi|children|smoker|   region|   charges|sexIndex|smokerIndex| num_features|      scaledFeatures|         q6_features|rate_pool|\n",
      "+---+------+------+--------+------+---------+----------+--------+-----------+-------------+--------------------+--------------------+---------+\n",
      "| 18|female| 20.79|       0|    no|southeast| 1607.5101|     1.0|        0.0| [18.0,20.79]|[1.28114240283745...|[1.28114240283745...|        0|\n",
      "| 18|female| 21.66|       0|   yes|northeast|14283.4594|     1.0|        1.0| [18.0,21.66]|[1.28114240283745...|[1.28114240283745...|        1|\n",
      "| 18|female| 24.09|       1|    no|southeast| 2201.0971|     1.0|        0.0| [18.0,24.09]|[1.28114240283745...|[1.28114240283745...|        0|\n",
      "| 18|female| 25.08|       0|    no|northeast| 2196.4732|     1.0|        0.0| [18.0,25.08]|[1.28114240283745...|[1.28114240283745...|        0|\n",
      "| 18|female|26.315|       0|    no|northeast|2198.18985|     1.0|        0.0|[18.0,26.315]|[1.28114240283745...|[1.28114240283745...|        0|\n",
      "+---+------+------+--------+------+---------+----------+--------+-----------+-------------+--------------------+--------------------+---------+\n",
      "only showing top 5 rows\n",
      "\n",
      "+---+------+------+--------+------+---------+-----------+--------+-----------+-------------+--------------------+--------------------+---------+\n",
      "|age|   sex|   bmi|children|smoker|   region|    charges|sexIndex|smokerIndex| num_features|      scaledFeatures|         q6_features|rate_pool|\n",
      "+---+------+------+--------+------+---------+-----------+--------+-----------+-------------+--------------------+--------------------+---------+\n",
      "| 18|female| 26.73|       0|    no|southeast|  1615.7667|     1.0|        0.0| [18.0,26.73]|[1.28114240283745...|[1.28114240283745...|        0|\n",
      "| 18|female|29.165|       0|    no|northeast|7323.734819|     1.0|        0.0|[18.0,29.165]|[1.28114240283745...|[1.28114240283745...|        0|\n",
      "| 18|female|30.115|       0|    no|northeast| 2203.47185|     1.0|        0.0|[18.0,30.115]|[1.28114240283745...|[1.28114240283745...|        0|\n",
      "| 18|female|30.305|       0|    no|northeast| 2203.73595|     1.0|        0.0|[18.0,30.305]|[1.28114240283745...|[1.28114240283745...|        0|\n",
      "| 18|female| 32.12|       2|    no|southeast|  2801.2588|     1.0|        0.0| [18.0,32.12]|[1.28114240283745...|[1.28114240283745...|        0|\n",
      "+---+------+------+--------+------+---------+-----------+--------+-----------+-------------+--------------------+--------------------+---------+\n",
      "only showing top 5 rows\n",
      "\n"
     ]
    }
   ],
   "source": [
    "# Train\n",
    "train, test = strat_med_df.randomSplit([0.8, 0.2], )\n",
    "train.show(5)\n",
    "test.show(5)"
   ]
  },
  {
   "cell_type": "code",
   "execution_count": 38,
   "metadata": {},
   "outputs": [],
   "source": [
    "q9_lr = classification.LogisticRegression(featuresCol='q6_features', labelCol='rate_pool')\n",
    "strat_pipe = Pipeline(stages=[q9_lr])"
   ]
  },
  {
   "cell_type": "code",
   "execution_count": 39,
   "metadata": {},
   "outputs": [],
   "source": [
    "paramGrid = ParamGridBuilder() \\\n",
    "    .addGrid(q9_lr.elasticNetParam, [0., 0.01, 0.1]) \\\n",
    "    .addGrid(q9_lr.regParam, [0.1, 0.01, 0.001, 0.0001]) \\\n",
    "    .build()"
   ]
  },
  {
   "cell_type": "code",
   "execution_count": 40,
   "metadata": {
    "id": "gyZwprs_7mVd"
   },
   "outputs": [],
   "source": [
    "# evaluator = RegressionEvaluator(predictionCol=\"prediction\", labelCol=\"rate_pool\")\n",
    "evaluator = BinaryClassificationEvaluator(labelCol=q9_lr.getLabelCol(), rawPredictionCol=q9_lr.getRawPredictionCol())\n",
    "crossval = CrossValidator(estimator = strat_pipe, \n",
    "                          estimatorParamMaps = paramGrid, \n",
    "                          evaluator = evaluator, \n",
    "                          numFolds=3)"
   ]
  },
  {
   "cell_type": "code",
   "execution_count": 41,
   "metadata": {},
   "outputs": [],
   "source": [
    "final_model_fitted = crossval.fit(train)"
   ]
  },
  {
   "cell_type": "code",
   "execution_count": 42,
   "metadata": {},
   "outputs": [
    {
     "data": {
      "text/plain": [
       "[0.9422931292874626,\n",
       " 0.9437817509167474,\n",
       " 0.9448285784056127,\n",
       " 0.9449701056124067,\n",
       " 0.942478032494432,\n",
       " 0.943893232087974,\n",
       " 0.9449285916998311,\n",
       " 0.9448440886994792,\n",
       " 0.9423179307475862,\n",
       " 0.9437896995198802,\n",
       " 0.944859985905745,\n",
       " 0.9449975844063163]"
      ]
     },
     "execution_count": 42,
     "metadata": {},
     "output_type": "execute_result"
    }
   ],
   "source": [
    "final_model_fitted.avgMetrics"
   ]
  },
  {
   "cell_type": "code",
   "execution_count": 43,
   "metadata": {},
   "outputs": [
    {
     "data": {
      "text/plain": [
       "0.9561911446452601"
      ]
     },
     "execution_count": 43,
     "metadata": {},
     "output_type": "execute_result"
    }
   ],
   "source": [
    "final_model_tested = final_model_fitted.transform(test)\n",
    "evaluator.evaluate(final_model_tested)"
   ]
  },
  {
   "cell_type": "code",
   "execution_count": 44,
   "metadata": {},
   "outputs": [
    {
     "data": {
      "text/plain": [
       "DenseVector([2.2843, 0.051, 0.253, 10.3525, 0.1336])"
      ]
     },
     "execution_count": 44,
     "metadata": {},
     "output_type": "execute_result"
    }
   ],
   "source": [
    "trainingCoe = final_model_fitted.bestModel.stages[-1].coefficients\n",
    "trainingCoe"
   ]
  },
  {
   "cell_type": "markdown",
   "metadata": {
    "id": "dTgi9ENM7pmF"
   },
   "source": [
    "##### Grading Feedback Cell"
   ]
  },
  {
   "cell_type": "markdown",
   "metadata": {
    "id": "OBbkbrH87nXz"
   },
   "source": [
    "# Question 10 (10 pts):\n",
    "Create an ROC plot from the results of question 9 above.  Explain the process of how a ROC curve is created (don't tell me how your code works, tell me how a ROC curve is created).  Describe the main points of how a ROC curve is created and convince me that you understand the high level process of how to create a ROC curve."
   ]
  },
  {
   "cell_type": "code",
   "execution_count": 46,
   "metadata": {},
   "outputs": [
    {
     "data": {
      "text/plain": [
       "LogisticRegressionModel: uid=LogisticRegression_00b5cf67739b, numClasses=2, numFeatures=5"
      ]
     },
     "execution_count": 46,
     "metadata": {},
     "output_type": "execute_result"
    }
   ],
   "source": [
    "final_model_fitted.bestModel.stages[-1]"
   ]
  },
  {
   "cell_type": "code",
   "execution_count": 143,
   "metadata": {},
   "outputs": [],
   "source": [
    "# final_model_fitted.bestModel.stages[-1].summary.roc.select('FPR').collect()\n",
    "# final_model_fitted.bestModel.stages[-1].summary.roc.select('TPR').collect()"
   ]
  },
  {
   "cell_type": "code",
   "execution_count": 47,
   "metadata": {},
   "outputs": [
    {
     "data": {
      "image/png": "[encoded data removed]",
      "text/plain": [
       "<Figure size 360x360 with 1 Axes>"
      ]
     },
     "metadata": {
      "needs_background": "light"
     },
     "output_type": "display_data"
    }
   ],
   "source": [
    "# ROC Plot\n",
    "plt.figure(figsize=(5,5))\n",
    "plt.plot([0, 1], [0, 1], 'r--')\n",
    "plt.plot(final_model_fitted.bestModel.stages[-1].summary.roc.select('FPR').collect(),\n",
    "         final_model_fitted.bestModel.stages[-1].summary.roc.select('TPR').collect())\n",
    "plt.xlabel('FPR')\n",
    "plt.ylabel('TPR')\n",
    "plt.show()"
   ]
  },
  {
   "cell_type": "markdown",
   "metadata": {
    "id": "35BGmLtI76Uv"
   },
   "source": [
    "##### Grading Feedback Cell"
   ]
  },
  {
   "cell_type": "markdown",
   "metadata": {
    "id": "6uvo0HATJNT4"
   },
   "source": [
    "Your explanation here:<br>\n",
    "\n",
    "An ROC curve is able to show the performance of a classification model at all classification thresholds. This curve plots two parameters: True Positive Rate. False Positive Rate. For example, in logistic regression, the threshold would be the predicted probability of an observation belonging to the positive class.\n",
    "\n",
    "The step to create a ROC curve:\n",
    "1. Fit the logistic Regression Model.\n",
    "2. Calculate the true positive rate and the false positive rate and create a ROC curve.\n",
    "3. Calculate the AUC\n",
    "\n",
    "The Area Under the Curve (AUC) represents the performance.AUC ROC can be interpreted as the probability that the scores given by a classifier will rank a randomly chosen positive instance higher than a randomly chosen negative one.The AUC for the red diagonal line represents the “random guess” performance."
   ]
  },
  {
   "cell_type": "markdown",
   "metadata": {
    "id": "HEubEo5_JQ1M"
   },
   "source": [
    "##### Grading Feedback Cell"
   ]
  },
  {
   "cell_type": "markdown",
   "metadata": {
    "id": "KnQXiDkemx1N"
   },
   "source": [
    "**Extra Credit (5 pts)**  This question is optional.  If you choose to answer this question, you will earn 5 extra credit points.  If you choose not to answer this question, no points will be deducted from your score.  Solve the following equation for $c$ symbolically using the python sympy package.  Convert the solved symbolic solution to a latex format (this can be done with a python call), then populate the solution cell with the resulting latex code so that your solution shows up symbolically - similar the way that the equation below is rendered.\n",
    "\n",
    "$$c g - c h + e \\left(a + 1\\right)^{b} - \\frac{d \\left(\\left(a + 1\\right)^{b} - 1\\right)}{a} + \\frac{f \\left(\\left(a + 1\\right)^{b} - 1\\right)}{a} = 0$$"
   ]
  },
  {
   "cell_type": "code",
   "execution_count": null,
   "metadata": {
    "id": "SdyNKkGomx1N"
   },
   "outputs": [],
   "source": [
    "# your code here"
   ]
  },
  {
   "cell_type": "markdown",
   "metadata": {
    "id": "c0adWRGnmx1N"
   },
   "source": [
    "Your solved equation in latex here such that it renders as a human readable equation:<br>\n"
   ]
  }
 ],
 "metadata": {
  "colab": {
   "collapsed_sections": [],
   "provenance": []
  },
  "kernelspec": {
   "display_name": "Python 3",
   "language": "python",
   "name": "python3"
  },
  "language_info": {
   "codemirror_mode": {
    "name": "ipython",
    "version": 3
   },
   "file_extension": ".py",
   "mimetype": "text/x-python",
   "name": "python",
   "nbconvert_exporter": "python",
   "pygments_lexer": "ipython3",
   "version": "3.8.8"
  },
  "latex_envs": {
   "LaTeX_envs_menu_present": true,
   "autoclose": false,
   "autocomplete": true,
   "bibliofile": "biblio.bib",
   "cite_by": "apalike",
   "current_citInitial": 1,
   "eqLabelWithNumbers": true,
   "eqNumInitial": 1,
   "hotkeys": {
    "equation": "Ctrl-E",
    "itemize": "Ctrl-I"
   },
   "labels_anchors": false,
   "latex_user_defs": false,
   "report_style_numbering": false,
   "user_envs_cfg": false
  },
  "toc": {
   "base_numbering": 1,
   "nav_menu": {},
   "number_sections": true,
   "sideBar": true,
   "skip_h1_title": false,
   "title_cell": "Table of Contents",
   "title_sidebar": "Contents",
   "toc_cell": false,
   "toc_position": {},
   "toc_section_display": true,
   "toc_window_display": false
  }
 },
 "nbformat": 4,
 "nbformat_minor": 1
}
